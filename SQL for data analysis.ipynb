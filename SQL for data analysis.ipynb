{
 "cells": [
  {
   "cell_type": "markdown",
   "id": "598105fb",
   "metadata": {},
   "source": [
    "1. Who is the senior most employee based on job title?\n",
    "- SELECT * FROM employee where title = 'Senior General Manager'\n",
    "- SELECT * FROM employee  ORDER BY levels DESC limit 1;\n",
    "\n",
    "2. Which countries have the most Invoices?\n",
    "- "
   ]
  }
 ],
 "metadata": {
  "kernelspec": {
   "display_name": "Python 3 (ipykernel)",
   "language": "python",
   "name": "python3"
  },
  "language_info": {
   "codemirror_mode": {
    "name": "ipython",
    "version": 3
   },
   "file_extension": ".py",
   "mimetype": "text/x-python",
   "name": "python",
   "nbconvert_exporter": "python",
   "pygments_lexer": "ipython3",
   "version": "3.11.5"
  }
 },
 "nbformat": 4,
 "nbformat_minor": 5
}
