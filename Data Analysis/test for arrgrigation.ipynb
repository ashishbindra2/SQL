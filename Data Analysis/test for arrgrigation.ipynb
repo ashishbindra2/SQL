{
 "cells": [
  {
   "cell_type": "markdown",
   "id": "2bafdcf2",
   "metadata": {},
   "source": [
    "#### Hands-on Lab: Built-in functions - Aggregate, Scalar, String, Date and Time Functions\n",
    "\n",
    "    ID\tANIMAL\tQUANTITY\tCOST\tRESCUEDATE\n",
    "    1\tCat\t9\t450.09\t5/29/2018\n",
    "    2\tDog\t3\t666.66\t6/1/2018\n",
    "    3\tDog\t1\t100\t6/4/2018\n",
    "    4\tParrot\t2\t50\t6/4/2018\n",
    "    5\tDog\t1\t75.75\t6/10/2018\n",
    "    6\tHamster\t6\t60.6\t6/11/2018\n",
    "    7\tCat\t1\t44.44\t6/11/2018\n",
    "    8\tGoldfish\t24\t48.48\t6/14/2018\n",
    "    9\tDog\t2\t222.22\t6/15/2018"
   ]
  },
  {
   "cell_type": "markdown",
   "id": "d6eb215c",
   "metadata": {},
   "source": [
    "#### After completing this lab, you will be able to:\n",
    "\n",
    "Compose and run sub-queries with multiple tables\n",
    "Check query results and view log files"
   ]
  },
  {
   "cell_type": "markdown",
   "id": "6fd5aa8e",
   "metadata": {},
   "source": [
    "#### ### Exercise 2: Aggregate Functions\n",
    "Query A1: Enter a function that calculates the total cost of all animal rescues in the PETRESCUE table."
   ]
  },
  {
   "cell_type": "code",
   "execution_count": 2,
   "id": "72ceeea6",
   "metadata": {},
   "outputs": [],
   "source": [
    "%load_ext sql\n",
    "%sql sqlite:///PETRESCUE-CREATE.db"
   ]
  },
  {
   "cell_type": "code",
   "execution_count": 4,
   "id": "f9fe2610",
   "metadata": {
    "scrolled": true
   },
   "outputs": [
    {
     "name": "stdout",
     "output_type": "stream",
     "text": [
      " * sqlite:///PETRESCUE-CREATE.db\n",
      "Done.\n",
      "9 rows affected.\n"
     ]
    },
    {
     "data": {
      "text/plain": [
       "[]"
      ]
     },
     "execution_count": 4,
     "metadata": {},
     "output_type": "execute_result"
    }
   ],
   "source": [
    "%%sql\n",
    "\n",
    "create table PETRESCUE (\n",
    "ID INTEGER NOT NULL,\n",
    "ANIMAL VARCHAR(20),\n",
    "QUANTITY INTEGER,\n",
    "COST DECIMAL(6,2),\n",
    "RESCUEDATE DATE,\n",
    "PRIMARY KEY (ID)\n",
    ");\n",
    "\n",
    "insert into PETRESCUE values \n",
    "(1,'Cat',9,450.09,'2018-05-29'),\n",
    "(2,'Dog',3,666.66,'2018-06-01'),\n",
    "(3,'Dog',1,100.00,'2018-06-04'),\n",
    "(4,'Parrot',2,50.00,'2018-06-04'),\n",
    "(5,'Dog',1,75.75,'2018-06-10'),\n",
    "(6,'Hamster',6,60.60,'2018-06-11'),\n",
    "(7,'Cat',1,44.44,'2018-06-11'),\n",
    "(8,'Goldfish',24,48.48,'2018-06-14'),\n",
    "(9,'Dog',2,222.22,'2018-06-15')\n",
    "\n",
    ";"
   ]
  },
  {
   "cell_type": "code",
   "execution_count": 5,
   "id": "4cac0170",
   "metadata": {},
   "outputs": [
    {
     "name": "stdout",
     "output_type": "stream",
     "text": [
      " * sqlite:///PETRESCUE-CREATE.db\n",
      "Done.\n"
     ]
    },
    {
     "data": {
      "text/html": [
       "<table>\n",
       "    <thead>\n",
       "        <tr>\n",
       "            <th>ID</th>\n",
       "            <th>ANIMAL</th>\n",
       "            <th>QUANTITY</th>\n",
       "            <th>COST</th>\n",
       "            <th>RESCUEDATE</th>\n",
       "        </tr>\n",
       "    </thead>\n",
       "    <tbody>\n",
       "        <tr>\n",
       "            <td>1</td>\n",
       "            <td>Cat</td>\n",
       "            <td>9</td>\n",
       "            <td>450.09</td>\n",
       "            <td>2018-05-29</td>\n",
       "        </tr>\n",
       "        <tr>\n",
       "            <td>2</td>\n",
       "            <td>Dog</td>\n",
       "            <td>3</td>\n",
       "            <td>666.66</td>\n",
       "            <td>2018-06-01</td>\n",
       "        </tr>\n",
       "        <tr>\n",
       "            <td>3</td>\n",
       "            <td>Dog</td>\n",
       "            <td>1</td>\n",
       "            <td>100</td>\n",
       "            <td>2018-06-04</td>\n",
       "        </tr>\n",
       "        <tr>\n",
       "            <td>4</td>\n",
       "            <td>Parrot</td>\n",
       "            <td>2</td>\n",
       "            <td>50</td>\n",
       "            <td>2018-06-04</td>\n",
       "        </tr>\n",
       "        <tr>\n",
       "            <td>5</td>\n",
       "            <td>Dog</td>\n",
       "            <td>1</td>\n",
       "            <td>75.75</td>\n",
       "            <td>2018-06-10</td>\n",
       "        </tr>\n",
       "        <tr>\n",
       "            <td>6</td>\n",
       "            <td>Hamster</td>\n",
       "            <td>6</td>\n",
       "            <td>60.6</td>\n",
       "            <td>2018-06-11</td>\n",
       "        </tr>\n",
       "        <tr>\n",
       "            <td>7</td>\n",
       "            <td>Cat</td>\n",
       "            <td>1</td>\n",
       "            <td>44.44</td>\n",
       "            <td>2018-06-11</td>\n",
       "        </tr>\n",
       "        <tr>\n",
       "            <td>8</td>\n",
       "            <td>Goldfish</td>\n",
       "            <td>24</td>\n",
       "            <td>48.48</td>\n",
       "            <td>2018-06-14</td>\n",
       "        </tr>\n",
       "        <tr>\n",
       "            <td>9</td>\n",
       "            <td>Dog</td>\n",
       "            <td>2</td>\n",
       "            <td>222.22</td>\n",
       "            <td>2018-06-15</td>\n",
       "        </tr>\n",
       "    </tbody>\n",
       "</table>"
      ],
      "text/plain": [
       "[(1, 'Cat', 9, 450.09, '2018-05-29'),\n",
       " (2, 'Dog', 3, 666.66, '2018-06-01'),\n",
       " (3, 'Dog', 1, 100, '2018-06-04'),\n",
       " (4, 'Parrot', 2, 50, '2018-06-04'),\n",
       " (5, 'Dog', 1, 75.75, '2018-06-10'),\n",
       " (6, 'Hamster', 6, 60.6, '2018-06-11'),\n",
       " (7, 'Cat', 1, 44.44, '2018-06-11'),\n",
       " (8, 'Goldfish', 24, 48.48, '2018-06-14'),\n",
       " (9, 'Dog', 2, 222.22, '2018-06-15')]"
      ]
     },
     "execution_count": 5,
     "metadata": {},
     "output_type": "execute_result"
    }
   ],
   "source": [
    "%%sql\n",
    "\n",
    "select * from PETRESCUE;"
   ]
  },
  {
   "cell_type": "code",
   "execution_count": 6,
   "id": "3210c384",
   "metadata": {},
   "outputs": [
    {
     "name": "stdout",
     "output_type": "stream",
     "text": [
      " * sqlite:///PETRESCUE-CREATE.db\n",
      "Done.\n"
     ]
    },
    {
     "data": {
      "text/html": [
       "<table>\n",
       "    <thead>\n",
       "        <tr>\n",
       "            <th>SUM(COST)</th>\n",
       "        </tr>\n",
       "    </thead>\n",
       "    <tbody>\n",
       "        <tr>\n",
       "            <td>1718.24</td>\n",
       "        </tr>\n",
       "    </tbody>\n",
       "</table>"
      ],
      "text/plain": [
       "[(1718.24,)]"
      ]
     },
     "execution_count": 6,
     "metadata": {},
     "output_type": "execute_result"
    }
   ],
   "source": [
    "%%sql\n",
    "\n",
    "SELECT SUM(COST) FROM PETRESCUE"
   ]
  },
  {
   "cell_type": "markdown",
   "id": "dfa4ca7e",
   "metadata": {},
   "source": [
    "#### Query A2: Enter a function that displays the total cost of all animal rescues in the PETRESCUE table in a column called SUM_OF_COST."
   ]
  },
  {
   "cell_type": "code",
   "execution_count": 8,
   "id": "e519b327",
   "metadata": {},
   "outputs": [
    {
     "name": "stdout",
     "output_type": "stream",
     "text": [
      " * sqlite:///PETRESCUE-CREATE.db\n",
      "Done.\n"
     ]
    },
    {
     "data": {
      "text/html": [
       "<table>\n",
       "    <thead>\n",
       "        <tr>\n",
       "            <th>SUM_OF_COST</th>\n",
       "        </tr>\n",
       "    </thead>\n",
       "    <tbody>\n",
       "        <tr>\n",
       "            <td>1718.24</td>\n",
       "        </tr>\n",
       "    </tbody>\n",
       "</table>"
      ],
      "text/plain": [
       "[(1718.24,)]"
      ]
     },
     "execution_count": 8,
     "metadata": {},
     "output_type": "execute_result"
    }
   ],
   "source": [
    "%%sql\n",
    "\n",
    "SELECT SUM(COST) as SUM_OF_COST FROM PETRESCUE"
   ]
  },
  {
   "cell_type": "markdown",
   "id": "ee4ab67e",
   "metadata": {},
   "source": [
    "#### Query A3: Enter a function that displays the maximum quantity of animals rescued."
   ]
  },
  {
   "cell_type": "code",
   "execution_count": 10,
   "id": "c3fd29af",
   "metadata": {},
   "outputs": [
    {
     "name": "stdout",
     "output_type": "stream",
     "text": [
      " * sqlite:///PETRESCUE-CREATE.db\n",
      "Done.\n"
     ]
    },
    {
     "data": {
      "text/html": [
       "<table>\n",
       "    <thead>\n",
       "        <tr>\n",
       "            <th>MAX(QUANTITY)</th>\n",
       "        </tr>\n",
       "    </thead>\n",
       "    <tbody>\n",
       "        <tr>\n",
       "            <td>24</td>\n",
       "        </tr>\n",
       "    </tbody>\n",
       "</table>"
      ],
      "text/plain": [
       "[(24,)]"
      ]
     },
     "execution_count": 10,
     "metadata": {},
     "output_type": "execute_result"
    }
   ],
   "source": [
    "%%sql\n",
    "\n",
    "SELECT MAX(QUANTITY) FROM PETRESCUE;"
   ]
  },
  {
   "cell_type": "markdown",
   "id": "99a8f992",
   "metadata": {},
   "source": [
    "#### Query A4: Enter a function that displays the average cost of animals rescued."
   ]
  },
  {
   "cell_type": "code",
   "execution_count": 11,
   "id": "a48219e2",
   "metadata": {},
   "outputs": [
    {
     "name": "stdout",
     "output_type": "stream",
     "text": [
      " * sqlite:///PETRESCUE-CREATE.db\n",
      "Done.\n"
     ]
    },
    {
     "data": {
      "text/html": [
       "<table>\n",
       "    <thead>\n",
       "        <tr>\n",
       "            <th>AVG(COST)</th>\n",
       "        </tr>\n",
       "    </thead>\n",
       "    <tbody>\n",
       "        <tr>\n",
       "            <td>190.91555555555556</td>\n",
       "        </tr>\n",
       "    </tbody>\n",
       "</table>"
      ],
      "text/plain": [
       "[(190.91555555555556,)]"
      ]
     },
     "execution_count": 11,
     "metadata": {},
     "output_type": "execute_result"
    }
   ],
   "source": [
    "%%sql\n",
    "\n",
    "SELECT AVG(COST) FROM PETRESCUE;"
   ]
  },
  {
   "cell_type": "markdown",
   "id": "a8ee3f38",
   "metadata": {},
   "source": [
    "#### Query A5: Enter a function that displays the average cost of rescuing a dog."
   ]
  },
  {
   "cell_type": "code",
   "execution_count": 12,
   "id": "757faaea",
   "metadata": {},
   "outputs": [
    {
     "name": "stdout",
     "output_type": "stream",
     "text": [
      " * sqlite:///PETRESCUE-CREATE.db\n",
      "Done.\n"
     ]
    },
    {
     "data": {
      "text/html": [
       "<table>\n",
       "    <thead>\n",
       "        <tr>\n",
       "            <th>AVG(COST)</th>\n",
       "        </tr>\n",
       "    </thead>\n",
       "    <tbody>\n",
       "        <tr>\n",
       "            <td>266.15749999999997</td>\n",
       "        </tr>\n",
       "    </tbody>\n",
       "</table>"
      ],
      "text/plain": [
       "[(266.15749999999997,)]"
      ]
     },
     "execution_count": 12,
     "metadata": {},
     "output_type": "execute_result"
    }
   ],
   "source": [
    "%%sql\n",
    "\n",
    "SELECT AVG(COST) FROM PETRESCUE WHERE ANIMAL = \"Dog\";"
   ]
  },
  {
   "cell_type": "code",
   "execution_count": 15,
   "id": "7294b09c",
   "metadata": {},
   "outputs": [
    {
     "name": "stdout",
     "output_type": "stream",
     "text": [
      " * sqlite:///PETRESCUE-CREATE.db\n",
      "Done.\n"
     ]
    },
    {
     "data": {
      "text/html": [
       "<table>\n",
       "    <thead>\n",
       "        <tr>\n",
       "            <th>AVG(COST/QUANTITY)</th>\n",
       "        </tr>\n",
       "    </thead>\n",
       "    <tbody>\n",
       "        <tr>\n",
       "            <td>127.27000000000001</td>\n",
       "        </tr>\n",
       "    </tbody>\n",
       "</table>"
      ],
      "text/plain": [
       "[(127.27000000000001,)]"
      ]
     },
     "execution_count": 15,
     "metadata": {},
     "output_type": "execute_result"
    }
   ],
   "source": [
    "%%sql\n",
    "select AVG(COST/QUANTITY) from PETRESCUE where ANIMAL = 'Dog';"
   ]
  },
  {
   "cell_type": "markdown",
   "id": "a8d14932",
   "metadata": {},
   "source": [
    "### Exercise 3: Scalar and String Functions\n",
    "#### Query B1: Enter a function that displays the rounded cost of each rescue.\n"
   ]
  },
  {
   "cell_type": "code",
   "execution_count": 14,
   "id": "e714e671",
   "metadata": {},
   "outputs": [
    {
     "name": "stdout",
     "output_type": "stream",
     "text": [
      " * sqlite:///PETRESCUE-CREATE.db\n",
      "Done.\n"
     ]
    },
    {
     "data": {
      "text/html": [
       "<table>\n",
       "    <thead>\n",
       "        <tr>\n",
       "            <th>ROUND(COST)</th>\n",
       "        </tr>\n",
       "    </thead>\n",
       "    <tbody>\n",
       "        <tr>\n",
       "            <td>450.0</td>\n",
       "        </tr>\n",
       "        <tr>\n",
       "            <td>667.0</td>\n",
       "        </tr>\n",
       "        <tr>\n",
       "            <td>100.0</td>\n",
       "        </tr>\n",
       "        <tr>\n",
       "            <td>50.0</td>\n",
       "        </tr>\n",
       "        <tr>\n",
       "            <td>76.0</td>\n",
       "        </tr>\n",
       "        <tr>\n",
       "            <td>61.0</td>\n",
       "        </tr>\n",
       "        <tr>\n",
       "            <td>44.0</td>\n",
       "        </tr>\n",
       "        <tr>\n",
       "            <td>48.0</td>\n",
       "        </tr>\n",
       "        <tr>\n",
       "            <td>222.0</td>\n",
       "        </tr>\n",
       "    </tbody>\n",
       "</table>"
      ],
      "text/plain": [
       "[(450.0,),\n",
       " (667.0,),\n",
       " (100.0,),\n",
       " (50.0,),\n",
       " (76.0,),\n",
       " (61.0,),\n",
       " (44.0,),\n",
       " (48.0,),\n",
       " (222.0,)]"
      ]
     },
     "execution_count": 14,
     "metadata": {},
     "output_type": "execute_result"
    }
   ],
   "source": [
    "%%sql\n",
    "\n",
    "SELECT ROUND(COST) FROM PETRESCUE;"
   ]
  },
  {
   "cell_type": "markdown",
   "id": "20b7a552",
   "metadata": {},
   "source": [
    "#### Query B2: Enter a function that displays the length of each animal name.\n"
   ]
  },
  {
   "cell_type": "code",
   "execution_count": 17,
   "id": "a7ab883d",
   "metadata": {},
   "outputs": [
    {
     "name": "stdout",
     "output_type": "stream",
     "text": [
      " * sqlite:///PETRESCUE-CREATE.db\n",
      "Done.\n"
     ]
    },
    {
     "data": {
      "text/html": [
       "<table>\n",
       "    <thead>\n",
       "        <tr>\n",
       "            <th>LENGTH(COST)</th>\n",
       "        </tr>\n",
       "    </thead>\n",
       "    <tbody>\n",
       "        <tr>\n",
       "            <td>6</td>\n",
       "        </tr>\n",
       "        <tr>\n",
       "            <td>6</td>\n",
       "        </tr>\n",
       "        <tr>\n",
       "            <td>3</td>\n",
       "        </tr>\n",
       "        <tr>\n",
       "            <td>2</td>\n",
       "        </tr>\n",
       "        <tr>\n",
       "            <td>5</td>\n",
       "        </tr>\n",
       "        <tr>\n",
       "            <td>4</td>\n",
       "        </tr>\n",
       "        <tr>\n",
       "            <td>5</td>\n",
       "        </tr>\n",
       "        <tr>\n",
       "            <td>5</td>\n",
       "        </tr>\n",
       "        <tr>\n",
       "            <td>6</td>\n",
       "        </tr>\n",
       "    </tbody>\n",
       "</table>"
      ],
      "text/plain": [
       "[(6,), (6,), (3,), (2,), (5,), (4,), (5,), (5,), (6,)]"
      ]
     },
     "execution_count": 17,
     "metadata": {},
     "output_type": "execute_result"
    }
   ],
   "source": [
    "%%sql\n",
    "\n",
    "SELECT LENGTH(COST) FROM PETRESCUE;"
   ]
  },
  {
   "cell_type": "markdown",
   "id": "232845d3",
   "metadata": {},
   "source": [
    "#### Query B3: Enter a function that displays the animal name in each rescue in uppercase."
   ]
  },
  {
   "cell_type": "code",
   "execution_count": null,
   "id": "f8c4a26d",
   "metadata": {},
   "outputs": [],
   "source": [
    "-- select UCASE(ANIMAL) from PETRESCUE\n"
   ]
  },
  {
   "cell_type": "code",
   "execution_count": 31,
   "id": "fef32b9f",
   "metadata": {
    "scrolled": true
   },
   "outputs": [
    {
     "name": "stdout",
     "output_type": "stream",
     "text": [
      " * sqlite:///PETRESCUE-CREATE.db\n",
      "Done.\n"
     ]
    },
    {
     "data": {
      "text/html": [
       "<table>\n",
       "    <thead>\n",
       "        <tr>\n",
       "            <th>UPPER(ANIMAL)</th>\n",
       "        </tr>\n",
       "    </thead>\n",
       "    <tbody>\n",
       "        <tr>\n",
       "            <td>CAT</td>\n",
       "        </tr>\n",
       "        <tr>\n",
       "            <td>DOG</td>\n",
       "        </tr>\n",
       "        <tr>\n",
       "            <td>DOG</td>\n",
       "        </tr>\n",
       "        <tr>\n",
       "            <td>PARROT</td>\n",
       "        </tr>\n",
       "        <tr>\n",
       "            <td>DOG</td>\n",
       "        </tr>\n",
       "        <tr>\n",
       "            <td>HAMSTER</td>\n",
       "        </tr>\n",
       "        <tr>\n",
       "            <td>CAT</td>\n",
       "        </tr>\n",
       "        <tr>\n",
       "            <td>GOLDFISH</td>\n",
       "        </tr>\n",
       "        <tr>\n",
       "            <td>DOG</td>\n",
       "        </tr>\n",
       "    </tbody>\n",
       "</table>"
      ],
      "text/plain": [
       "[('CAT',),\n",
       " ('DOG',),\n",
       " ('DOG',),\n",
       " ('PARROT',),\n",
       " ('DOG',),\n",
       " ('HAMSTER',),\n",
       " ('CAT',),\n",
       " ('GOLDFISH',),\n",
       " ('DOG',)]"
      ]
     },
     "execution_count": 31,
     "metadata": {},
     "output_type": "execute_result"
    }
   ],
   "source": [
    "%%sql\n",
    "select UPPER(ANIMAL) from PETRESCUE;\n",
    "\n",
    "\n"
   ]
  },
  {
   "cell_type": "markdown",
   "id": "75c529d3",
   "metadata": {},
   "source": [
    "#### Query B4: Enter a function that displays the animal name in each rescue in uppercase without duplications."
   ]
  },
  {
   "cell_type": "code",
   "execution_count": 30,
   "id": "3b4bc4f7",
   "metadata": {},
   "outputs": [
    {
     "name": "stdout",
     "output_type": "stream",
     "text": [
      " * sqlite:///PETRESCUE-CREATE.db\n",
      "Done.\n"
     ]
    },
    {
     "data": {
      "text/html": [
       "<table>\n",
       "    <thead>\n",
       "        <tr>\n",
       "            <th>UPPER(ANIMAL)</th>\n",
       "        </tr>\n",
       "    </thead>\n",
       "    <tbody>\n",
       "        <tr>\n",
       "            <td>CAT</td>\n",
       "        </tr>\n",
       "        <tr>\n",
       "            <td>DOG</td>\n",
       "        </tr>\n",
       "        <tr>\n",
       "            <td>PARROT</td>\n",
       "        </tr>\n",
       "        <tr>\n",
       "            <td>HAMSTER</td>\n",
       "        </tr>\n",
       "        <tr>\n",
       "            <td>GOLDFISH</td>\n",
       "        </tr>\n",
       "    </tbody>\n",
       "</table>"
      ],
      "text/plain": [
       "[('CAT',), ('DOG',), ('PARROT',), ('HAMSTER',), ('GOLDFISH',)]"
      ]
     },
     "execution_count": 30,
     "metadata": {},
     "output_type": "execute_result"
    }
   ],
   "source": [
    "%%sql\n",
    "select DISTINCT UPPER(ANIMAL) from PETRESCUE;\n"
   ]
  },
  {
   "cell_type": "markdown",
   "id": "c889e418",
   "metadata": {},
   "source": [
    "#### Query B5: Enter a query that displays all the columns from the PETRESCUE table, where the animal(s) rescued are cats. Use cat in lower case in the query.\n"
   ]
  },
  {
   "cell_type": "code",
   "execution_count": 33,
   "id": "bfb10903",
   "metadata": {
    "scrolled": false
   },
   "outputs": [
    {
     "name": "stdout",
     "output_type": "stream",
     "text": [
      " * sqlite:///PETRESCUE-CREATE.db\n",
      "Done.\n"
     ]
    },
    {
     "data": {
      "text/html": [
       "<table>\n",
       "    <thead>\n",
       "        <tr>\n",
       "            <th>LOWER(ANIMAL)</th>\n",
       "            <th>QUANTITY</th>\n",
       "            <th>COST</th>\n",
       "            <th>RESCUEDATE</th>\n",
       "        </tr>\n",
       "    </thead>\n",
       "    <tbody>\n",
       "        <tr>\n",
       "            <td>cat</td>\n",
       "            <td>9</td>\n",
       "            <td>450.09</td>\n",
       "            <td>2018-05-29</td>\n",
       "        </tr>\n",
       "        <tr>\n",
       "            <td>cat</td>\n",
       "            <td>1</td>\n",
       "            <td>44.44</td>\n",
       "            <td>2018-06-11</td>\n",
       "        </tr>\n",
       "    </tbody>\n",
       "</table>"
      ],
      "text/plain": [
       "[('cat', 9, 450.09, '2018-05-29'), ('cat', 1, 44.44, '2018-06-11')]"
      ]
     },
     "execution_count": 33,
     "metadata": {},
     "output_type": "execute_result"
    }
   ],
   "source": [
    "%%sql\n",
    "select LOWER(ANIMAL), QUANTITY, COST, RESCUEDATE from PETRESCUE\n",
    "Where ANIMAL = \"Cat\""
   ]
  },
  {
   "cell_type": "code",
   "execution_count": 34,
   "id": "af070fdc",
   "metadata": {
    "scrolled": true
   },
   "outputs": [
    {
     "name": "stdout",
     "output_type": "stream",
     "text": [
      " * sqlite:///PETRESCUE-CREATE.db\n",
      "(sqlite3.OperationalError) no such function: LCASE\n",
      "[SQL: select * from PETRESCUE where LCASE(ANIMAL) = 'cat';]\n",
      "(Background on this error at: https://sqlalche.me/e/20/e3q8)\n"
     ]
    }
   ],
   "source": [
    "%%sql\n",
    "select * from PETRESCUE where LCASE(ANIMAL) = 'cat';\n",
    "\n"
   ]
  },
  {
   "cell_type": "code",
   "execution_count": 35,
   "id": "2f948cb9",
   "metadata": {},
   "outputs": [
    {
     "name": "stdout",
     "output_type": "stream",
     "text": [
      " * sqlite:///PETRESCUE-CREATE.db\n",
      "Done.\n"
     ]
    },
    {
     "data": {
      "text/html": [
       "<table>\n",
       "    <thead>\n",
       "        <tr>\n",
       "            <th>ID</th>\n",
       "            <th>ANIMAL</th>\n",
       "            <th>QUANTITY</th>\n",
       "            <th>COST</th>\n",
       "            <th>RESCUEDATE</th>\n",
       "        </tr>\n",
       "    </thead>\n",
       "    <tbody>\n",
       "        <tr>\n",
       "            <td>1</td>\n",
       "            <td>Cat</td>\n",
       "            <td>9</td>\n",
       "            <td>450.09</td>\n",
       "            <td>2018-05-29</td>\n",
       "        </tr>\n",
       "        <tr>\n",
       "            <td>7</td>\n",
       "            <td>Cat</td>\n",
       "            <td>1</td>\n",
       "            <td>44.44</td>\n",
       "            <td>2018-06-11</td>\n",
       "        </tr>\n",
       "    </tbody>\n",
       "</table>"
      ],
      "text/plain": [
       "[(1, 'Cat', 9, 450.09, '2018-05-29'), (7, 'Cat', 1, 44.44, '2018-06-11')]"
      ]
     },
     "execution_count": 35,
     "metadata": {},
     "output_type": "execute_result"
    }
   ],
   "source": [
    "%%sql\n",
    "select * from PETRESCUE\n",
    "Where LOWER(ANIMAL) = \"cat\""
   ]
  },
  {
   "cell_type": "markdown",
   "id": "2c5b2e82",
   "metadata": {},
   "source": [
    "### Exercise 4: Date and Time Functions\n",
    "Query C1: Enter a function that displays the day of the month when cats have been rescued."
   ]
  },
  {
   "cell_type": "code",
   "execution_count": 37,
   "id": "e4ec5060",
   "metadata": {
    "scrolled": true
   },
   "outputs": [
    {
     "name": "stdout",
     "output_type": "stream",
     "text": [
      " * sqlite:///PETRESCUE-CREATE.db\n",
      "(sqlite3.OperationalError) no such function: DAY\n",
      "[SQL: SELECT DAY(RESCUEDATE)\n",
      "from PETRESCUE\n",
      "Where ANIMAL = \"Cat\"]\n",
      "(Background on this error at: https://sqlalche.me/e/20/e3q8)\n"
     ]
    }
   ],
   "source": [
    "%%sql\n",
    "\n",
    "SELECT DAY(RESCUEDATE)\n",
    "from PETRESCUE\n",
    "Where ANIMAL = \"Cat\""
   ]
  },
  {
   "cell_type": "code",
   "execution_count": 38,
   "id": "a1dd5eaf",
   "metadata": {
    "scrolled": true
   },
   "outputs": [
    {
     "name": "stdout",
     "output_type": "stream",
     "text": [
      " * sqlite:///PETRESCUE-CREATE.db\n",
      "Done.\n"
     ]
    },
    {
     "data": {
      "text/html": [
       "<table>\n",
       "    <thead>\n",
       "        <tr>\n",
       "            <th>strftime(&#x27;%d&#x27;, RESCUEDATE)</th>\n",
       "        </tr>\n",
       "    </thead>\n",
       "    <tbody>\n",
       "        <tr>\n",
       "            <td>29</td>\n",
       "        </tr>\n",
       "        <tr>\n",
       "            <td>11</td>\n",
       "        </tr>\n",
       "    </tbody>\n",
       "</table>"
      ],
      "text/plain": [
       "[('29',), ('11',)]"
      ]
     },
     "execution_count": 38,
     "metadata": {},
     "output_type": "execute_result"
    }
   ],
   "source": [
    "%%sql\n",
    "\n",
    "SELECT strftime('%d', RESCUEDATE)\n",
    "FROM PETRESCUE\n",
    "WHERE ANIMAL = 'Cat';\n"
   ]
  },
  {
   "cell_type": "code",
   "execution_count": 39,
   "id": "ed05a480",
   "metadata": {},
   "outputs": [
    {
     "name": "stdout",
     "output_type": "stream",
     "text": [
      " * sqlite:///PETRESCUE-CREATE.db\n",
      "Done.\n"
     ]
    },
    {
     "data": {
      "text/html": [
       "<table>\n",
       "    <thead>\n",
       "        <tr>\n",
       "            <th>strftime(&#x27;%m&#x27;, RESCUEDATE)</th>\n",
       "        </tr>\n",
       "    </thead>\n",
       "    <tbody>\n",
       "        <tr>\n",
       "            <td>05</td>\n",
       "        </tr>\n",
       "        <tr>\n",
       "            <td>06</td>\n",
       "        </tr>\n",
       "    </tbody>\n",
       "</table>"
      ],
      "text/plain": [
       "[('05',), ('06',)]"
      ]
     },
     "execution_count": 39,
     "metadata": {},
     "output_type": "execute_result"
    }
   ],
   "source": [
    "%%sql\n",
    "\n",
    "SELECT strftime('%m', RESCUEDATE)\n",
    "FROM PETRESCUE\n",
    "WHERE ANIMAL = 'Cat';\n"
   ]
  },
  {
   "cell_type": "markdown",
   "id": "d3f4f324",
   "metadata": {},
   "source": [
    "#### Query C2: Enter a function that displays the number of rescues on the 5th month.\n"
   ]
  },
  {
   "cell_type": "code",
   "execution_count": 41,
   "id": "422d0644",
   "metadata": {
    "scrolled": true
   },
   "outputs": [
    {
     "name": "stdout",
     "output_type": "stream",
     "text": [
      " * sqlite:///PETRESCUE-CREATE.db\n",
      "(sqlite3.OperationalError) no such function: MONTH\n",
      "[SQL: select SUM(QUANTITY) from PETRESCUE \n",
      "where MONTH(RESCUEDATE)='05';]\n",
      "(Background on this error at: https://sqlalche.me/e/20/e3q8)\n"
     ]
    }
   ],
   "source": [
    "%%sql\n",
    "select SUM(QUANTITY) from PETRESCUE \n",
    "where MONTH(RESCUEDATE)='05';\n",
    "\n"
   ]
  },
  {
   "cell_type": "code",
   "execution_count": 42,
   "id": "d42108d1",
   "metadata": {},
   "outputs": [
    {
     "name": "stdout",
     "output_type": "stream",
     "text": [
      " * sqlite:///PETRESCUE-CREATE.db\n",
      "Done.\n"
     ]
    },
    {
     "data": {
      "text/html": [
       "<table>\n",
       "    <thead>\n",
       "        <tr>\n",
       "            <th>SUM(QUANTITY)</th>\n",
       "        </tr>\n",
       "    </thead>\n",
       "    <tbody>\n",
       "        <tr>\n",
       "            <td>9</td>\n",
       "        </tr>\n",
       "    </tbody>\n",
       "</table>"
      ],
      "text/plain": [
       "[(9,)]"
      ]
     },
     "execution_count": 42,
     "metadata": {},
     "output_type": "execute_result"
    }
   ],
   "source": [
    "%%sql\n",
    "\n",
    "SELECT SUM(QUANTITY) \n",
    "FROM PETRESCUE \n",
    "WHERE strftime('%m', RESCUEDATE) = '05';\n"
   ]
  },
  {
   "cell_type": "markdown",
   "id": "b9471f4a",
   "metadata": {},
   "source": [
    "#### Query C3: Enter a function that displays the number of rescues on the 14th day of the month.\n"
   ]
  },
  {
   "cell_type": "code",
   "execution_count": 4,
   "id": "1157ff09",
   "metadata": {},
   "outputs": [
    {
     "name": "stdout",
     "output_type": "stream",
     "text": [
      " * sqlite:///PETRESCUE-CREATE.db\n",
      "Done.\n"
     ]
    },
    {
     "data": {
      "text/html": [
       "<table>\n",
       "    <thead>\n",
       "        <tr>\n",
       "            <th>SUM(QUANTITY)</th>\n",
       "        </tr>\n",
       "    </thead>\n",
       "    <tbody>\n",
       "        <tr>\n",
       "            <td>24</td>\n",
       "        </tr>\n",
       "    </tbody>\n",
       "</table>"
      ],
      "text/plain": [
       "[(24,)]"
      ]
     },
     "execution_count": 4,
     "metadata": {},
     "output_type": "execute_result"
    }
   ],
   "source": [
    "%%sql\n",
    "\n",
    "SELECT SUM(QUANTITY) \n",
    "FROM PETRESCUE \n",
    "WHERE strftime('%d', RESCUEDATE) = '14';\n"
   ]
  },
  {
   "cell_type": "markdown",
   "id": "7fa4bb1c",
   "metadata": {},
   "source": [
    "#### Query C4: Animals rescued should see the vet within three days of arrivals. Enter a function that displays the third day from each rescue."
   ]
  },
  {
   "cell_type": "code",
   "execution_count": 5,
   "id": "0f038310",
   "metadata": {
    "scrolled": true
   },
   "outputs": [
    {
     "name": "stdout",
     "output_type": "stream",
     "text": [
      " * sqlite:///PETRESCUE-CREATE.db\n",
      "(sqlite3.OperationalError) near \"DAYS\": syntax error\n",
      "[SQL: select (RESCUEDATE + 3 DAYS) from PETRESCUE;]\n",
      "(Background on this error at: https://sqlalche.me/e/20/e3q8)\n"
     ]
    }
   ],
   "source": [
    "%%sql\n",
    "select (RESCUEDATE + 3 DAYS) from PETRESCUE;\n",
    "\n"
   ]
  },
  {
   "cell_type": "markdown",
   "id": "fcca5263",
   "metadata": {},
   "source": [
    "#### SQLite does not support adding days directly to a date using the syntax RESCUEDATE + 3 DAYS."
   ]
  },
  {
   "cell_type": "code",
   "execution_count": 7,
   "id": "536f4bfa",
   "metadata": {},
   "outputs": [
    {
     "name": "stdout",
     "output_type": "stream",
     "text": [
      " * sqlite:///PETRESCUE-CREATE.db\n",
      "Done.\n"
     ]
    },
    {
     "data": {
      "text/html": [
       "<table>\n",
       "    <thead>\n",
       "        <tr>\n",
       "            <th>date(RESCUEDATE, &#x27;+3 days&#x27;)</th>\n",
       "        </tr>\n",
       "    </thead>\n",
       "    <tbody>\n",
       "        <tr>\n",
       "            <td>2018-06-01</td>\n",
       "        </tr>\n",
       "        <tr>\n",
       "            <td>2018-06-04</td>\n",
       "        </tr>\n",
       "        <tr>\n",
       "            <td>2018-06-07</td>\n",
       "        </tr>\n",
       "        <tr>\n",
       "            <td>2018-06-07</td>\n",
       "        </tr>\n",
       "        <tr>\n",
       "            <td>2018-06-13</td>\n",
       "        </tr>\n",
       "        <tr>\n",
       "            <td>2018-06-14</td>\n",
       "        </tr>\n",
       "        <tr>\n",
       "            <td>2018-06-14</td>\n",
       "        </tr>\n",
       "        <tr>\n",
       "            <td>2018-06-17</td>\n",
       "        </tr>\n",
       "        <tr>\n",
       "            <td>2018-06-18</td>\n",
       "        </tr>\n",
       "    </tbody>\n",
       "</table>"
      ],
      "text/plain": [
       "[('2018-06-01',),\n",
       " ('2018-06-04',),\n",
       " ('2018-06-07',),\n",
       " ('2018-06-07',),\n",
       " ('2018-06-13',),\n",
       " ('2018-06-14',),\n",
       " ('2018-06-14',),\n",
       " ('2018-06-17',),\n",
       " ('2018-06-18',)]"
      ]
     },
     "execution_count": 7,
     "metadata": {},
     "output_type": "execute_result"
    }
   ],
   "source": [
    "%%sql\n",
    "\n",
    "SELECT date(RESCUEDATE, '+3 days') \n",
    "FROM PETRESCUE;\n"
   ]
  },
  {
   "cell_type": "markdown",
   "id": "fddbff3f",
   "metadata": {},
   "source": [
    "#### Query C5: Enter a function that displays the length of time the animals have been rescued; the difference between todays date and the rescue date.\n"
   ]
  },
  {
   "cell_type": "markdown",
   "id": "94d232c4",
   "metadata": {},
   "source": [
    "#### SQLite does not support direct date subtraction like (CURRENT DATE - RESCUEDATE). However, you can use the julianday() function to calculate the difference between two dates. Here’s the corrected query:"
   ]
  },
  {
   "cell_type": "code",
   "execution_count": 6,
   "id": "18cad69d",
   "metadata": {
    "scrolled": true
   },
   "outputs": [
    {
     "name": "stdout",
     "output_type": "stream",
     "text": [
      " * sqlite:///PETRESCUE-CREATE.db\n",
      "(sqlite3.OperationalError) near \"DATE\": syntax error\n",
      "[SQL: select (CURRENT DATE - RESCUEDATE) from PETRESCUE;]\n",
      "(Background on this error at: https://sqlalche.me/e/20/e3q8)\n"
     ]
    }
   ],
   "source": [
    "%%sql\n",
    "select (CURRENT DATE - RESCUEDATE) from PETRESCUE;\n",
    "\n"
   ]
  },
  {
   "cell_type": "code",
   "execution_count": 8,
   "id": "4a4162cd",
   "metadata": {},
   "outputs": [
    {
     "name": "stdout",
     "output_type": "stream",
     "text": [
      " * sqlite:///PETRESCUE-CREATE.db\n",
      "Done.\n"
     ]
    },
    {
     "data": {
      "text/html": [
       "<table>\n",
       "    <thead>\n",
       "        <tr>\n",
       "            <th>days_difference</th>\n",
       "        </tr>\n",
       "    </thead>\n",
       "    <tbody>\n",
       "        <tr>\n",
       "            <td>2288.2054467475973</td>\n",
       "        </tr>\n",
       "        <tr>\n",
       "            <td>2285.2054467475973</td>\n",
       "        </tr>\n",
       "        <tr>\n",
       "            <td>2282.2054467475973</td>\n",
       "        </tr>\n",
       "        <tr>\n",
       "            <td>2282.2054467475973</td>\n",
       "        </tr>\n",
       "        <tr>\n",
       "            <td>2276.2054467475973</td>\n",
       "        </tr>\n",
       "        <tr>\n",
       "            <td>2275.2054467475973</td>\n",
       "        </tr>\n",
       "        <tr>\n",
       "            <td>2275.2054467475973</td>\n",
       "        </tr>\n",
       "        <tr>\n",
       "            <td>2272.2054467475973</td>\n",
       "        </tr>\n",
       "        <tr>\n",
       "            <td>2271.2054467475973</td>\n",
       "        </tr>\n",
       "    </tbody>\n",
       "</table>"
      ],
      "text/plain": [
       "[(2288.2054467475973,),\n",
       " (2285.2054467475973,),\n",
       " (2282.2054467475973,),\n",
       " (2282.2054467475973,),\n",
       " (2276.2054467475973,),\n",
       " (2275.2054467475973,),\n",
       " (2275.2054467475973,),\n",
       " (2272.2054467475973,),\n",
       " (2271.2054467475973,)]"
      ]
     },
     "execution_count": 8,
     "metadata": {},
     "output_type": "execute_result"
    }
   ],
   "source": [
    "%%sql\n",
    "\n",
    "SELECT julianday('now') - julianday(RESCUEDATE) AS days_difference\n",
    "FROM PETRESCUE;\n"
   ]
  },
  {
   "cell_type": "markdown",
   "id": "49659088",
   "metadata": {},
   "source": [
    "#### Lab Solutions\n",
    "Exercise 2 Solutions: Aggregate Functions\n",
    "Query A1: Enter a function that calculates the total cost of all animal rescues in the PETRESCUE table.\n",
    "\n",
    "select SUM(COST) from PETRESCUE;\n",
    "\n",
    "Query A2: Enter a function that displays the total cost of all animal rescues in the PETRESCUE table in a column called SUM_OF_COST.\n",
    "\n",
    "select SUM(COST) AS SUM_OF_COST from PETRESCUE;\n",
    "\n",
    "Query A3: Enter a function that displays the maximum quantity of animals rescued.\n",
    "\n",
    "select MAX(QUANTITY) from PETRESCUE;\n",
    "\n",
    "Query A4: Enter a function that displays the average cost of animals rescued.\n",
    "\n",
    "select AVG(COST) from PETRESCUE;\n",
    "\n",
    "Query A5: Enter a function that displays the average cost of rescuing a dog.\n",
    "\n",
    "Hint - Bear the cost of rescuing one dog on one day, which is different from another day. So you will have to use an average of averages.\n",
    "\n",
    "select AVG(COST/QUANTITY) from PETRESCUE where ANIMAL = 'Dog';\n",
    "\n",
    "Exercise 3 Solutions: Scalar and String Functions\n",
    "Query B1: Enter a function that displays the rounded cost of each rescue.\n",
    "\n",
    "select ROUND(COST) from PETRESCUE;\n",
    "\n",
    "Query B2: Enter a function that displays the length of each animal name.\n",
    "\n",
    "select LENGTH(ANIMAL) from PETRESCUE;\n",
    "\n",
    "Query B3: Enter a function that displays the animal name in each rescue in uppercase.\n",
    "\n",
    "select UCASE(ANIMAL) from PETRESCUE;\n",
    "\n",
    "Query B4: Enter a function that displays the animal name in each rescue in uppercase without duplications.\n",
    "\n",
    "`select DISTINCT(UCASE(ANIMAL)) from PETRESCUE;\n",
    "\n",
    "Query B5: Enter a query that displays all the columns from the PETRESCUE table, where the animal(s) rescued are cats. Use cat in lower case in the query.\n",
    "\n",
    "select * from PETRESCUE where LCASE(ANIMAL) = 'cat';\n",
    "\n",
    "Exercise 4 Solutions: Date and Time Functions\n",
    "Query C1: Enter a function that displays the day of the month when cats have been rescued.\n",
    "\n",
    "select DAY(RESCUEDATE) from PETRESCUE where ANIMAL = 'Cat';\n",
    "\n",
    "Query C2: Enter a function that displays the number of rescues on the 5th month.\n",
    "\n",
    "select SUM(QUANTITY) from PETRESCUE where MONTH(RESCUEDATE)='05';\n",
    "\n",
    "Query C3: Enter a function that displays the number of rescues on the 14th day of the month.\n",
    "\n",
    "select SUM(QUANTITY) from PETRESCUE where DAY(RESCUEDATE)='14';\n",
    "\n",
    "Query C4: Animals rescued should see the vet within three days of arrivals. Enter a function that displays the third day from each rescue.\n",
    "\n",
    "select (RESCUEDATE + 3 DAYS) from PETRESCUE;\n",
    "\n",
    "Query C5: Enter a function that displays the length of time the animals have been rescued; the difference between todays date and the rescue date.\n",
    "\n",
    "select (CURRENT DATE - RESCUEDATE) from PETRESCUE;"
   ]
  }
 ],
 "metadata": {
  "kernelspec": {
   "display_name": "Python 3 (ipykernel)",
   "language": "python",
   "name": "python3"
  },
  "language_info": {
   "codemirror_mode": {
    "name": "ipython",
    "version": 3
   },
   "file_extension": ".py",
   "mimetype": "text/x-python",
   "name": "python",
   "nbconvert_exporter": "python",
   "pygments_lexer": "ipython3",
   "version": "3.11.5"
  }
 },
 "nbformat": 4,
 "nbformat_minor": 5
}
