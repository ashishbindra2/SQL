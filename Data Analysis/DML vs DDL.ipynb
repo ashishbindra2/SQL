{
 "cells": [
  {
   "cell_type": "markdown",
   "id": "f25e12db",
   "metadata": {},
   "source": [
    "### Types of SQL statements (DDL vs. DML)\n",
    "- DDl: Define, create, drop\n",
    "    - crete\n",
    "    - alter\n",
    "    - truncate\n",
    "    - drop\n",
    "\n",
    "- DML: Read and modify\n",
    "    - CRUD Operration (Create,Read,Update& delete rows)\n",
    "    - common dml\n",
    "        - insert\n",
    "        - select\n",
    "        - update\n",
    "        - delete\n",
    "\n",
    "SQL Statements are used for interacting with Entities (that is, tables), Attributes (that is, columns) and their tuples (or rows with data values) in relational databases.\n",
    "- SQL statements fall into two different categories: Data Definition Language statements and Data Manipulation Language statements. \n",
    "- Data Definition Language (or DDL) statements are used to define, change, or drop database objects such as tables. Common - DDL statement types include CREATE, ALTER, TRUNCATE, and DROP.\n",
    "    - CREATE: which is used for creating tables and defining its columns;\n",
    "    - ALTER: is used for altering tables including adding and dropping columns and modifying their datatypes;\n",
    "    - TRUNCATE: is used for deleting data in a table but not the table itself; DROP: is used for deleting tables. Data \n",
    "\n",
    "Manipulation Language (or DML) statements are used to read and modify data in tables. \n",
    "- These are also sometimes referred to as CRUD operations, that is, Create, Read, Update and Delete rows in a table.\n",
    "- Common DML statement types include INSERT, SELECT, UPDATE, and DELETE. \n",
    "    - INSERT: is used for inserting a row or several rows of data into a table; \n",
    "    - SELECT: reads or selects row or rows from a table; UPDATE: edits row or rows in a table;\n",
    "    - DELETE: removes a row or rows of data from a table.\n"
   ]
  }
 ],
 "metadata": {
  "kernelspec": {
   "display_name": "Python 3 (ipykernel)",
   "language": "python",
   "name": "python3"
  },
  "language_info": {
   "codemirror_mode": {
    "name": "ipython",
    "version": 3
   },
   "file_extension": ".py",
   "mimetype": "text/x-python",
   "name": "python",
   "nbconvert_exporter": "python",
   "pygments_lexer": "ipython3",
   "version": "3.11.5"
  }
 },
 "nbformat": 4,
 "nbformat_minor": 5
}
