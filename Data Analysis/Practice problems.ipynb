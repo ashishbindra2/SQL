{
 "cells": [
  {
   "cell_type": "markdown",
   "id": "761d57d7",
   "metadata": {},
   "source": [
    "### Practice problems\n",
    "Try the following problems for an enhanced practice of the concepts learned in this lab.\n",
    "\n"
   ]
  },
  {
   "cell_type": "markdown",
   "id": "16ee73ab",
   "metadata": {},
   "source": [
    "#### 1. Create a new table in the database named Toys with attributes as ID (integer), Variety (variable length string), and Quantity (integer). Make sure the ID is not Null.\n"
   ]
  },
  {
   "cell_type": "code",
   "execution_count": 2,
   "id": "640fd2e6",
   "metadata": {},
   "outputs": [],
   "source": [
    "%load_ext sql\n",
    "%sql sqlite:///DA.db"
   ]
  },
  {
   "cell_type": "code",
   "execution_count": 3,
   "id": "c2b0f3c8",
   "metadata": {},
   "outputs": [
    {
     "name": "stdout",
     "output_type": "stream",
     "text": [
      " * sqlite:///DA.db\n",
      "Done.\n"
     ]
    },
    {
     "data": {
      "text/plain": [
       "[]"
      ]
     },
     "execution_count": 3,
     "metadata": {},
     "output_type": "execute_result"
    }
   ],
   "source": [
    "%%sql\n",
    "\n",
    "Create table Toys (\n",
    "\n",
    "ID integer not null, \n",
    "Variety Varchar(20),\n",
    "Quantity integer\n",
    "\n",
    ");"
   ]
  },
  {
   "cell_type": "markdown",
   "id": "a4e0f1e6",
   "metadata": {},
   "source": [
    "#### 2. Add the below-mentioned entries to the table using the INSERT statement.\n",
    "\n",
    "    ID\tVariety\t     Quantity\n",
    "    1\tChew toy\t    20\n",
    "    2\tBalls\t        50\n",
    "    3\tBowls\t        30\n",
    "    4\tFoldable bed\t40"
   ]
  },
  {
   "cell_type": "code",
   "execution_count": 4,
   "id": "e4d3103b",
   "metadata": {},
   "outputs": [
    {
     "name": "stdout",
     "output_type": "stream",
     "text": [
      " * sqlite:///DA.db\n",
      "4 rows affected.\n"
     ]
    },
    {
     "data": {
      "text/plain": [
       "[]"
      ]
     },
     "execution_count": 4,
     "metadata": {},
     "output_type": "execute_result"
    }
   ],
   "source": [
    "%%sql\n",
    "\n",
    "INSERT INTO Toys VALUES\n",
    "        (1, 'Chew toy', 20),\n",
    "        (2, 'Balls', 50),\n",
    "        (3, 'Bowls', 30),\n",
    "        (4, 'Foldable bed', 40);"
   ]
  },
  {
   "cell_type": "markdown",
   "id": "dcd42383",
   "metadata": {},
   "source": [
    "#### 3. ALTER the length of 'Variety' in the table to 30 characters.\n"
   ]
  },
  {
   "cell_type": "code",
   "execution_count": 5,
   "id": "88a908cb",
   "metadata": {},
   "outputs": [
    {
     "name": "stdout",
     "output_type": "stream",
     "text": [
      " * sqlite:///DA.db\n",
      "(sqlite3.OperationalError) near \"MODIFY\": syntax error\n",
      "[SQL: ALTER TABLE Toys\n",
      "MODIFY Variety VARCHAR(30);]\n",
      "(Background on this error at: https://sqlalche.me/e/20/e3q8)\n"
     ]
    }
   ],
   "source": [
    "%%sql\n",
    "\n",
    "ALTER TABLE Toys\n",
    "MODIFY Variety VARCHAR(30);"
   ]
  },
  {
   "cell_type": "markdown",
   "id": "db3af4ec",
   "metadata": {},
   "source": [
    "#### 4. TRUNCATE the table 'Toys'\n"
   ]
  },
  {
   "cell_type": "code",
   "execution_count": 6,
   "id": "c6d31ce7",
   "metadata": {},
   "outputs": [
    {
     "name": "stdout",
     "output_type": "stream",
     "text": [
      " * sqlite:///DA.db\n",
      "(sqlite3.OperationalError) near \"TRUNCATE\": syntax error\n",
      "[SQL: TRUNCATE TABLE Toys;]\n",
      "(Background on this error at: https://sqlalche.me/e/20/e3q8)\n"
     ]
    }
   ],
   "source": [
    "%%sql\n",
    "\n",
    "TRUNCATE TABLE Toys;\n"
   ]
  },
  {
   "cell_type": "markdown",
   "id": "25f4bfc7",
   "metadata": {},
   "source": [
    "#### 5. DROP the table 'Toys'\n"
   ]
  },
  {
   "cell_type": "code",
   "execution_count": 7,
   "id": "824fb3a4",
   "metadata": {
    "scrolled": true
   },
   "outputs": [
    {
     "name": "stdout",
     "output_type": "stream",
     "text": [
      " * sqlite:///DA.db\n",
      "Done.\n"
     ]
    },
    {
     "data": {
      "text/plain": [
       "[]"
      ]
     },
     "execution_count": 7,
     "metadata": {},
     "output_type": "execute_result"
    }
   ],
   "source": [
    "%sql DROP TABLE Toys;\n"
   ]
  }
 ],
 "metadata": {
  "kernelspec": {
   "display_name": "Python 3 (ipykernel)",
   "language": "python",
   "name": "python3"
  },
  "language_info": {
   "codemirror_mode": {
    "name": "ipython",
    "version": 3
   },
   "file_extension": ".py",
   "mimetype": "text/x-python",
   "name": "python",
   "nbconvert_exporter": "python",
   "pygments_lexer": "ipython3",
   "version": "3.11.5"
  }
 },
 "nbformat": 4,
 "nbformat_minor": 5
}
