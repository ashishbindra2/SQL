{
 "cells": [
  {
   "cell_type": "markdown",
   "id": "2608f766",
   "metadata": {},
   "source": [
    "### Sorting Result Sets"
   ]
  },
  {
   "cell_type": "code",
   "execution_count": 1,
   "id": "55fbd0c2",
   "metadata": {},
   "outputs": [],
   "source": [
    "%load_ext sql"
   ]
  },
  {
   "cell_type": "code",
   "execution_count": 2,
   "id": "a4885075",
   "metadata": {},
   "outputs": [],
   "source": [
    "%sql sqlite:///bookstore.db"
   ]
  },
  {
   "cell_type": "code",
   "execution_count": 4,
   "id": "e5fc5822",
   "metadata": {
    "scrolled": true
   },
   "outputs": [
    {
     "name": "stdout",
     "output_type": "stream",
     "text": [
      " * sqlite:///bookstore.db\n",
      "Done.\n"
     ]
    },
    {
     "data": {
      "text/html": [
       "<table>\n",
       "    <thead>\n",
       "        <tr>\n",
       "            <th>Title</th>\n",
       "        </tr>\n",
       "    </thead>\n",
       "    <tbody>\n",
       "        <tr>\n",
       "            <td>Getting started with DB2 Express-C</td>\n",
       "        </tr>\n",
       "        <tr>\n",
       "            <td>Database Fundamentals</td>\n",
       "        </tr>\n",
       "        <tr>\n",
       "            <td>Getting started with DB2 App Dev</td>\n",
       "        </tr>\n",
       "        <tr>\n",
       "            <td>Getting started with WAS CE</td>\n",
       "        </tr>\n",
       "        <tr>\n",
       "            <td>Advanced DB2 for Developers</td>\n",
       "        </tr>\n",
       "        <tr>\n",
       "            <td>Cloud Databases Simplified</td>\n",
       "        </tr>\n",
       "        <tr>\n",
       "            <td>Mastering SQL Queries</td>\n",
       "        </tr>\n",
       "        <tr>\n",
       "            <td>Big Data and Hadoop</td>\n",
       "        </tr>\n",
       "        <tr>\n",
       "            <td>Data Mining Fundamentals</td>\n",
       "        </tr>\n",
       "        <tr>\n",
       "            <td>Introduction to Machine Learning</td>\n",
       "        </tr>\n",
       "    </tbody>\n",
       "</table>"
      ],
      "text/plain": [
       "[('Getting started with DB2 Express-C',),\n",
       " ('Database Fundamentals',),\n",
       " ('Getting started with DB2 App Dev',),\n",
       " ('Getting started with WAS CE',),\n",
       " ('Advanced DB2 for Developers',),\n",
       " ('Cloud Databases Simplified',),\n",
       " ('Mastering SQL Queries',),\n",
       " ('Big Data and Hadoop',),\n",
       " ('Data Mining Fundamentals',),\n",
       " ('Introduction to Machine Learning',)]"
      ]
     },
     "execution_count": 4,
     "metadata": {},
     "output_type": "execute_result"
    }
   ],
   "source": [
    "%%sql\n",
    "\n",
    "select title from book limit 10;"
   ]
  },
  {
   "cell_type": "markdown",
   "id": "beb84bac",
   "metadata": {},
   "source": [
    "#### Displaying the results set in alphabetical order would make the result set more convenient. To do this, we use the \"order by\" clause. "
   ]
  },
  {
   "cell_type": "markdown",
   "id": "ea70c60c",
   "metadata": {},
   "source": [
    "### Using Order by clause\n",
    "To display the result set in alphabetical order, we add the order by clause to the select statement. The order by clause is used in a query to sort the result set by a specified column."
   ]
  },
  {
   "cell_type": "code",
   "execution_count": 5,
   "id": "ea947d63",
   "metadata": {},
   "outputs": [
    {
     "name": "stdout",
     "output_type": "stream",
     "text": [
      " * sqlite:///bookstore.db\n",
      "Done.\n"
     ]
    },
    {
     "data": {
      "text/html": [
       "<table>\n",
       "    <thead>\n",
       "        <tr>\n",
       "            <th>Title</th>\n",
       "        </tr>\n",
       "    </thead>\n",
       "    <tbody>\n",
       "        <tr>\n",
       "            <td>AI and Robotics</td>\n",
       "        </tr>\n",
       "        <tr>\n",
       "            <td>Advanced DB2 for Developers</td>\n",
       "        </tr>\n",
       "        <tr>\n",
       "            <td>Big Data and Hadoop</td>\n",
       "        </tr>\n",
       "        <tr>\n",
       "            <td>Book Title 100</td>\n",
       "        </tr>\n",
       "        <tr>\n",
       "            <td>Book Title 14</td>\n",
       "        </tr>\n",
       "        <tr>\n",
       "            <td>Book Title 15</td>\n",
       "        </tr>\n",
       "        <tr>\n",
       "            <td>Book Title 16</td>\n",
       "        </tr>\n",
       "        <tr>\n",
       "            <td>Book Title 17</td>\n",
       "        </tr>\n",
       "        <tr>\n",
       "            <td>Book Title 18</td>\n",
       "        </tr>\n",
       "        <tr>\n",
       "            <td>Book Title 19</td>\n",
       "        </tr>\n",
       "    </tbody>\n",
       "</table>"
      ],
      "text/plain": [
       "[('AI and Robotics',),\n",
       " ('Advanced DB2 for Developers',),\n",
       " ('Big Data and Hadoop',),\n",
       " ('Book Title 100',),\n",
       " ('Book Title 14',),\n",
       " ('Book Title 15',),\n",
       " ('Book Title 16',),\n",
       " ('Book Title 17',),\n",
       " ('Book Title 18',),\n",
       " ('Book Title 19',)]"
      ]
     },
     "execution_count": 5,
     "metadata": {},
     "output_type": "execute_result"
    }
   ],
   "source": [
    "%%sql\n",
    "\n",
    "select title from book ORDER BY title limit 10;\n"
   ]
  },
  {
   "cell_type": "markdown",
   "id": "f377d6a2",
   "metadata": {},
   "source": [
    "#### By default, the result set is sorted in ascending order."
   ]
  },
  {
   "cell_type": "markdown",
   "id": "7fc73456",
   "metadata": {},
   "source": [
    "#### To sort in descending order, use the key word\" desc.\""
   ]
  },
  {
   "cell_type": "code",
   "execution_count": 7,
   "id": "9a0e40ce",
   "metadata": {},
   "outputs": [
    {
     "name": "stdout",
     "output_type": "stream",
     "text": [
      " * sqlite:///bookstore.db\n",
      "Done.\n"
     ]
    },
    {
     "data": {
      "text/html": [
       "<table>\n",
       "    <thead>\n",
       "        <tr>\n",
       "            <th>Title</th>\n",
       "        </tr>\n",
       "    </thead>\n",
       "    <tbody>\n",
       "        <tr>\n",
       "            <td>Python for Data Science</td>\n",
       "        </tr>\n",
       "        <tr>\n",
       "            <td>Mastering SQL Queries</td>\n",
       "        </tr>\n",
       "        <tr>\n",
       "            <td>Introduction to Machine Learning</td>\n",
       "        </tr>\n",
       "        <tr>\n",
       "            <td>Getting started with WAS CE</td>\n",
       "        </tr>\n",
       "        <tr>\n",
       "            <td>Getting started with DB2 Express-C</td>\n",
       "        </tr>\n",
       "        <tr>\n",
       "            <td>Getting started with DB2 App Dev</td>\n",
       "        </tr>\n",
       "        <tr>\n",
       "            <td>Deep Learning with TensorFlow</td>\n",
       "        </tr>\n",
       "        <tr>\n",
       "            <td>Database Fundamentals</td>\n",
       "        </tr>\n",
       "        <tr>\n",
       "            <td>Data Mining Fundamentals</td>\n",
       "        </tr>\n",
       "        <tr>\n",
       "            <td>Cloud Databases Simplified</td>\n",
       "        </tr>\n",
       "    </tbody>\n",
       "</table>"
      ],
      "text/plain": [
       "[('Python for Data Science',),\n",
       " ('Mastering SQL Queries',),\n",
       " ('Introduction to Machine Learning',),\n",
       " ('Getting started with WAS CE',),\n",
       " ('Getting started with DB2 Express-C',),\n",
       " ('Getting started with DB2 App Dev',),\n",
       " ('Deep Learning with TensorFlow',),\n",
       " ('Database Fundamentals',),\n",
       " ('Data Mining Fundamentals',),\n",
       " ('Cloud Databases Simplified',)]"
      ]
     },
     "execution_count": 7,
     "metadata": {},
     "output_type": "execute_result"
    }
   ],
   "source": [
    "%%sql\n",
    "select title from book ORDER BY title desc limit 10;\n"
   ]
  },
  {
   "cell_type": "markdown",
   "id": "050d3320",
   "metadata": {},
   "source": [
    "#### Another way of specifying the sort column is to indicate the column sequence number."
   ]
  },
  {
   "cell_type": "markdown",
   "id": "1c2a2512",
   "metadata": {},
   "source": [
    "##### select title, pages from book order by two, indicates the column sequence number in the query for the sorting order."
   ]
  },
  {
   "cell_type": "code",
   "execution_count": 9,
   "id": "a60bd39a",
   "metadata": {},
   "outputs": [
    {
     "name": "stdout",
     "output_type": "stream",
     "text": [
      " * sqlite:///bookstore.db\n",
      "Done.\n"
     ]
    },
    {
     "data": {
      "text/html": [
       "<table>\n",
       "    <thead>\n",
       "        <tr>\n",
       "            <th>Title</th>\n",
       "            <th>Pages</th>\n",
       "        </tr>\n",
       "    </thead>\n",
       "    <tbody>\n",
       "        <tr>\n",
       "            <td>AI and Robotics</td>\n",
       "            <td>750</td>\n",
       "        </tr>\n",
       "        <tr>\n",
       "            <td>Deep Learning with TensorFlow</td>\n",
       "            <td>700</td>\n",
       "        </tr>\n",
       "        <tr>\n",
       "            <td>Introduction to Machine Learning</td>\n",
       "            <td>600</td>\n",
       "        </tr>\n",
       "        <tr>\n",
       "            <td>Big Data and Hadoop</td>\n",
       "            <td>500</td>\n",
       "        </tr>\n",
       "        <tr>\n",
       "            <td>Getting started with WAS CE</td>\n",
       "            <td>458</td>\n",
       "        </tr>\n",
       "        <tr>\n",
       "            <td>Mastering SQL Queries</td>\n",
       "            <td>420</td>\n",
       "        </tr>\n",
       "        <tr>\n",
       "            <td>Advanced DB2 for Developers</td>\n",
       "            <td>380</td>\n",
       "        </tr>\n",
       "        <tr>\n",
       "            <td>Getting started with DB2 App Dev</td>\n",
       "            <td>345</td>\n",
       "        </tr>\n",
       "        <tr>\n",
       "            <td>Data Mining Fundamentals</td>\n",
       "            <td>320</td>\n",
       "        </tr>\n",
       "        <tr>\n",
       "            <td>Getting started with DB2 Express-C</td>\n",
       "            <td>300</td>\n",
       "        </tr>\n",
       "    </tbody>\n",
       "</table>"
      ],
      "text/plain": [
       "[('AI and Robotics', 750),\n",
       " ('Deep Learning with TensorFlow', 700),\n",
       " ('Introduction to Machine Learning', 600),\n",
       " ('Big Data and Hadoop', 500),\n",
       " ('Getting started with WAS CE', 458),\n",
       " ('Mastering SQL Queries', 420),\n",
       " ('Advanced DB2 for Developers', 380),\n",
       " ('Getting started with DB2 App Dev', 345),\n",
       " ('Data Mining Fundamentals', 320),\n",
       " ('Getting started with DB2 Express-C', 300)]"
      ]
     },
     "execution_count": 9,
     "metadata": {},
     "output_type": "execute_result"
    }
   ],
   "source": [
    "%%sql\n",
    "select title, pages from book ORDER BY 2 desc limit 10;\n"
   ]
  },
  {
   "cell_type": "markdown",
   "id": "f03eb5c7",
   "metadata": {},
   "source": [
    "#### Instead of specifying the column name pages, the number two is used. In the select statement, the second column specified in the column list is pages,"
   ]
  },
  {
   "cell_type": "code",
   "execution_count": 10,
   "id": "09a6e0ff",
   "metadata": {
    "scrolled": true
   },
   "outputs": [
    {
     "name": "stdout",
     "output_type": "stream",
     "text": [
      " * sqlite:///bookstore.db\n",
      "20 rows affected.\n"
     ]
    },
    {
     "data": {
      "text/plain": [
       "[]"
      ]
     },
     "execution_count": 10,
     "metadata": {},
     "output_type": "execute_result"
    }
   ],
   "source": [
    "%%sql\n",
    "\n",
    "INSERT INTO Author (Author_ID, First_Name, Last_Name, Country) \n",
    "VALUES \n",
    "    ('A21', 'Lucas', 'Harris', 'USA'),\n",
    "    ('A22', 'Mia', 'Robinson', 'UK'),\n",
    "    ('A23', 'Ethan', 'Scott', 'Canada'),\n",
    "    ('A24', 'Isabella', 'Young', 'Australia'),\n",
    "    ('A25', 'Alexander', 'King', 'Germany'),\n",
    "    ('A26', 'Grace', 'Green', 'France'),\n",
    "    ('A27', 'Jackson', 'Hall', 'Brazil'),\n",
    "    ('A28', 'Chloe', 'Adams', 'USA'),\n",
    "    ('A29', 'Sebastian', 'Baker', 'Italy'),\n",
    "    ('A30', 'Avery', 'Gonzalez', 'South Africa'),\n",
    "    ('A31', 'Jack', 'Nelson', 'India'),\n",
    "    ('A32', 'Ella', 'Carter', 'Japan'),\n",
    "    ('A33', 'Logan', 'Mitchell', 'China'),\n",
    "    ('A34', 'Lily', 'Perez', 'Mexico'),\n",
    "    ('A35', 'Ryan', 'Roberts', 'Spain'),\n",
    "    ('A36', 'Zoe', 'Turner', 'Argentina'),\n",
    "    ('A37', 'Nathan', 'Phillips', 'Colombia'),\n",
    "    ('A38', 'Hannah', 'Campbell', 'Portugal'),\n",
    "    ('A39', 'Dylan', 'Parker', 'Russia'),\n",
    "    ('A40', 'Leah', 'Evans', 'Netherlands');\n"
   ]
  },
  {
   "cell_type": "code",
   "execution_count": 11,
   "id": "68ad52cb",
   "metadata": {},
   "outputs": [
    {
     "name": "stdout",
     "output_type": "stream",
     "text": [
      " * sqlite:///bookstore.db\n",
      "Done.\n"
     ]
    },
    {
     "data": {
      "text/html": [
       "<table>\n",
       "    <thead>\n",
       "        <tr>\n",
       "            <th>Title</th>\n",
       "            <th>Pages</th>\n",
       "        </tr>\n",
       "    </thead>\n",
       "    <tbody>\n",
       "        <tr>\n",
       "            <td>AI and Robotics</td>\n",
       "            <td>750</td>\n",
       "        </tr>\n",
       "        <tr>\n",
       "            <td>Deep Learning with TensorFlow</td>\n",
       "            <td>700</td>\n",
       "        </tr>\n",
       "        <tr>\n",
       "            <td>Introduction to Machine Learning</td>\n",
       "            <td>600</td>\n",
       "        </tr>\n",
       "        <tr>\n",
       "            <td>Big Data and Hadoop</td>\n",
       "            <td>500</td>\n",
       "        </tr>\n",
       "        <tr>\n",
       "            <td>Getting started with WAS CE</td>\n",
       "            <td>458</td>\n",
       "        </tr>\n",
       "        <tr>\n",
       "            <td>Mastering SQL Queries</td>\n",
       "            <td>420</td>\n",
       "        </tr>\n",
       "        <tr>\n",
       "            <td>Advanced DB2 for Developers</td>\n",
       "            <td>380</td>\n",
       "        </tr>\n",
       "        <tr>\n",
       "            <td>Getting started with DB2 App Dev</td>\n",
       "            <td>345</td>\n",
       "        </tr>\n",
       "        <tr>\n",
       "            <td>Data Mining Fundamentals</td>\n",
       "            <td>320</td>\n",
       "        </tr>\n",
       "        <tr>\n",
       "            <td>Getting started with DB2 Express-C</td>\n",
       "            <td>300</td>\n",
       "        </tr>\n",
       "    </tbody>\n",
       "</table>"
      ],
      "text/plain": [
       "[('AI and Robotics', 750),\n",
       " ('Deep Learning with TensorFlow', 700),\n",
       " ('Introduction to Machine Learning', 600),\n",
       " ('Big Data and Hadoop', 500),\n",
       " ('Getting started with WAS CE', 458),\n",
       " ('Mastering SQL Queries', 420),\n",
       " ('Advanced DB2 for Developers', 380),\n",
       " ('Getting started with DB2 App Dev', 345),\n",
       " ('Data Mining Fundamentals', 320),\n",
       " ('Getting started with DB2 Express-C', 300)]"
      ]
     },
     "execution_count": 11,
     "metadata": {},
     "output_type": "execute_result"
    }
   ],
   "source": [
    "%%sql\n",
    "select title, pages from book ORDER BY 2 desc limit 10;\n"
   ]
  },
  {
   "cell_type": "code",
   "execution_count": null,
   "id": "17f731aa",
   "metadata": {},
   "outputs": [],
   "source": []
  },
  {
   "cell_type": "code",
   "execution_count": null,
   "id": "180f4fbf",
   "metadata": {},
   "outputs": [],
   "source": []
  }
 ],
 "metadata": {
  "kernelspec": {
   "display_name": "Python 3 (ipykernel)",
   "language": "python",
   "name": "python3"
  },
  "language_info": {
   "codemirror_mode": {
    "name": "ipython",
    "version": 3
   },
   "file_extension": ".py",
   "mimetype": "text/x-python",
   "name": "python",
   "nbconvert_exporter": "python",
   "pygments_lexer": "ipython3",
   "version": "3.11.5"
  }
 },
 "nbformat": 4,
 "nbformat_minor": 5
}
