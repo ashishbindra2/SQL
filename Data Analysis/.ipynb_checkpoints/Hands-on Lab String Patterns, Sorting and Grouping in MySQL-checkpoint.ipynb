{
 "cells": [
  {
   "cell_type": "markdown",
   "id": "bcc448ca",
   "metadata": {},
   "source": [
    "#### Objectives\n",
    "After completing this lab, you will be able to:\n",
    "\n",
    "1. Filter the output of a SELECT query by using string patterns, ranges, or sets of values.\n",
    "2. Sort the result set in either ascending or descending order in accordance with a pre-determined column.\n",
    "3. Group the outcomes of a query based on a selected parameter to further refine the response."
   ]
  },
  {
   "cell_type": "code",
   "execution_count": 1,
   "id": "65b625d4",
   "metadata": {},
   "outputs": [],
   "source": [
    "%load_ext sql\n",
    "%sql sqlite:///HR.db"
   ]
  },
  {
   "cell_type": "code",
   "execution_count": 2,
   "id": "611d62f7",
   "metadata": {
    "scrolled": true
   },
   "outputs": [
    {
     "name": "stdout",
     "output_type": "stream",
     "text": [
      " * sqlite:///HR.db\n",
      "Done.\n",
      "Done.\n",
      "Done.\n",
      "Done.\n",
      "Done.\n"
     ]
    },
    {
     "data": {
      "text/plain": [
       "[]"
      ]
     },
     "execution_count": 2,
     "metadata": {},
     "output_type": "execute_result"
    }
   ],
   "source": [
    "%%sql\n",
    "\n",
    "CREATE TABLE EMPLOYEES (\n",
    "                            EMP_ID CHAR(9) NOT NULL, \n",
    "                            F_NAME VARCHAR(15) NOT NULL,\n",
    "                            L_NAME VARCHAR(15) NOT NULL,\n",
    "                            SSN CHAR(9),\n",
    "                            B_DATE DATE,\n",
    "                            SEX CHAR,\n",
    "                            ADDRESS VARCHAR(30),\n",
    "                            JOB_ID CHAR(9),\n",
    "                            SALARY DECIMAL(10,2),\n",
    "                            MANAGER_ID CHAR(9),\n",
    "                            DEP_ID CHAR(9) NOT NULL,\n",
    "                            PRIMARY KEY (EMP_ID));\n",
    "                            \n",
    "  CREATE TABLE JOB_HISTORY (\n",
    "                            EMPL_ID CHAR(9) NOT NULL, \n",
    "                            START_DATE DATE,\n",
    "                            JOBS_ID CHAR(9) NOT NULL,\n",
    "                            DEPT_ID CHAR(9),\n",
    "                            PRIMARY KEY (EMPL_ID,JOBS_ID));\n",
    " \n",
    " CREATE TABLE JOBS (\n",
    "                            JOB_IDENT CHAR(9) NOT NULL, \n",
    "                            JOB_TITLE VARCHAR(30),\n",
    "                            MIN_SALARY DECIMAL(10,2),\n",
    "                            MAX_SALARY DECIMAL(10,2),\n",
    "                            PRIMARY KEY (JOB_IDENT));\n",
    "\n",
    "CREATE TABLE DEPARTMENTS (\n",
    "                            DEPT_ID_DEP CHAR(9) NOT NULL, \n",
    "                            DEP_NAME VARCHAR(15) ,\n",
    "                            MANAGER_ID CHAR(9),\n",
    "                            LOC_ID CHAR(9),\n",
    "                            PRIMARY KEY (DEPT_ID_DEP));\n",
    "\n",
    "CREATE TABLE LOCATIONS (\n",
    "                            LOCT_ID CHAR(9) NOT NULL,\n",
    "                            DEP_ID_LOC CHAR(9) NOT NULL,\n",
    "                            PRIMARY KEY (LOCT_ID,DEP_ID_LOC));\n",
    "                            "
   ]
  },
  {
   "cell_type": "code",
   "execution_count": 7,
   "id": "127a3325",
   "metadata": {},
   "outputs": [
    {
     "name": "stdout",
     "output_type": "stream",
     "text": [
      " * sqlite:///HR.db\n",
      "10 rows affected.\n"
     ]
    },
    {
     "data": {
      "text/plain": [
       "[]"
      ]
     },
     "execution_count": 7,
     "metadata": {},
     "output_type": "execute_result"
    }
   ],
   "source": [
    "%%sql\n",
    "\n",
    "Insert into JOB_HISTORY (EMPL_ID, START_DATE, JOBS_ID, DEPT_ID)\n",
    "VALUES \n",
    "(\"E1001\",2000-08-01,100,2),\n",
    "(\"E1002\",2001-08-01,200,5),\n",
    "(\"E1003\",2001-08-16,300,5),\n",
    "(\"E1004\",2000-08-16,400,5),\n",
    "(\"E1005\",2000-05-30,500,2),\n",
    "(\"E1006\",2001-08-16,600,2),\n",
    "(\"E1007\",2002-05-30,650,7),\n",
    "(\"E1008\",2010-05-06,660,7),\n",
    "(\"E1009\",2016-08-16,234,7),\n",
    "(\"E1010\",2016-08-16,220,5);"
   ]
  },
  {
   "cell_type": "code",
   "execution_count": 8,
   "id": "40a60559",
   "metadata": {},
   "outputs": [
    {
     "name": "stdout",
     "output_type": "stream",
     "text": [
      " * sqlite:///HR.db\n",
      "3 rows affected.\n"
     ]
    },
    {
     "data": {
      "text/plain": [
       "[]"
      ]
     },
     "execution_count": 8,
     "metadata": {},
     "output_type": "execute_result"
    }
   ],
   "source": [
    "%%sql\n",
    "\n",
    "Insert into LOCATIONS (LOCT_ID, DEP_ID_LOC)\n",
    "VALUES\n",
    "('L0001',2),\n",
    "('L0002',5),\n",
    "('L0003',7)"
   ]
  },
  {
   "cell_type": "code",
   "execution_count": 10,
   "id": "99d36d4f",
   "metadata": {},
   "outputs": [
    {
     "name": "stdout",
     "output_type": "stream",
     "text": [
      " * sqlite:///HR.db\n",
      "10 rows affected.\n"
     ]
    },
    {
     "data": {
      "text/plain": [
       "[]"
      ]
     },
     "execution_count": 10,
     "metadata": {},
     "output_type": "execute_result"
    }
   ],
   "source": [
    "%%sql\n",
    "\n",
    "Insert into EMPLOYEES (EMP_ID, F_NAME, L_NAME, SSN, B_DATE, SEX, ADDRESS, JOB_ID, SALARY,MANAGER_ID,DEP_ID)\n",
    "VALUES\n",
    "(\"E1001\",\"John\",\"Thomas\",123456,1976-09-01,\"M\",\"5631 Rice, OakPark,IL\",100,100000,30001,2),\n",
    "(\"E1002\",\"Alice\",\"James\",123457,1972-07-31,\"F\",\"980 Berry ln, Elgin,IL\",200,80000,30002,5),\n",
    "(\"E1003\",\"Steve\",\"Wells\",123458,1980-10-08,\"M\",\"291 Springs, Gary,IL\",300,50000,30002,5),\n",
    "(\"E1004\",\"Santosh\",\"Kumar\",123459,1985-07-20,\"M\",\"511 Aurora Av, Aurora,IL\",400,60000,30002,5),\n",
    "(\"E1005\",\"Ahmed\",\"Hussain\",123410,1981-04-01,\"M\",\"216 Oak Tree, Geneva,IL\",500,70000,30001,2),\n",
    "(\"E1006\",\"Nancy\",\"Allen\",123411,1978-06-02,\"F\",\"111 Green Pl, Elgin,IL\",600,90000,30001,2),\n",
    "(\"E1007\",\"Mary\",\"Thomas\",123412,1975-05-05,\"F\",\"100 Rose Pl, Gary,IL\",650,65000,30003,7),\n",
    "(\"E1008\",\"Bharath\",\"Gupta\",123413,1985-06-05,\"M\",\"145 Berry Ln, Naperville,IL\",660,65000,30003,7),\n",
    "(\"E1009\",\"Andrea\",\"Jones\",123414,1990-09-07,\"F\",\"120 Fall Creek, Gary,IL\",234,70000,30003,7),\n",
    "(\"E1010\",\"Ann\",\"Jacob\",123415,1982-03-30,\"F\",\"111 Britany Springs,Elgin,IL\",220,70000,30002,5)\n"
   ]
  },
  {
   "cell_type": "code",
   "execution_count": 11,
   "id": "8e2a25a8",
   "metadata": {
    "scrolled": true
   },
   "outputs": [
    {
     "name": "stdout",
     "output_type": "stream",
     "text": [
      " * sqlite:///HR.db\n",
      "3 rows affected.\n"
     ]
    },
    {
     "data": {
      "text/plain": [
       "[]"
      ]
     },
     "execution_count": 11,
     "metadata": {},
     "output_type": "execute_result"
    }
   ],
   "source": [
    "%%sql\n",
    "\n",
    "Insert into DEPARTMENTS (DEPT_ID_DEP, DEP_NAME, MANAGER_ID, LOC_ID)\n",
    "VALUES\n",
    "(2,\"Architect Group\",30001,\"L0001\"),\n",
    "(5,\"Software Group\",30002,\"L0002\"),\n",
    "(7,\"Design Team\",30003,\"L0003\")\n"
   ]
  },
  {
   "cell_type": "code",
   "execution_count": 12,
   "id": "18a0d9f9",
   "metadata": {
    "scrolled": true
   },
   "outputs": [
    {
     "name": "stdout",
     "output_type": "stream",
     "text": [
      " * sqlite:///HR.db\n",
      "10 rows affected.\n"
     ]
    },
    {
     "data": {
      "text/plain": [
       "[]"
      ]
     },
     "execution_count": 12,
     "metadata": {},
     "output_type": "execute_result"
    }
   ],
   "source": [
    "%%sql\n",
    "\n",
    "Insert into JOBS (JOB_IDENT, JOB_TITLE, MIN_SALARY, MAX_SALARY)\n",
    "VALUES\n",
    "(100,\"Sr. Architect\",60000,100000),\n",
    "(200,\"Sr. Software Developer\",60000,80000),\n",
    "(300,\"Jr.Software Developer\",40000,60000),\n",
    "(400,\"Jr.Software Developer\",40000,60000),\n",
    "(500,\"Jr. Architect\",50000,70000),\n",
    "(600,\"Lead Architect\",70000,100000),\n",
    "(650,\"Jr. Designer\",60000,70000),\n",
    "(660,\"Jr. Designer\",60000,70000),\n",
    "(234,\"Sr. Designer\",70000,90000),\n",
    "(220,\"Sr. Designer\",70000,90000)\n"
   ]
  },
  {
   "cell_type": "code",
   "execution_count": 13,
   "id": "d192f22f",
   "metadata": {},
   "outputs": [
    {
     "name": "stdout",
     "output_type": "stream",
     "text": [
      " * sqlite:///HR.db\n",
      "Done.\n"
     ]
    },
    {
     "data": {
      "text/html": [
       "<table>\n",
       "    <thead>\n",
       "        <tr>\n",
       "            <th>F_NAME</th>\n",
       "            <th>L_NAME</th>\n",
       "        </tr>\n",
       "    </thead>\n",
       "    <tbody>\n",
       "        <tr>\n",
       "            <td>Alice</td>\n",
       "            <td>James</td>\n",
       "        </tr>\n",
       "        <tr>\n",
       "            <td>Nancy</td>\n",
       "            <td>Allen</td>\n",
       "        </tr>\n",
       "        <tr>\n",
       "            <td>Ann</td>\n",
       "            <td>Jacob</td>\n",
       "        </tr>\n",
       "    </tbody>\n",
       "</table>"
      ],
      "text/plain": [
       "[('Alice', 'James'), ('Nancy', 'Allen'), ('Ann', 'Jacob')]"
      ]
     },
     "execution_count": 13,
     "metadata": {},
     "output_type": "execute_result"
    }
   ],
   "source": [
    "%%sql\n",
    "\n",
    "SELECT F_NAME, L_NAME\n",
    "FROM EMPLOYEES\n",
    "WHERE ADDRESS LIKE '%Elgin,IL%';"
   ]
  },
  {
   "cell_type": "markdown",
   "id": "25f608c2",
   "metadata": {},
   "source": [
    "#### Now assume that you want to identify the employees who were born during the 70s. The query above can be modified to"
   ]
  },
  {
   "cell_type": "code",
   "execution_count": 14,
   "id": "051cf4aa",
   "metadata": {},
   "outputs": [
    {
     "name": "stdout",
     "output_type": "stream",
     "text": [
      " * sqlite:///HR.db\n",
      "Done.\n"
     ]
    },
    {
     "data": {
      "text/html": [
       "<table>\n",
       "    <thead>\n",
       "        <tr>\n",
       "            <th>F_NAME</th>\n",
       "            <th>L_NAME</th>\n",
       "        </tr>\n",
       "    </thead>\n",
       "    <tbody>\n",
       "        <tr>\n",
       "            <td>Ahmed</td>\n",
       "            <td>Hussain</td>\n",
       "        </tr>\n",
       "        <tr>\n",
       "            <td>Nancy</td>\n",
       "            <td>Allen</td>\n",
       "        </tr>\n",
       "        <tr>\n",
       "            <td>Bharath</td>\n",
       "            <td>Gupta</td>\n",
       "        </tr>\n",
       "        <tr>\n",
       "            <td>Andrea</td>\n",
       "            <td>Jones</td>\n",
       "        </tr>\n",
       "    </tbody>\n",
       "</table>"
      ],
      "text/plain": [
       "[('Ahmed', 'Hussain'),\n",
       " ('Nancy', 'Allen'),\n",
       " ('Bharath', 'Gupta'),\n",
       " ('Andrea', 'Jones')]"
      ]
     },
     "execution_count": 14,
     "metadata": {},
     "output_type": "execute_result"
    }
   ],
   "source": [
    "%%sql\n",
    "\n",
    "SELECT F_NAME, L_NAME\n",
    "FROM EMPLOYEES\n",
    "WHERE B_DATE LIKE '197%';"
   ]
  },
  {
   "cell_type": "markdown",
   "id": "af5be287",
   "metadata": {},
   "source": [
    "#### Let us retrieve all employee records in department 5 where salary is between 60000 and 70000. The query that will be used is"
   ]
  },
  {
   "cell_type": "code",
   "execution_count": 16,
   "id": "870d4bed",
   "metadata": {},
   "outputs": [
    {
     "name": "stdout",
     "output_type": "stream",
     "text": [
      " * sqlite:///HR.db\n",
      "Done.\n"
     ]
    },
    {
     "data": {
      "text/html": [
       "<table>\n",
       "    <thead>\n",
       "        <tr>\n",
       "            <th>EMP_ID</th>\n",
       "            <th>F_NAME</th>\n",
       "            <th>L_NAME</th>\n",
       "            <th>SSN</th>\n",
       "            <th>B_DATE</th>\n",
       "            <th>SEX</th>\n",
       "            <th>ADDRESS</th>\n",
       "            <th>JOB_ID</th>\n",
       "            <th>SALARY</th>\n",
       "            <th>MANAGER_ID</th>\n",
       "            <th>DEP_ID</th>\n",
       "        </tr>\n",
       "    </thead>\n",
       "    <tbody>\n",
       "        <tr>\n",
       "            <td>E1004</td>\n",
       "            <td>Santosh</td>\n",
       "            <td>Kumar</td>\n",
       "            <td>123459</td>\n",
       "            <td>1958</td>\n",
       "            <td>M</td>\n",
       "            <td>511 Aurora Av, Aurora,IL</td>\n",
       "            <td>400</td>\n",
       "            <td>60000</td>\n",
       "            <td>30002</td>\n",
       "            <td>5</td>\n",
       "        </tr>\n",
       "        <tr>\n",
       "            <td>E1010</td>\n",
       "            <td>Ann</td>\n",
       "            <td>Jacob</td>\n",
       "            <td>123415</td>\n",
       "            <td>1949</td>\n",
       "            <td>F</td>\n",
       "            <td>111 Britany Springs,Elgin,IL</td>\n",
       "            <td>220</td>\n",
       "            <td>70000</td>\n",
       "            <td>30002</td>\n",
       "            <td>5</td>\n",
       "        </tr>\n",
       "    </tbody>\n",
       "</table>"
      ],
      "text/plain": [
       "[('E1004', 'Santosh', 'Kumar', '123459', 1958, 'M', '511 Aurora Av, Aurora,IL', '400', 60000, '30002', '5'),\n",
       " ('E1010', 'Ann', 'Jacob', '123415', 1949, 'F', '111 Britany Springs,Elgin,IL', '220', 70000, '30002', '5')]"
      ]
     },
     "execution_count": 16,
     "metadata": {},
     "output_type": "execute_result"
    }
   ],
   "source": [
    "%%sql\n",
    "\n",
    "SELECT *\n",
    "FROM EMPLOYEES\n",
    "WHERE (SALARY BETWEEN 60000 AND 70000) AND DEP_ID = 5;"
   ]
  },
  {
   "cell_type": "markdown",
   "id": "223f3de7",
   "metadata": {},
   "source": [
    "### Sorting\n",
    "retrieve a list of employees ordered by department ID."
   ]
  },
  {
   "cell_type": "code",
   "execution_count": 17,
   "id": "04b335ec",
   "metadata": {},
   "outputs": [
    {
     "name": "stdout",
     "output_type": "stream",
     "text": [
      " * sqlite:///HR.db\n",
      "Done.\n"
     ]
    },
    {
     "data": {
      "text/html": [
       "<table>\n",
       "    <thead>\n",
       "        <tr>\n",
       "            <th>F_NAME</th>\n",
       "            <th>L_NAME</th>\n",
       "            <th>DEP_ID</th>\n",
       "        </tr>\n",
       "    </thead>\n",
       "    <tbody>\n",
       "        <tr>\n",
       "            <td>John</td>\n",
       "            <td>Thomas</td>\n",
       "            <td>2</td>\n",
       "        </tr>\n",
       "        <tr>\n",
       "            <td>Ahmed</td>\n",
       "            <td>Hussain</td>\n",
       "            <td>2</td>\n",
       "        </tr>\n",
       "        <tr>\n",
       "            <td>Nancy</td>\n",
       "            <td>Allen</td>\n",
       "            <td>2</td>\n",
       "        </tr>\n",
       "        <tr>\n",
       "            <td>Alice</td>\n",
       "            <td>James</td>\n",
       "            <td>5</td>\n",
       "        </tr>\n",
       "        <tr>\n",
       "            <td>Steve</td>\n",
       "            <td>Wells</td>\n",
       "            <td>5</td>\n",
       "        </tr>\n",
       "        <tr>\n",
       "            <td>Santosh</td>\n",
       "            <td>Kumar</td>\n",
       "            <td>5</td>\n",
       "        </tr>\n",
       "        <tr>\n",
       "            <td>Ann</td>\n",
       "            <td>Jacob</td>\n",
       "            <td>5</td>\n",
       "        </tr>\n",
       "        <tr>\n",
       "            <td>Mary</td>\n",
       "            <td>Thomas</td>\n",
       "            <td>7</td>\n",
       "        </tr>\n",
       "        <tr>\n",
       "            <td>Bharath</td>\n",
       "            <td>Gupta</td>\n",
       "            <td>7</td>\n",
       "        </tr>\n",
       "        <tr>\n",
       "            <td>Andrea</td>\n",
       "            <td>Jones</td>\n",
       "            <td>7</td>\n",
       "        </tr>\n",
       "    </tbody>\n",
       "</table>"
      ],
      "text/plain": [
       "[('John', 'Thomas', '2'),\n",
       " ('Ahmed', 'Hussain', '2'),\n",
       " ('Nancy', 'Allen', '2'),\n",
       " ('Alice', 'James', '5'),\n",
       " ('Steve', 'Wells', '5'),\n",
       " ('Santosh', 'Kumar', '5'),\n",
       " ('Ann', 'Jacob', '5'),\n",
       " ('Mary', 'Thomas', '7'),\n",
       " ('Bharath', 'Gupta', '7'),\n",
       " ('Andrea', 'Jones', '7')]"
      ]
     },
     "execution_count": 17,
     "metadata": {},
     "output_type": "execute_result"
    }
   ],
   "source": [
    "%%sql\n",
    "SELECT F_NAME, L_NAME, DEP_ID \n",
    "FROM EMPLOYEES\n",
    "ORDER BY DEP_ID;"
   ]
  },
  {
   "cell_type": "markdown",
   "id": "96c480d4",
   "metadata": {},
   "source": [
    "#### the records should be ordered in descending alphabetical order by last name. For descending order, you can make use of the DESC clause."
   ]
  },
  {
   "cell_type": "code",
   "execution_count": 18,
   "id": "090ccbcd",
   "metadata": {},
   "outputs": [
    {
     "name": "stdout",
     "output_type": "stream",
     "text": [
      " * sqlite:///HR.db\n",
      "Done.\n"
     ]
    },
    {
     "data": {
      "text/html": [
       "<table>\n",
       "    <thead>\n",
       "        <tr>\n",
       "            <th>F_NAME</th>\n",
       "            <th>L_NAME</th>\n",
       "            <th>DEP_ID</th>\n",
       "        </tr>\n",
       "    </thead>\n",
       "    <tbody>\n",
       "        <tr>\n",
       "            <td>Mary</td>\n",
       "            <td>Thomas</td>\n",
       "            <td>7</td>\n",
       "        </tr>\n",
       "        <tr>\n",
       "            <td>Andrea</td>\n",
       "            <td>Jones</td>\n",
       "            <td>7</td>\n",
       "        </tr>\n",
       "        <tr>\n",
       "            <td>Bharath</td>\n",
       "            <td>Gupta</td>\n",
       "            <td>7</td>\n",
       "        </tr>\n",
       "        <tr>\n",
       "            <td>Steve</td>\n",
       "            <td>Wells</td>\n",
       "            <td>5</td>\n",
       "        </tr>\n",
       "        <tr>\n",
       "            <td>Santosh</td>\n",
       "            <td>Kumar</td>\n",
       "            <td>5</td>\n",
       "        </tr>\n",
       "        <tr>\n",
       "            <td>Alice</td>\n",
       "            <td>James</td>\n",
       "            <td>5</td>\n",
       "        </tr>\n",
       "        <tr>\n",
       "            <td>Ann</td>\n",
       "            <td>Jacob</td>\n",
       "            <td>5</td>\n",
       "        </tr>\n",
       "        <tr>\n",
       "            <td>John</td>\n",
       "            <td>Thomas</td>\n",
       "            <td>2</td>\n",
       "        </tr>\n",
       "        <tr>\n",
       "            <td>Ahmed</td>\n",
       "            <td>Hussain</td>\n",
       "            <td>2</td>\n",
       "        </tr>\n",
       "        <tr>\n",
       "            <td>Nancy</td>\n",
       "            <td>Allen</td>\n",
       "            <td>2</td>\n",
       "        </tr>\n",
       "    </tbody>\n",
       "</table>"
      ],
      "text/plain": [
       "[('Mary', 'Thomas', '7'),\n",
       " ('Andrea', 'Jones', '7'),\n",
       " ('Bharath', 'Gupta', '7'),\n",
       " ('Steve', 'Wells', '5'),\n",
       " ('Santosh', 'Kumar', '5'),\n",
       " ('Alice', 'James', '5'),\n",
       " ('Ann', 'Jacob', '5'),\n",
       " ('John', 'Thomas', '2'),\n",
       " ('Ahmed', 'Hussain', '2'),\n",
       " ('Nancy', 'Allen', '2')]"
      ]
     },
     "execution_count": 18,
     "metadata": {},
     "output_type": "execute_result"
    }
   ],
   "source": [
    "%%sql\n",
    "\n",
    "SELECT F_NAME, L_NAME, DEP_ID \n",
    "FROM EMPLOYEES\n",
    "ORDER BY DEP_ID DESC, L_NAME DESC;"
   ]
  },
  {
   "cell_type": "markdown",
   "id": "88a54c45",
   "metadata": {},
   "source": [
    "### Grouping\n",
    "AVG is a function that can be used to calculate the Average or Mean of all values of a specified column in the result set. \n",
    "- A good example of grouping would be if For each department ID, we wish to retrieve the number of employees in the department.\n",
    "\n"
   ]
  },
  {
   "cell_type": "code",
   "execution_count": 19,
   "id": "f03702e3",
   "metadata": {
    "scrolled": true
   },
   "outputs": [
    {
     "name": "stdout",
     "output_type": "stream",
     "text": [
      " * sqlite:///HR.db\n",
      "Done.\n"
     ]
    },
    {
     "data": {
      "text/html": [
       "<table>\n",
       "    <thead>\n",
       "        <tr>\n",
       "            <th>DEP_ID</th>\n",
       "            <th>COUNT(*)</th>\n",
       "        </tr>\n",
       "    </thead>\n",
       "    <tbody>\n",
       "        <tr>\n",
       "            <td>2</td>\n",
       "            <td>3</td>\n",
       "        </tr>\n",
       "        <tr>\n",
       "            <td>5</td>\n",
       "            <td>4</td>\n",
       "        </tr>\n",
       "        <tr>\n",
       "            <td>7</td>\n",
       "            <td>3</td>\n",
       "        </tr>\n",
       "    </tbody>\n",
       "</table>"
      ],
      "text/plain": [
       "[('2', 3), ('5', 4), ('7', 3)]"
      ]
     },
     "execution_count": 19,
     "metadata": {},
     "output_type": "execute_result"
    }
   ],
   "source": [
    "%%sql\n",
    "\n",
    "SELECT DEP_ID, COUNT(*)\n",
    "FROM EMPLOYEES\n",
    "GROUP BY DEP_ID;"
   ]
  },
  {
   "cell_type": "markdown",
   "id": "69215109",
   "metadata": {},
   "source": [
    "####  retrieve the number of employees in the department and the average employee salary in the department."
   ]
  },
  {
   "cell_type": "code",
   "execution_count": 20,
   "id": "ddda7138",
   "metadata": {},
   "outputs": [
    {
     "name": "stdout",
     "output_type": "stream",
     "text": [
      " * sqlite:///HR.db\n",
      "Done.\n"
     ]
    },
    {
     "data": {
      "text/html": [
       "<table>\n",
       "    <thead>\n",
       "        <tr>\n",
       "            <th>DEP_ID</th>\n",
       "            <th>COUNT(*)</th>\n",
       "            <th>AVG(SALARY)</th>\n",
       "        </tr>\n",
       "    </thead>\n",
       "    <tbody>\n",
       "        <tr>\n",
       "            <td>2</td>\n",
       "            <td>3</td>\n",
       "            <td>86666.66666666667</td>\n",
       "        </tr>\n",
       "        <tr>\n",
       "            <td>5</td>\n",
       "            <td>4</td>\n",
       "            <td>65000.0</td>\n",
       "        </tr>\n",
       "        <tr>\n",
       "            <td>7</td>\n",
       "            <td>3</td>\n",
       "            <td>66666.66666666667</td>\n",
       "        </tr>\n",
       "    </tbody>\n",
       "</table>"
      ],
      "text/plain": [
       "[('2', 3, 86666.66666666667), ('5', 4, 65000.0), ('7', 3, 66666.66666666667)]"
      ]
     },
     "execution_count": 20,
     "metadata": {},
     "output_type": "execute_result"
    }
   ],
   "source": [
    "%%sql\n",
    "SELECT DEP_ID, COUNT(*), AVG(SALARY)\n",
    "FROM EMPLOYEES\n",
    "GROUP BY DEP_ID;"
   ]
  },
  {
   "cell_type": "markdown",
   "id": "603c50fe",
   "metadata": {},
   "source": [
    "#### Label the computed columns in the result set of the last problem as NUM_EMPLOYEES and AVG_SALARY."
   ]
  },
  {
   "cell_type": "code",
   "execution_count": 21,
   "id": "e8f0b304",
   "metadata": {},
   "outputs": [
    {
     "name": "stdout",
     "output_type": "stream",
     "text": [
      " * sqlite:///HR.db\n",
      "Done.\n"
     ]
    },
    {
     "data": {
      "text/html": [
       "<table>\n",
       "    <thead>\n",
       "        <tr>\n",
       "            <th>DEP_ID</th>\n",
       "            <th>NUM_EMPLOYEES</th>\n",
       "            <th>AVG_SALARY</th>\n",
       "        </tr>\n",
       "    </thead>\n",
       "    <tbody>\n",
       "        <tr>\n",
       "            <td>2</td>\n",
       "            <td>3</td>\n",
       "            <td>86666.66666666667</td>\n",
       "        </tr>\n",
       "        <tr>\n",
       "            <td>5</td>\n",
       "            <td>4</td>\n",
       "            <td>65000.0</td>\n",
       "        </tr>\n",
       "        <tr>\n",
       "            <td>7</td>\n",
       "            <td>3</td>\n",
       "            <td>66666.66666666667</td>\n",
       "        </tr>\n",
       "    </tbody>\n",
       "</table>"
      ],
      "text/plain": [
       "[('2', 3, 86666.66666666667), ('5', 4, 65000.0), ('7', 3, 66666.66666666667)]"
      ]
     },
     "execution_count": 21,
     "metadata": {},
     "output_type": "execute_result"
    }
   ],
   "source": [
    "%%sql\n",
    "\n",
    "SELECT DEP_ID, COUNT(*) AS \"NUM_EMPLOYEES\", AVG(SALARY) AS \"AVG_SALARY\"\n",
    "FROM EMPLOYEES\n",
    "GROUP BY DEP_ID;"
   ]
  },
  {
   "cell_type": "markdown",
   "id": "a7fae4b3",
   "metadata": {},
   "source": [
    "#### e can sort the result of the previous query by average salary"
   ]
  },
  {
   "cell_type": "code",
   "execution_count": 22,
   "id": "a4ef3f76",
   "metadata": {
    "scrolled": true
   },
   "outputs": [
    {
     "name": "stdout",
     "output_type": "stream",
     "text": [
      " * sqlite:///HR.db\n",
      "Done.\n"
     ]
    },
    {
     "data": {
      "text/html": [
       "<table>\n",
       "    <thead>\n",
       "        <tr>\n",
       "            <th>DEP_ID</th>\n",
       "            <th>NUM_EMPLOYEES</th>\n",
       "            <th>AVG_SALARY</th>\n",
       "        </tr>\n",
       "    </thead>\n",
       "    <tbody>\n",
       "        <tr>\n",
       "            <td>5</td>\n",
       "            <td>4</td>\n",
       "            <td>65000.0</td>\n",
       "        </tr>\n",
       "        <tr>\n",
       "            <td>7</td>\n",
       "            <td>3</td>\n",
       "            <td>66666.66666666667</td>\n",
       "        </tr>\n",
       "        <tr>\n",
       "            <td>2</td>\n",
       "            <td>3</td>\n",
       "            <td>86666.66666666667</td>\n",
       "        </tr>\n",
       "    </tbody>\n",
       "</table>"
      ],
      "text/plain": [
       "[('5', 4, 65000.0), ('7', 3, 66666.66666666667), ('2', 3, 86666.66666666667)]"
      ]
     },
     "execution_count": 22,
     "metadata": {},
     "output_type": "execute_result"
    }
   ],
   "source": [
    "%%sql\n",
    "\n",
    "SELECT DEP_ID, COUNT(*) AS \"NUM_EMPLOYEES\", AVG(SALARY) AS \"AVG_SALARY\"\n",
    "FROM EMPLOYEES\n",
    "GROUP BY DEP_ID\n",
    "ORDER BY AVG_SALARY;"
   ]
  },
  {
   "cell_type": "markdown",
   "id": "80107367",
   "metadata": {},
   "source": [
    "#### we wish to limit the result to departments with fewer than 4 employees,"
   ]
  },
  {
   "cell_type": "code",
   "execution_count": 23,
   "id": "483500c4",
   "metadata": {},
   "outputs": [
    {
     "name": "stdout",
     "output_type": "stream",
     "text": [
      " * sqlite:///HR.db\n",
      "Done.\n"
     ]
    },
    {
     "data": {
      "text/html": [
       "<table>\n",
       "    <thead>\n",
       "        <tr>\n",
       "            <th>DEP_ID</th>\n",
       "            <th>NUM_EMPLOYEES</th>\n",
       "            <th>AVG_SALARY</th>\n",
       "        </tr>\n",
       "    </thead>\n",
       "    <tbody>\n",
       "        <tr>\n",
       "            <td>7</td>\n",
       "            <td>3</td>\n",
       "            <td>66666.66666666667</td>\n",
       "        </tr>\n",
       "        <tr>\n",
       "            <td>2</td>\n",
       "            <td>3</td>\n",
       "            <td>86666.66666666667</td>\n",
       "        </tr>\n",
       "    </tbody>\n",
       "</table>"
      ],
      "text/plain": [
       "[('7', 3, 66666.66666666667), ('2', 3, 86666.66666666667)]"
      ]
     },
     "execution_count": 23,
     "metadata": {},
     "output_type": "execute_result"
    }
   ],
   "source": [
    "%%sql\n",
    "\n",
    "SELECT DEP_ID, COUNT(*) AS \"NUM_EMPLOYEES\", AVG(SALARY) AS \"AVG_SALARY\"\n",
    "FROM EMPLOYEES\n",
    "GROUP BY DEP_ID\n",
    "HAVING count(*) < 4\n",
    "ORDER BY AVG_SALARY;"
   ]
  },
  {
   "cell_type": "markdown",
   "id": "95c08437",
   "metadata": {},
   "source": [
    "## Practice Questions\n"
   ]
  },
  {
   "cell_type": "markdown",
   "id": "3f0eeb80",
   "metadata": {},
   "source": [
    "#### 1.Retrieve the list of all employees, first and last names, whose first names start with ‘S’.\n"
   ]
  },
  {
   "cell_type": "code",
   "execution_count": 28,
   "id": "8ab22c81",
   "metadata": {},
   "outputs": [
    {
     "name": "stdout",
     "output_type": "stream",
     "text": [
      " * sqlite:///HR.db\n",
      "Done.\n"
     ]
    },
    {
     "data": {
      "text/html": [
       "<table>\n",
       "    <thead>\n",
       "        <tr>\n",
       "            <th>F_NAME</th>\n",
       "            <th>L_NAME</th>\n",
       "        </tr>\n",
       "    </thead>\n",
       "    <tbody>\n",
       "        <tr>\n",
       "            <td>Steve</td>\n",
       "            <td>Wells</td>\n",
       "        </tr>\n",
       "        <tr>\n",
       "            <td>Santosh</td>\n",
       "            <td>Kumar</td>\n",
       "        </tr>\n",
       "    </tbody>\n",
       "</table>"
      ],
      "text/plain": [
       "[('Steve', 'Wells'), ('Santosh', 'Kumar')]"
      ]
     },
     "execution_count": 28,
     "metadata": {},
     "output_type": "execute_result"
    }
   ],
   "source": [
    "%%sql\n",
    "SELECT F_NAME, L_NAME\n",
    "FROM EMPLOYEES\n",
    "where F_NAME like 'S%';"
   ]
  },
  {
   "cell_type": "markdown",
   "id": "f76f6c66",
   "metadata": {},
   "source": [
    "#### 2. Arrange all the records of the EMPLOYEES table in ascending order of the date of birth.\n"
   ]
  },
  {
   "cell_type": "code",
   "execution_count": 30,
   "id": "4d83d1ee",
   "metadata": {
    "scrolled": true
   },
   "outputs": [
    {
     "name": "stdout",
     "output_type": "stream",
     "text": [
      " * sqlite:///HR.db\n",
      "Done.\n"
     ]
    },
    {
     "data": {
      "text/html": [
       "<table>\n",
       "    <thead>\n",
       "        <tr>\n",
       "            <th>EMP_ID</th>\n",
       "            <th>F_NAME</th>\n",
       "            <th>L_NAME</th>\n",
       "            <th>SSN</th>\n",
       "            <th>B_DATE</th>\n",
       "            <th>SEX</th>\n",
       "            <th>ADDRESS</th>\n",
       "            <th>JOB_ID</th>\n",
       "            <th>SALARY</th>\n",
       "            <th>MANAGER_ID</th>\n",
       "            <th>DEP_ID</th>\n",
       "        </tr>\n",
       "    </thead>\n",
       "    <tbody>\n",
       "        <tr>\n",
       "            <td>E1002</td>\n",
       "            <td>Alice</td>\n",
       "            <td>James</td>\n",
       "            <td>123457</td>\n",
       "            <td>1934</td>\n",
       "            <td>F</td>\n",
       "            <td>980 Berry ln, Elgin,IL</td>\n",
       "            <td>200</td>\n",
       "            <td>80000</td>\n",
       "            <td>30002</td>\n",
       "            <td>5</td>\n",
       "        </tr>\n",
       "        <tr>\n",
       "            <td>E1010</td>\n",
       "            <td>Ann</td>\n",
       "            <td>Jacob</td>\n",
       "            <td>123415</td>\n",
       "            <td>1949</td>\n",
       "            <td>F</td>\n",
       "            <td>111 Britany Springs,Elgin,IL</td>\n",
       "            <td>220</td>\n",
       "            <td>70000</td>\n",
       "            <td>30002</td>\n",
       "            <td>5</td>\n",
       "        </tr>\n",
       "        <tr>\n",
       "            <td>E1004</td>\n",
       "            <td>Santosh</td>\n",
       "            <td>Kumar</td>\n",
       "            <td>123459</td>\n",
       "            <td>1958</td>\n",
       "            <td>M</td>\n",
       "            <td>511 Aurora Av, Aurora,IL</td>\n",
       "            <td>400</td>\n",
       "            <td>60000</td>\n",
       "            <td>30002</td>\n",
       "            <td>5</td>\n",
       "        </tr>\n",
       "        <tr>\n",
       "            <td>E1003</td>\n",
       "            <td>Steve</td>\n",
       "            <td>Wells</td>\n",
       "            <td>123458</td>\n",
       "            <td>1962</td>\n",
       "            <td>M</td>\n",
       "            <td>291 Springs, Gary,IL</td>\n",
       "            <td>300</td>\n",
       "            <td>50000</td>\n",
       "            <td>30002</td>\n",
       "            <td>5</td>\n",
       "        </tr>\n",
       "        <tr>\n",
       "            <td>E1007</td>\n",
       "            <td>Mary</td>\n",
       "            <td>Thomas</td>\n",
       "            <td>123412</td>\n",
       "            <td>1965</td>\n",
       "            <td>F</td>\n",
       "            <td>100 Rose Pl, Gary,IL</td>\n",
       "            <td>650</td>\n",
       "            <td>65000</td>\n",
       "            <td>30003</td>\n",
       "            <td>7</td>\n",
       "        </tr>\n",
       "        <tr>\n",
       "            <td>E1001</td>\n",
       "            <td>John</td>\n",
       "            <td>Thomas</td>\n",
       "            <td>123456</td>\n",
       "            <td>1966</td>\n",
       "            <td>M</td>\n",
       "            <td>5631 Rice, OakPark,IL</td>\n",
       "            <td>100</td>\n",
       "            <td>100000</td>\n",
       "            <td>30001</td>\n",
       "            <td>2</td>\n",
       "        </tr>\n",
       "        <tr>\n",
       "            <td>E1006</td>\n",
       "            <td>Nancy</td>\n",
       "            <td>Allen</td>\n",
       "            <td>123411</td>\n",
       "            <td>1970</td>\n",
       "            <td>F</td>\n",
       "            <td>111 Green Pl, Elgin,IL</td>\n",
       "            <td>600</td>\n",
       "            <td>90000</td>\n",
       "            <td>30001</td>\n",
       "            <td>2</td>\n",
       "        </tr>\n",
       "        <tr>\n",
       "            <td>E1008</td>\n",
       "            <td>Bharath</td>\n",
       "            <td>Gupta</td>\n",
       "            <td>123413</td>\n",
       "            <td>1974</td>\n",
       "            <td>M</td>\n",
       "            <td>145 Berry Ln, Naperville,IL</td>\n",
       "            <td>660</td>\n",
       "            <td>65000</td>\n",
       "            <td>30003</td>\n",
       "            <td>7</td>\n",
       "        </tr>\n",
       "        <tr>\n",
       "            <td>E1009</td>\n",
       "            <td>Andrea</td>\n",
       "            <td>Jones</td>\n",
       "            <td>123414</td>\n",
       "            <td>1974</td>\n",
       "            <td>F</td>\n",
       "            <td>120 Fall Creek, Gary,IL</td>\n",
       "            <td>234</td>\n",
       "            <td>70000</td>\n",
       "            <td>30003</td>\n",
       "            <td>7</td>\n",
       "        </tr>\n",
       "        <tr>\n",
       "            <td>E1005</td>\n",
       "            <td>Ahmed</td>\n",
       "            <td>Hussain</td>\n",
       "            <td>123410</td>\n",
       "            <td>1976</td>\n",
       "            <td>M</td>\n",
       "            <td>216 Oak Tree, Geneva,IL</td>\n",
       "            <td>500</td>\n",
       "            <td>70000</td>\n",
       "            <td>30001</td>\n",
       "            <td>2</td>\n",
       "        </tr>\n",
       "    </tbody>\n",
       "</table>"
      ],
      "text/plain": [
       "[('E1002', 'Alice', 'James', '123457', 1934, 'F', '980 Berry ln, Elgin,IL', '200', 80000, '30002', '5'),\n",
       " ('E1010', 'Ann', 'Jacob', '123415', 1949, 'F', '111 Britany Springs,Elgin,IL', '220', 70000, '30002', '5'),\n",
       " ('E1004', 'Santosh', 'Kumar', '123459', 1958, 'M', '511 Aurora Av, Aurora,IL', '400', 60000, '30002', '5'),\n",
       " ('E1003', 'Steve', 'Wells', '123458', 1962, 'M', '291 Springs, Gary,IL', '300', 50000, '30002', '5'),\n",
       " ('E1007', 'Mary', 'Thomas', '123412', 1965, 'F', '100 Rose Pl, Gary,IL', '650', 65000, '30003', '7'),\n",
       " ('E1001', 'John', 'Thomas', '123456', 1966, 'M', '5631 Rice, OakPark,IL', '100', 100000, '30001', '2'),\n",
       " ('E1006', 'Nancy', 'Allen', '123411', 1970, 'F', '111 Green Pl, Elgin,IL', '600', 90000, '30001', '2'),\n",
       " ('E1008', 'Bharath', 'Gupta', '123413', 1974, 'M', '145 Berry Ln, Naperville,IL', '660', 65000, '30003', '7'),\n",
       " ('E1009', 'Andrea', 'Jones', '123414', 1974, 'F', '120 Fall Creek, Gary,IL', '234', 70000, '30003', '7'),\n",
       " ('E1005', 'Ahmed', 'Hussain', '123410', 1976, 'M', '216 Oak Tree, Geneva,IL', '500', 70000, '30001', '2')]"
      ]
     },
     "execution_count": 30,
     "metadata": {},
     "output_type": "execute_result"
    }
   ],
   "source": [
    "%%sql\n",
    "\n",
    "SELECT* FROM EMPLOYEES\n",
    "ORDER BY B_DATE"
   ]
  },
  {
   "cell_type": "markdown",
   "id": "5453b60b",
   "metadata": {},
   "source": [
    "#### 3. Group the records in terms of the department IDs and filter them of ones that have average salary more than or equal to 60000. Display the department ID and the average salary."
   ]
  },
  {
   "cell_type": "code",
   "execution_count": 36,
   "id": "c05952e6",
   "metadata": {
    "scrolled": true
   },
   "outputs": [
    {
     "name": "stdout",
     "output_type": "stream",
     "text": [
      " * sqlite:///HR.db\n",
      "Done.\n"
     ]
    },
    {
     "data": {
      "text/html": [
       "<table>\n",
       "    <thead>\n",
       "        <tr>\n",
       "            <th>DEP_ID</th>\n",
       "            <th>avg_salary</th>\n",
       "        </tr>\n",
       "    </thead>\n",
       "    <tbody>\n",
       "        <tr>\n",
       "            <td>2</td>\n",
       "            <td>86666.66666666667</td>\n",
       "        </tr>\n",
       "        <tr>\n",
       "            <td>5</td>\n",
       "            <td>65000.0</td>\n",
       "        </tr>\n",
       "        <tr>\n",
       "            <td>7</td>\n",
       "            <td>66666.66666666667</td>\n",
       "        </tr>\n",
       "    </tbody>\n",
       "</table>"
      ],
      "text/plain": [
       "[('2', 86666.66666666667), ('5', 65000.0), ('7', 66666.66666666667)]"
      ]
     },
     "execution_count": 36,
     "metadata": {},
     "output_type": "execute_result"
    }
   ],
   "source": [
    "%%sql\n",
    "SELECT DEP_ID,AVG(SALARY) as avg_salary from EMPLOYEES\n",
    "GROUP BY DEP_ID\n",
    "HAVING AVG(SALARY) >= 60000;\n"
   ]
  },
  {
   "cell_type": "markdown",
   "id": "3d5556a4",
   "metadata": {},
   "source": [
    "#### For the problem above, sort the results for each group in descending order of average salary.\n"
   ]
  },
  {
   "cell_type": "code",
   "execution_count": 38,
   "id": "d4995bd3",
   "metadata": {
    "scrolled": false
   },
   "outputs": [
    {
     "name": "stdout",
     "output_type": "stream",
     "text": [
      " * sqlite:///HR.db\n",
      "Done.\n"
     ]
    },
    {
     "data": {
      "text/html": [
       "<table>\n",
       "    <thead>\n",
       "        <tr>\n",
       "            <th>DEP_ID</th>\n",
       "            <th>avg_salary</th>\n",
       "        </tr>\n",
       "    </thead>\n",
       "    <tbody>\n",
       "        <tr>\n",
       "            <td>2</td>\n",
       "            <td>86666.66666666667</td>\n",
       "        </tr>\n",
       "        <tr>\n",
       "            <td>7</td>\n",
       "            <td>66666.66666666667</td>\n",
       "        </tr>\n",
       "        <tr>\n",
       "            <td>5</td>\n",
       "            <td>65000.0</td>\n",
       "        </tr>\n",
       "    </tbody>\n",
       "</table>"
      ],
      "text/plain": [
       "[('2', 86666.66666666667), ('7', 66666.66666666667), ('5', 65000.0)]"
      ]
     },
     "execution_count": 38,
     "metadata": {},
     "output_type": "execute_result"
    }
   ],
   "source": [
    "%%sql\n",
    "SELECT DEP_ID,AVG(SALARY) as avg_salary from EMPLOYEES\n",
    "GROUP BY DEP_ID\n",
    "HAVING AVG(SALARY) >= 60000\n",
    "order by AVG(SALARY) desc"
   ]
  },
  {
   "cell_type": "markdown",
   "id": "361376da",
   "metadata": {},
   "source": [
    "### Exercise 1: String Patterns\n"
   ]
  },
  {
   "cell_type": "markdown",
   "id": "fb24652b",
   "metadata": {},
   "source": [
    "#### 1. Retrieve all employees whose address is in Elgin,IL.\n",
    "\n"
   ]
  },
  {
   "cell_type": "code",
   "execution_count": 42,
   "id": "9757402e",
   "metadata": {},
   "outputs": [
    {
     "name": "stdout",
     "output_type": "stream",
     "text": [
      " * sqlite:///HR.db\n",
      "Done.\n"
     ]
    },
    {
     "data": {
      "text/html": [
       "<table>\n",
       "    <thead>\n",
       "        <tr>\n",
       "            <th>EMP_ID</th>\n",
       "            <th>F_NAME</th>\n",
       "            <th>L_NAME</th>\n",
       "            <th>SSN</th>\n",
       "            <th>B_DATE</th>\n",
       "            <th>SEX</th>\n",
       "            <th>ADDRESS</th>\n",
       "            <th>JOB_ID</th>\n",
       "            <th>SALARY</th>\n",
       "            <th>MANAGER_ID</th>\n",
       "            <th>DEP_ID</th>\n",
       "        </tr>\n",
       "    </thead>\n",
       "    <tbody>\n",
       "        <tr>\n",
       "            <td>E1002</td>\n",
       "            <td>Alice</td>\n",
       "            <td>James</td>\n",
       "            <td>123457</td>\n",
       "            <td>1934</td>\n",
       "            <td>F</td>\n",
       "            <td>980 Berry ln, Elgin,IL</td>\n",
       "            <td>200</td>\n",
       "            <td>80000</td>\n",
       "            <td>30002</td>\n",
       "            <td>5</td>\n",
       "        </tr>\n",
       "        <tr>\n",
       "            <td>E1006</td>\n",
       "            <td>Nancy</td>\n",
       "            <td>Allen</td>\n",
       "            <td>123411</td>\n",
       "            <td>1970</td>\n",
       "            <td>F</td>\n",
       "            <td>111 Green Pl, Elgin,IL</td>\n",
       "            <td>600</td>\n",
       "            <td>90000</td>\n",
       "            <td>30001</td>\n",
       "            <td>2</td>\n",
       "        </tr>\n",
       "        <tr>\n",
       "            <td>E1010</td>\n",
       "            <td>Ann</td>\n",
       "            <td>Jacob</td>\n",
       "            <td>123415</td>\n",
       "            <td>1949</td>\n",
       "            <td>F</td>\n",
       "            <td>111 Britany Springs,Elgin,IL</td>\n",
       "            <td>220</td>\n",
       "            <td>70000</td>\n",
       "            <td>30002</td>\n",
       "            <td>5</td>\n",
       "        </tr>\n",
       "    </tbody>\n",
       "</table>"
      ],
      "text/plain": [
       "[('E1002', 'Alice', 'James', '123457', 1934, 'F', '980 Berry ln, Elgin,IL', '200', 80000, '30002', '5'),\n",
       " ('E1006', 'Nancy', 'Allen', '123411', 1970, 'F', '111 Green Pl, Elgin,IL', '600', 90000, '30001', '2'),\n",
       " ('E1010', 'Ann', 'Jacob', '123415', 1949, 'F', '111 Britany Springs,Elgin,IL', '220', 70000, '30002', '5')]"
      ]
     },
     "execution_count": 42,
     "metadata": {},
     "output_type": "execute_result"
    }
   ],
   "source": [
    "%%sql\n",
    "\n",
    "select * from Employees\n",
    "where address like \"%Elgin,IL%\""
   ]
  },
  {
   "cell_type": "markdown",
   "id": "badbe099",
   "metadata": {},
   "source": [
    "#### 2. Retrieve all employees who were born during the 1970’s.\n"
   ]
  },
  {
   "cell_type": "code",
   "execution_count": 43,
   "id": "0b1ca17e",
   "metadata": {},
   "outputs": [
    {
     "name": "stdout",
     "output_type": "stream",
     "text": [
      " * sqlite:///HR.db\n",
      "Done.\n"
     ]
    },
    {
     "data": {
      "text/html": [
       "<table>\n",
       "    <thead>\n",
       "        <tr>\n",
       "            <th>EMP_ID</th>\n",
       "            <th>F_NAME</th>\n",
       "            <th>L_NAME</th>\n",
       "            <th>SSN</th>\n",
       "            <th>B_DATE</th>\n",
       "            <th>SEX</th>\n",
       "            <th>ADDRESS</th>\n",
       "            <th>JOB_ID</th>\n",
       "            <th>SALARY</th>\n",
       "            <th>MANAGER_ID</th>\n",
       "            <th>DEP_ID</th>\n",
       "        </tr>\n",
       "    </thead>\n",
       "    <tbody>\n",
       "        <tr>\n",
       "            <td>E1005</td>\n",
       "            <td>Ahmed</td>\n",
       "            <td>Hussain</td>\n",
       "            <td>123410</td>\n",
       "            <td>1976</td>\n",
       "            <td>M</td>\n",
       "            <td>216 Oak Tree, Geneva,IL</td>\n",
       "            <td>500</td>\n",
       "            <td>70000</td>\n",
       "            <td>30001</td>\n",
       "            <td>2</td>\n",
       "        </tr>\n",
       "        <tr>\n",
       "            <td>E1006</td>\n",
       "            <td>Nancy</td>\n",
       "            <td>Allen</td>\n",
       "            <td>123411</td>\n",
       "            <td>1970</td>\n",
       "            <td>F</td>\n",
       "            <td>111 Green Pl, Elgin,IL</td>\n",
       "            <td>600</td>\n",
       "            <td>90000</td>\n",
       "            <td>30001</td>\n",
       "            <td>2</td>\n",
       "        </tr>\n",
       "        <tr>\n",
       "            <td>E1008</td>\n",
       "            <td>Bharath</td>\n",
       "            <td>Gupta</td>\n",
       "            <td>123413</td>\n",
       "            <td>1974</td>\n",
       "            <td>M</td>\n",
       "            <td>145 Berry Ln, Naperville,IL</td>\n",
       "            <td>660</td>\n",
       "            <td>65000</td>\n",
       "            <td>30003</td>\n",
       "            <td>7</td>\n",
       "        </tr>\n",
       "        <tr>\n",
       "            <td>E1009</td>\n",
       "            <td>Andrea</td>\n",
       "            <td>Jones</td>\n",
       "            <td>123414</td>\n",
       "            <td>1974</td>\n",
       "            <td>F</td>\n",
       "            <td>120 Fall Creek, Gary,IL</td>\n",
       "            <td>234</td>\n",
       "            <td>70000</td>\n",
       "            <td>30003</td>\n",
       "            <td>7</td>\n",
       "        </tr>\n",
       "    </tbody>\n",
       "</table>"
      ],
      "text/plain": [
       "[('E1005', 'Ahmed', 'Hussain', '123410', 1976, 'M', '216 Oak Tree, Geneva,IL', '500', 70000, '30001', '2'),\n",
       " ('E1006', 'Nancy', 'Allen', '123411', 1970, 'F', '111 Green Pl, Elgin,IL', '600', 90000, '30001', '2'),\n",
       " ('E1008', 'Bharath', 'Gupta', '123413', 1974, 'M', '145 Berry Ln, Naperville,IL', '660', 65000, '30003', '7'),\n",
       " ('E1009', 'Andrea', 'Jones', '123414', 1974, 'F', '120 Fall Creek, Gary,IL', '234', 70000, '30003', '7')]"
      ]
     },
     "execution_count": 43,
     "metadata": {},
     "output_type": "execute_result"
    }
   ],
   "source": [
    "%%sql\n",
    "\n",
    "select * from Employees\n",
    "where B_DATE like \"197%\""
   ]
  },
  {
   "cell_type": "markdown",
   "id": "0ea34027",
   "metadata": {},
   "source": [
    "#### 3. Retrieve all employees in department 5 whose salary is between 60000 and 70000.\n"
   ]
  },
  {
   "cell_type": "code",
   "execution_count": 44,
   "id": "d62d77a5",
   "metadata": {},
   "outputs": [
    {
     "name": "stdout",
     "output_type": "stream",
     "text": [
      " * sqlite:///HR.db\n",
      "Done.\n"
     ]
    },
    {
     "data": {
      "text/html": [
       "<table>\n",
       "    <thead>\n",
       "        <tr>\n",
       "            <th>EMP_ID</th>\n",
       "            <th>F_NAME</th>\n",
       "            <th>L_NAME</th>\n",
       "            <th>SSN</th>\n",
       "            <th>B_DATE</th>\n",
       "            <th>SEX</th>\n",
       "            <th>ADDRESS</th>\n",
       "            <th>JOB_ID</th>\n",
       "            <th>SALARY</th>\n",
       "            <th>MANAGER_ID</th>\n",
       "            <th>DEP_ID</th>\n",
       "        </tr>\n",
       "    </thead>\n",
       "    <tbody>\n",
       "        <tr>\n",
       "            <td>E1004</td>\n",
       "            <td>Santosh</td>\n",
       "            <td>Kumar</td>\n",
       "            <td>123459</td>\n",
       "            <td>1958</td>\n",
       "            <td>M</td>\n",
       "            <td>511 Aurora Av, Aurora,IL</td>\n",
       "            <td>400</td>\n",
       "            <td>60000</td>\n",
       "            <td>30002</td>\n",
       "            <td>5</td>\n",
       "        </tr>\n",
       "        <tr>\n",
       "            <td>E1010</td>\n",
       "            <td>Ann</td>\n",
       "            <td>Jacob</td>\n",
       "            <td>123415</td>\n",
       "            <td>1949</td>\n",
       "            <td>F</td>\n",
       "            <td>111 Britany Springs,Elgin,IL</td>\n",
       "            <td>220</td>\n",
       "            <td>70000</td>\n",
       "            <td>30002</td>\n",
       "            <td>5</td>\n",
       "        </tr>\n",
       "    </tbody>\n",
       "</table>"
      ],
      "text/plain": [
       "[('E1004', 'Santosh', 'Kumar', '123459', 1958, 'M', '511 Aurora Av, Aurora,IL', '400', 60000, '30002', '5'),\n",
       " ('E1010', 'Ann', 'Jacob', '123415', 1949, 'F', '111 Britany Springs,Elgin,IL', '220', 70000, '30002', '5')]"
      ]
     },
     "execution_count": 44,
     "metadata": {},
     "output_type": "execute_result"
    }
   ],
   "source": [
    "%%sql\n",
    "\n",
    "select * from Employees\n",
    "where DEP_ID =5 and salary between 60000 and 70000"
   ]
  },
  {
   "cell_type": "markdown",
   "id": "8599c217",
   "metadata": {},
   "source": [
    "#### Exercise 2: Sorting\n"
   ]
  },
  {
   "cell_type": "markdown",
   "id": "b05e952e",
   "metadata": {},
   "source": [
    "#### Retrieve a list of employees ordered by department ID.\n",
    "\n"
   ]
  },
  {
   "cell_type": "code",
   "execution_count": 52,
   "id": "305a7cba",
   "metadata": {},
   "outputs": [
    {
     "name": "stdout",
     "output_type": "stream",
     "text": [
      " * sqlite:///HR.db\n",
      "Done.\n"
     ]
    },
    {
     "data": {
      "text/html": [
       "<table>\n",
       "    <thead>\n",
       "        <tr>\n",
       "            <th>EMP_ID</th>\n",
       "            <th>F_NAME</th>\n",
       "            <th>L_NAME</th>\n",
       "            <th>SSN</th>\n",
       "            <th>B_DATE</th>\n",
       "            <th>SEX</th>\n",
       "            <th>ADDRESS</th>\n",
       "            <th>JOB_ID</th>\n",
       "            <th>SALARY</th>\n",
       "            <th>MANAGER_ID</th>\n",
       "            <th>DEP_ID</th>\n",
       "        </tr>\n",
       "    </thead>\n",
       "    <tbody>\n",
       "        <tr>\n",
       "            <td>E1001</td>\n",
       "            <td>John</td>\n",
       "            <td>Thomas</td>\n",
       "            <td>123456</td>\n",
       "            <td>1966</td>\n",
       "            <td>M</td>\n",
       "            <td>5631 Rice, OakPark,IL</td>\n",
       "            <td>100</td>\n",
       "            <td>100000</td>\n",
       "            <td>30001</td>\n",
       "            <td>2</td>\n",
       "        </tr>\n",
       "        <tr>\n",
       "            <td>E1005</td>\n",
       "            <td>Ahmed</td>\n",
       "            <td>Hussain</td>\n",
       "            <td>123410</td>\n",
       "            <td>1976</td>\n",
       "            <td>M</td>\n",
       "            <td>216 Oak Tree, Geneva,IL</td>\n",
       "            <td>500</td>\n",
       "            <td>70000</td>\n",
       "            <td>30001</td>\n",
       "            <td>2</td>\n",
       "        </tr>\n",
       "        <tr>\n",
       "            <td>E1006</td>\n",
       "            <td>Nancy</td>\n",
       "            <td>Allen</td>\n",
       "            <td>123411</td>\n",
       "            <td>1970</td>\n",
       "            <td>F</td>\n",
       "            <td>111 Green Pl, Elgin,IL</td>\n",
       "            <td>600</td>\n",
       "            <td>90000</td>\n",
       "            <td>30001</td>\n",
       "            <td>2</td>\n",
       "        </tr>\n",
       "        <tr>\n",
       "            <td>E1002</td>\n",
       "            <td>Alice</td>\n",
       "            <td>James</td>\n",
       "            <td>123457</td>\n",
       "            <td>1934</td>\n",
       "            <td>F</td>\n",
       "            <td>980 Berry ln, Elgin,IL</td>\n",
       "            <td>200</td>\n",
       "            <td>80000</td>\n",
       "            <td>30002</td>\n",
       "            <td>5</td>\n",
       "        </tr>\n",
       "        <tr>\n",
       "            <td>E1003</td>\n",
       "            <td>Steve</td>\n",
       "            <td>Wells</td>\n",
       "            <td>123458</td>\n",
       "            <td>1962</td>\n",
       "            <td>M</td>\n",
       "            <td>291 Springs, Gary,IL</td>\n",
       "            <td>300</td>\n",
       "            <td>50000</td>\n",
       "            <td>30002</td>\n",
       "            <td>5</td>\n",
       "        </tr>\n",
       "        <tr>\n",
       "            <td>E1004</td>\n",
       "            <td>Santosh</td>\n",
       "            <td>Kumar</td>\n",
       "            <td>123459</td>\n",
       "            <td>1958</td>\n",
       "            <td>M</td>\n",
       "            <td>511 Aurora Av, Aurora,IL</td>\n",
       "            <td>400</td>\n",
       "            <td>60000</td>\n",
       "            <td>30002</td>\n",
       "            <td>5</td>\n",
       "        </tr>\n",
       "        <tr>\n",
       "            <td>E1010</td>\n",
       "            <td>Ann</td>\n",
       "            <td>Jacob</td>\n",
       "            <td>123415</td>\n",
       "            <td>1949</td>\n",
       "            <td>F</td>\n",
       "            <td>111 Britany Springs,Elgin,IL</td>\n",
       "            <td>220</td>\n",
       "            <td>70000</td>\n",
       "            <td>30002</td>\n",
       "            <td>5</td>\n",
       "        </tr>\n",
       "        <tr>\n",
       "            <td>E1007</td>\n",
       "            <td>Mary</td>\n",
       "            <td>Thomas</td>\n",
       "            <td>123412</td>\n",
       "            <td>1965</td>\n",
       "            <td>F</td>\n",
       "            <td>100 Rose Pl, Gary,IL</td>\n",
       "            <td>650</td>\n",
       "            <td>65000</td>\n",
       "            <td>30003</td>\n",
       "            <td>7</td>\n",
       "        </tr>\n",
       "        <tr>\n",
       "            <td>E1008</td>\n",
       "            <td>Bharath</td>\n",
       "            <td>Gupta</td>\n",
       "            <td>123413</td>\n",
       "            <td>1974</td>\n",
       "            <td>M</td>\n",
       "            <td>145 Berry Ln, Naperville,IL</td>\n",
       "            <td>660</td>\n",
       "            <td>65000</td>\n",
       "            <td>30003</td>\n",
       "            <td>7</td>\n",
       "        </tr>\n",
       "        <tr>\n",
       "            <td>E1009</td>\n",
       "            <td>Andrea</td>\n",
       "            <td>Jones</td>\n",
       "            <td>123414</td>\n",
       "            <td>1974</td>\n",
       "            <td>F</td>\n",
       "            <td>120 Fall Creek, Gary,IL</td>\n",
       "            <td>234</td>\n",
       "            <td>70000</td>\n",
       "            <td>30003</td>\n",
       "            <td>7</td>\n",
       "        </tr>\n",
       "    </tbody>\n",
       "</table>"
      ],
      "text/plain": [
       "[('E1001', 'John', 'Thomas', '123456', 1966, 'M', '5631 Rice, OakPark,IL', '100', 100000, '30001', '2'),\n",
       " ('E1005', 'Ahmed', 'Hussain', '123410', 1976, 'M', '216 Oak Tree, Geneva,IL', '500', 70000, '30001', '2'),\n",
       " ('E1006', 'Nancy', 'Allen', '123411', 1970, 'F', '111 Green Pl, Elgin,IL', '600', 90000, '30001', '2'),\n",
       " ('E1002', 'Alice', 'James', '123457', 1934, 'F', '980 Berry ln, Elgin,IL', '200', 80000, '30002', '5'),\n",
       " ('E1003', 'Steve', 'Wells', '123458', 1962, 'M', '291 Springs, Gary,IL', '300', 50000, '30002', '5'),\n",
       " ('E1004', 'Santosh', 'Kumar', '123459', 1958, 'M', '511 Aurora Av, Aurora,IL', '400', 60000, '30002', '5'),\n",
       " ('E1010', 'Ann', 'Jacob', '123415', 1949, 'F', '111 Britany Springs,Elgin,IL', '220', 70000, '30002', '5'),\n",
       " ('E1007', 'Mary', 'Thomas', '123412', 1965, 'F', '100 Rose Pl, Gary,IL', '650', 65000, '30003', '7'),\n",
       " ('E1008', 'Bharath', 'Gupta', '123413', 1974, 'M', '145 Berry Ln, Naperville,IL', '660', 65000, '30003', '7'),\n",
       " ('E1009', 'Andrea', 'Jones', '123414', 1974, 'F', '120 Fall Creek, Gary,IL', '234', 70000, '30003', '7')]"
      ]
     },
     "execution_count": 52,
     "metadata": {},
     "output_type": "execute_result"
    }
   ],
   "source": [
    "%%sql\n",
    "select * from employees\n",
    "Order by DEP_ID"
   ]
  },
  {
   "cell_type": "markdown",
   "id": "9a9ba0cf",
   "metadata": {},
   "source": [
    "#### 2. Retrieve a list of employees ordered by department name, and within each department ordered alphabetically in descending order by last name."
   ]
  },
  {
   "cell_type": "code",
   "execution_count": 49,
   "id": "92f1091e",
   "metadata": {
    "scrolled": true
   },
   "outputs": [
    {
     "name": "stdout",
     "output_type": "stream",
     "text": [
      " * sqlite:///HR.db\n",
      "Done.\n"
     ]
    },
    {
     "data": {
      "text/html": [
       "<table>\n",
       "    <thead>\n",
       "        <tr>\n",
       "            <th>DEPT_ID_DEP</th>\n",
       "            <th>DEP_NAME</th>\n",
       "            <th>MANAGER_ID</th>\n",
       "            <th>LOC_ID</th>\n",
       "            <th>EMP_ID</th>\n",
       "            <th>F_NAME</th>\n",
       "            <th>L_NAME</th>\n",
       "            <th>SSN</th>\n",
       "            <th>B_DATE</th>\n",
       "            <th>SEX</th>\n",
       "            <th>ADDRESS</th>\n",
       "            <th>JOB_ID</th>\n",
       "            <th>SALARY</th>\n",
       "            <th>MANAGER_ID_1</th>\n",
       "            <th>DEP_ID</th>\n",
       "        </tr>\n",
       "    </thead>\n",
       "    <tbody>\n",
       "        <tr>\n",
       "            <td>2</td>\n",
       "            <td>Architect Group</td>\n",
       "            <td>30001</td>\n",
       "            <td>L0001</td>\n",
       "            <td>E1001</td>\n",
       "            <td>John</td>\n",
       "            <td>Thomas</td>\n",
       "            <td>123456</td>\n",
       "            <td>1966</td>\n",
       "            <td>M</td>\n",
       "            <td>5631 Rice, OakPark,IL</td>\n",
       "            <td>100</td>\n",
       "            <td>100000</td>\n",
       "            <td>30001</td>\n",
       "            <td>2</td>\n",
       "        </tr>\n",
       "        <tr>\n",
       "            <td>2</td>\n",
       "            <td>Architect Group</td>\n",
       "            <td>30001</td>\n",
       "            <td>L0001</td>\n",
       "            <td>E1005</td>\n",
       "            <td>Ahmed</td>\n",
       "            <td>Hussain</td>\n",
       "            <td>123410</td>\n",
       "            <td>1976</td>\n",
       "            <td>M</td>\n",
       "            <td>216 Oak Tree, Geneva,IL</td>\n",
       "            <td>500</td>\n",
       "            <td>70000</td>\n",
       "            <td>30001</td>\n",
       "            <td>2</td>\n",
       "        </tr>\n",
       "        <tr>\n",
       "            <td>2</td>\n",
       "            <td>Architect Group</td>\n",
       "            <td>30001</td>\n",
       "            <td>L0001</td>\n",
       "            <td>E1006</td>\n",
       "            <td>Nancy</td>\n",
       "            <td>Allen</td>\n",
       "            <td>123411</td>\n",
       "            <td>1970</td>\n",
       "            <td>F</td>\n",
       "            <td>111 Green Pl, Elgin,IL</td>\n",
       "            <td>600</td>\n",
       "            <td>90000</td>\n",
       "            <td>30001</td>\n",
       "            <td>2</td>\n",
       "        </tr>\n",
       "        <tr>\n",
       "            <td>7</td>\n",
       "            <td>Design Team</td>\n",
       "            <td>30003</td>\n",
       "            <td>L0003</td>\n",
       "            <td>E1007</td>\n",
       "            <td>Mary</td>\n",
       "            <td>Thomas</td>\n",
       "            <td>123412</td>\n",
       "            <td>1965</td>\n",
       "            <td>F</td>\n",
       "            <td>100 Rose Pl, Gary,IL</td>\n",
       "            <td>650</td>\n",
       "            <td>65000</td>\n",
       "            <td>30003</td>\n",
       "            <td>7</td>\n",
       "        </tr>\n",
       "        <tr>\n",
       "            <td>7</td>\n",
       "            <td>Design Team</td>\n",
       "            <td>30003</td>\n",
       "            <td>L0003</td>\n",
       "            <td>E1009</td>\n",
       "            <td>Andrea</td>\n",
       "            <td>Jones</td>\n",
       "            <td>123414</td>\n",
       "            <td>1974</td>\n",
       "            <td>F</td>\n",
       "            <td>120 Fall Creek, Gary,IL</td>\n",
       "            <td>234</td>\n",
       "            <td>70000</td>\n",
       "            <td>30003</td>\n",
       "            <td>7</td>\n",
       "        </tr>\n",
       "        <tr>\n",
       "            <td>7</td>\n",
       "            <td>Design Team</td>\n",
       "            <td>30003</td>\n",
       "            <td>L0003</td>\n",
       "            <td>E1008</td>\n",
       "            <td>Bharath</td>\n",
       "            <td>Gupta</td>\n",
       "            <td>123413</td>\n",
       "            <td>1974</td>\n",
       "            <td>M</td>\n",
       "            <td>145 Berry Ln, Naperville,IL</td>\n",
       "            <td>660</td>\n",
       "            <td>65000</td>\n",
       "            <td>30003</td>\n",
       "            <td>7</td>\n",
       "        </tr>\n",
       "        <tr>\n",
       "            <td>5</td>\n",
       "            <td>Software Group</td>\n",
       "            <td>30002</td>\n",
       "            <td>L0002</td>\n",
       "            <td>E1003</td>\n",
       "            <td>Steve</td>\n",
       "            <td>Wells</td>\n",
       "            <td>123458</td>\n",
       "            <td>1962</td>\n",
       "            <td>M</td>\n",
       "            <td>291 Springs, Gary,IL</td>\n",
       "            <td>300</td>\n",
       "            <td>50000</td>\n",
       "            <td>30002</td>\n",
       "            <td>5</td>\n",
       "        </tr>\n",
       "        <tr>\n",
       "            <td>5</td>\n",
       "            <td>Software Group</td>\n",
       "            <td>30002</td>\n",
       "            <td>L0002</td>\n",
       "            <td>E1004</td>\n",
       "            <td>Santosh</td>\n",
       "            <td>Kumar</td>\n",
       "            <td>123459</td>\n",
       "            <td>1958</td>\n",
       "            <td>M</td>\n",
       "            <td>511 Aurora Av, Aurora,IL</td>\n",
       "            <td>400</td>\n",
       "            <td>60000</td>\n",
       "            <td>30002</td>\n",
       "            <td>5</td>\n",
       "        </tr>\n",
       "        <tr>\n",
       "            <td>5</td>\n",
       "            <td>Software Group</td>\n",
       "            <td>30002</td>\n",
       "            <td>L0002</td>\n",
       "            <td>E1002</td>\n",
       "            <td>Alice</td>\n",
       "            <td>James</td>\n",
       "            <td>123457</td>\n",
       "            <td>1934</td>\n",
       "            <td>F</td>\n",
       "            <td>980 Berry ln, Elgin,IL</td>\n",
       "            <td>200</td>\n",
       "            <td>80000</td>\n",
       "            <td>30002</td>\n",
       "            <td>5</td>\n",
       "        </tr>\n",
       "        <tr>\n",
       "            <td>5</td>\n",
       "            <td>Software Group</td>\n",
       "            <td>30002</td>\n",
       "            <td>L0002</td>\n",
       "            <td>E1010</td>\n",
       "            <td>Ann</td>\n",
       "            <td>Jacob</td>\n",
       "            <td>123415</td>\n",
       "            <td>1949</td>\n",
       "            <td>F</td>\n",
       "            <td>111 Britany Springs,Elgin,IL</td>\n",
       "            <td>220</td>\n",
       "            <td>70000</td>\n",
       "            <td>30002</td>\n",
       "            <td>5</td>\n",
       "        </tr>\n",
       "    </tbody>\n",
       "</table>"
      ],
      "text/plain": [
       "[('2', 'Architect Group', '30001', 'L0001', 'E1001', 'John', 'Thomas', '123456', 1966, 'M', '5631 Rice, OakPark,IL', '100', 100000, '30001', '2'),\n",
       " ('2', 'Architect Group', '30001', 'L0001', 'E1005', 'Ahmed', 'Hussain', '123410', 1976, 'M', '216 Oak Tree, Geneva,IL', '500', 70000, '30001', '2'),\n",
       " ('2', 'Architect Group', '30001', 'L0001', 'E1006', 'Nancy', 'Allen', '123411', 1970, 'F', '111 Green Pl, Elgin,IL', '600', 90000, '30001', '2'),\n",
       " ('7', 'Design Team', '30003', 'L0003', 'E1007', 'Mary', 'Thomas', '123412', 1965, 'F', '100 Rose Pl, Gary,IL', '650', 65000, '30003', '7'),\n",
       " ('7', 'Design Team', '30003', 'L0003', 'E1009', 'Andrea', 'Jones', '123414', 1974, 'F', '120 Fall Creek, Gary,IL', '234', 70000, '30003', '7'),\n",
       " ('7', 'Design Team', '30003', 'L0003', 'E1008', 'Bharath', 'Gupta', '123413', 1974, 'M', '145 Berry Ln, Naperville,IL', '660', 65000, '30003', '7'),\n",
       " ('5', 'Software Group', '30002', 'L0002', 'E1003', 'Steve', 'Wells', '123458', 1962, 'M', '291 Springs, Gary,IL', '300', 50000, '30002', '5'),\n",
       " ('5', 'Software Group', '30002', 'L0002', 'E1004', 'Santosh', 'Kumar', '123459', 1958, 'M', '511 Aurora Av, Aurora,IL', '400', 60000, '30002', '5'),\n",
       " ('5', 'Software Group', '30002', 'L0002', 'E1002', 'Alice', 'James', '123457', 1934, 'F', '980 Berry ln, Elgin,IL', '200', 80000, '30002', '5'),\n",
       " ('5', 'Software Group', '30002', 'L0002', 'E1010', 'Ann', 'Jacob', '123415', 1949, 'F', '111 Britany Springs,Elgin,IL', '220', 70000, '30002', '5')]"
      ]
     },
     "execution_count": 49,
     "metadata": {},
     "output_type": "execute_result"
    }
   ],
   "source": [
    "%%sql\n",
    "\n",
    "select * from departments,employees\n",
    "WHERE DEP_ID = DEPT_ID_DEP\n",
    "\n",
    "Order by DEP_NAME,L_NAME   desc"
   ]
  },
  {
   "cell_type": "code",
   "execution_count": 51,
   "id": "7d25dcc8",
   "metadata": {},
   "outputs": [
    {
     "name": "stdout",
     "output_type": "stream",
     "text": [
      " * sqlite:///HR.db\n",
      "Done.\n"
     ]
    },
    {
     "data": {
      "text/html": [
       "<table>\n",
       "    <thead>\n",
       "        <tr>\n",
       "            <th>DEP_NAME</th>\n",
       "            <th>F_NAME</th>\n",
       "            <th>L_NAME</th>\n",
       "        </tr>\n",
       "    </thead>\n",
       "    <tbody>\n",
       "        <tr>\n",
       "            <td>Architect Group</td>\n",
       "            <td>John</td>\n",
       "            <td>Thomas</td>\n",
       "        </tr>\n",
       "        <tr>\n",
       "            <td>Architect Group</td>\n",
       "            <td>Ahmed</td>\n",
       "            <td>Hussain</td>\n",
       "        </tr>\n",
       "        <tr>\n",
       "            <td>Architect Group</td>\n",
       "            <td>Nancy</td>\n",
       "            <td>Allen</td>\n",
       "        </tr>\n",
       "        <tr>\n",
       "            <td>Design Team</td>\n",
       "            <td>Mary</td>\n",
       "            <td>Thomas</td>\n",
       "        </tr>\n",
       "        <tr>\n",
       "            <td>Design Team</td>\n",
       "            <td>Andrea</td>\n",
       "            <td>Jones</td>\n",
       "        </tr>\n",
       "        <tr>\n",
       "            <td>Design Team</td>\n",
       "            <td>Bharath</td>\n",
       "            <td>Gupta</td>\n",
       "        </tr>\n",
       "        <tr>\n",
       "            <td>Software Group</td>\n",
       "            <td>Steve</td>\n",
       "            <td>Wells</td>\n",
       "        </tr>\n",
       "        <tr>\n",
       "            <td>Software Group</td>\n",
       "            <td>Santosh</td>\n",
       "            <td>Kumar</td>\n",
       "        </tr>\n",
       "        <tr>\n",
       "            <td>Software Group</td>\n",
       "            <td>Alice</td>\n",
       "            <td>James</td>\n",
       "        </tr>\n",
       "        <tr>\n",
       "            <td>Software Group</td>\n",
       "            <td>Ann</td>\n",
       "            <td>Jacob</td>\n",
       "        </tr>\n",
       "    </tbody>\n",
       "</table>"
      ],
      "text/plain": [
       "[('Architect Group', 'John', 'Thomas'),\n",
       " ('Architect Group', 'Ahmed', 'Hussain'),\n",
       " ('Architect Group', 'Nancy', 'Allen'),\n",
       " ('Design Team', 'Mary', 'Thomas'),\n",
       " ('Design Team', 'Andrea', 'Jones'),\n",
       " ('Design Team', 'Bharath', 'Gupta'),\n",
       " ('Software Group', 'Steve', 'Wells'),\n",
       " ('Software Group', 'Santosh', 'Kumar'),\n",
       " ('Software Group', 'Alice', 'James'),\n",
       " ('Software Group', 'Ann', 'Jacob')]"
      ]
     },
     "execution_count": 51,
     "metadata": {},
     "output_type": "execute_result"
    }
   ],
   "source": [
    "%%sql\n",
    "SELECT D.DEP_NAME , E.F_NAME, E.L_NAME\n",
    "FROM EMPLOYEES as E, DEPARTMENTS as D\n",
    "WHERE E.DEP_ID = D.DEPT_ID_DEP\n",
    "ORDER BY D.DEP_NAME, E.L_NAME DESC;"
   ]
  },
  {
   "cell_type": "markdown",
   "id": "9039ae1c",
   "metadata": {},
   "source": [
    "#### Exercise 3: Grouping\n"
   ]
  },
  {
   "cell_type": "markdown",
   "id": "d5e1716e",
   "metadata": {},
   "source": [
    "#### 1. For each department ID retrieve the number of employees in the department.\n",
    "\n"
   ]
  },
  {
   "cell_type": "code",
   "execution_count": 54,
   "id": "642533fb",
   "metadata": {
    "scrolled": true
   },
   "outputs": [
    {
     "name": "stdout",
     "output_type": "stream",
     "text": [
      " * sqlite:///HR.db\n",
      "Done.\n"
     ]
    },
    {
     "data": {
      "text/html": [
       "<table>\n",
       "    <thead>\n",
       "        <tr>\n",
       "            <th>DEP_ID</th>\n",
       "            <th>num_of_emp</th>\n",
       "        </tr>\n",
       "    </thead>\n",
       "    <tbody>\n",
       "        <tr>\n",
       "            <td>2</td>\n",
       "            <td>3</td>\n",
       "        </tr>\n",
       "        <tr>\n",
       "            <td>5</td>\n",
       "            <td>4</td>\n",
       "        </tr>\n",
       "        <tr>\n",
       "            <td>7</td>\n",
       "            <td>3</td>\n",
       "        </tr>\n",
       "    </tbody>\n",
       "</table>"
      ],
      "text/plain": [
       "[('2', 3), ('5', 4), ('7', 3)]"
      ]
     },
     "execution_count": 54,
     "metadata": {},
     "output_type": "execute_result"
    }
   ],
   "source": [
    "%%sql\n",
    "\n",
    "select DEP_ID, count(*) as num_of_emp from employees\n",
    "Group By DEP_ID"
   ]
  },
  {
   "cell_type": "markdown",
   "id": "d100fb37",
   "metadata": {},
   "source": [
    "#### For each department retrieve the number of employees in the department, and the average employee salary in the department..\n",
    "\n"
   ]
  },
  {
   "cell_type": "code",
   "execution_count": 61,
   "id": "6089d76f",
   "metadata": {},
   "outputs": [
    {
     "name": "stdout",
     "output_type": "stream",
     "text": [
      " * sqlite:///HR.db\n",
      "Done.\n"
     ]
    },
    {
     "data": {
      "text/html": [
       "<table>\n",
       "    <thead>\n",
       "        <tr>\n",
       "            <th>DEP_ID</th>\n",
       "            <th>num_of_emp</th>\n",
       "            <th>AVG(SALARY)</th>\n",
       "        </tr>\n",
       "    </thead>\n",
       "    <tbody>\n",
       "        <tr>\n",
       "            <td>2</td>\n",
       "            <td>3</td>\n",
       "            <td>86666.66666666667</td>\n",
       "        </tr>\n",
       "        <tr>\n",
       "            <td>5</td>\n",
       "            <td>4</td>\n",
       "            <td>65000.0</td>\n",
       "        </tr>\n",
       "        <tr>\n",
       "            <td>7</td>\n",
       "            <td>3</td>\n",
       "            <td>66666.66666666667</td>\n",
       "        </tr>\n",
       "    </tbody>\n",
       "</table>"
      ],
      "text/plain": [
       "[('2', 3, 86666.66666666667), ('5', 4, 65000.0), ('7', 3, 66666.66666666667)]"
      ]
     },
     "execution_count": 61,
     "metadata": {},
     "output_type": "execute_result"
    }
   ],
   "source": [
    "%%sql\n",
    "select DEP_ID,count(*) as num_of_emp,AVG(SALARY) from employees\n",
    "Group By DEP_ID;"
   ]
  },
  {
   "cell_type": "markdown",
   "id": "67b7abf8",
   "metadata": {},
   "source": [
    "#### 3. Label the computed columns in the result set of SQL problem 2 (Exercise 3 Problem 2) as NUM_EMPLOYEES and AVG_SALARY.\n",
    "\n"
   ]
  },
  {
   "cell_type": "code",
   "execution_count": 63,
   "id": "4d21de08",
   "metadata": {},
   "outputs": [
    {
     "name": "stdout",
     "output_type": "stream",
     "text": [
      " * sqlite:///HR.db\n",
      "Done.\n"
     ]
    },
    {
     "data": {
      "text/html": [
       "<table>\n",
       "    <thead>\n",
       "        <tr>\n",
       "            <th>DEP_ID</th>\n",
       "            <th>NUM_EMPLOYEES</th>\n",
       "            <th>AVG_SALARY</th>\n",
       "        </tr>\n",
       "    </thead>\n",
       "    <tbody>\n",
       "        <tr>\n",
       "            <td>2</td>\n",
       "            <td>3</td>\n",
       "            <td>86666.66666666667</td>\n",
       "        </tr>\n",
       "        <tr>\n",
       "            <td>5</td>\n",
       "            <td>4</td>\n",
       "            <td>65000.0</td>\n",
       "        </tr>\n",
       "        <tr>\n",
       "            <td>7</td>\n",
       "            <td>3</td>\n",
       "            <td>66666.66666666667</td>\n",
       "        </tr>\n",
       "    </tbody>\n",
       "</table>"
      ],
      "text/plain": [
       "[('2', 3, 86666.66666666667), ('5', 4, 65000.0), ('7', 3, 66666.66666666667)]"
      ]
     },
     "execution_count": 63,
     "metadata": {},
     "output_type": "execute_result"
    }
   ],
   "source": [
    "%%sql\n",
    "SELECT DEP_ID, COUNT(*) AS \"NUM_EMPLOYEES\", AVG(SALARY) AS \"AVG_SALARY\"\n",
    "FROM EMPLOYEES\n",
    "GROUP BY DEP_ID;"
   ]
  },
  {
   "cell_type": "markdown",
   "id": "c5abead4",
   "metadata": {},
   "source": [
    "#### In SQL problem 3 (Exercise 3 Problem 3), order the result set by Average Salary..\n",
    "\n"
   ]
  },
  {
   "cell_type": "code",
   "execution_count": 65,
   "id": "72eb084c",
   "metadata": {},
   "outputs": [
    {
     "name": "stdout",
     "output_type": "stream",
     "text": [
      " * sqlite:///HR.db\n",
      "Done.\n"
     ]
    },
    {
     "data": {
      "text/html": [
       "<table>\n",
       "    <thead>\n",
       "        <tr>\n",
       "            <th>DEP_ID</th>\n",
       "            <th>NUM_EMPLOYEES</th>\n",
       "            <th>AVG_SALARY</th>\n",
       "        </tr>\n",
       "    </thead>\n",
       "    <tbody>\n",
       "        <tr>\n",
       "            <td>5</td>\n",
       "            <td>4</td>\n",
       "            <td>65000.0</td>\n",
       "        </tr>\n",
       "        <tr>\n",
       "            <td>7</td>\n",
       "            <td>3</td>\n",
       "            <td>66666.66666666667</td>\n",
       "        </tr>\n",
       "        <tr>\n",
       "            <td>2</td>\n",
       "            <td>3</td>\n",
       "            <td>86666.66666666667</td>\n",
       "        </tr>\n",
       "    </tbody>\n",
       "</table>"
      ],
      "text/plain": [
       "[('5', 4, 65000.0), ('7', 3, 66666.66666666667), ('2', 3, 86666.66666666667)]"
      ]
     },
     "execution_count": 65,
     "metadata": {},
     "output_type": "execute_result"
    }
   ],
   "source": [
    "%%sql\n",
    "SELECT DEP_ID, COUNT(*) AS \"NUM_EMPLOYEES\", AVG(SALARY) AS \"AVG_SALARY\"\n",
    "FROM EMPLOYEES\n",
    "GROUP BY DEP_ID\n",
    "ORDER BY AVG_SALARY;\n"
   ]
  },
  {
   "cell_type": "markdown",
   "id": "b6470649",
   "metadata": {},
   "source": [
    "#### In SQL problem 4 (Exercise 3 Problem 4), limit the result to departments with fewer than 4 employees.\n",
    "\n"
   ]
  },
  {
   "cell_type": "code",
   "execution_count": 67,
   "id": "916a3baa",
   "metadata": {
    "scrolled": true
   },
   "outputs": [
    {
     "name": "stdout",
     "output_type": "stream",
     "text": [
      " * sqlite:///HR.db\n",
      "Done.\n"
     ]
    },
    {
     "data": {
      "text/html": [
       "<table>\n",
       "    <thead>\n",
       "        <tr>\n",
       "            <th>DEP_ID</th>\n",
       "            <th>NUM_EMPLOYEES</th>\n",
       "            <th>AVG_SALARY</th>\n",
       "        </tr>\n",
       "    </thead>\n",
       "    <tbody>\n",
       "        <tr>\n",
       "            <td>7</td>\n",
       "            <td>3</td>\n",
       "            <td>66666.66666666667</td>\n",
       "        </tr>\n",
       "        <tr>\n",
       "            <td>2</td>\n",
       "            <td>3</td>\n",
       "            <td>86666.66666666667</td>\n",
       "        </tr>\n",
       "    </tbody>\n",
       "</table>"
      ],
      "text/plain": [
       "[('7', 3, 66666.66666666667), ('2', 3, 86666.66666666667)]"
      ]
     },
     "execution_count": 67,
     "metadata": {},
     "output_type": "execute_result"
    }
   ],
   "source": [
    "%%sql\n",
    "SELECT DEP_ID, COUNT(*) AS \"NUM_EMPLOYEES\", AVG(SALARY) AS \"AVG_SALARY\"\n",
    "FROM EMPLOYEES\n",
    "GROUP BY DEP_ID\n",
    "HAVING count(*) < 4\n",
    "ORDER BY AVG_SALARY;"
   ]
  },
  {
   "cell_type": "markdown",
   "id": "34831bd0",
   "metadata": {},
   "source": [
    "#### You want to select the author's lastname from a table, but you only remember that it starts with the letter J. Which of the following queries uses the correct string pattern? \n",
    "\n",
    "\n",
    "SELECT lastname from author where lastname like ‘J%’ \n",
    "\n",
    "\n",
    "\n",
    "SELECT lastname from author where lastname like ‘J*’ \n",
    "\n",
    "\n",
    "\n",
    "SELECT lastname from author where lastname like ‘J$’ \n",
    "\n",
    "\n",
    "\n",
    "SELECT lastname from author where lastname like ‘J#’ \n",
    "\n",
    "\n",
    "Status: [object Object]\n",
    "1 point\n",
    "2.\n",
    "Question 2\n",
    "In SQL, which of the following will be the correct way to sort a result set in descending order? \n",
    "\n",
    "\n",
    "SELECT ID FROM TABLE_NAME ORDER BY ID DESC \n",
    "\n",
    "\n",
    "\n",
    "SELECT * FROM TABLE_NAME ORDER BY ID DESC \n",
    "\n",
    "\n",
    "\n",
    "SELECT * FROM TABLE_NAME ORDER BY ID \n",
    "\n",
    "\n",
    "\n",
    "SELECT ID FROM TABLE_NAME ORDER BY ID \n",
    "\n",
    "\n",
    "Status: [object Object]\n",
    "1 point\n",
    "3.\n",
    "Question 3\n",
    "What is the role of HAVING clause in SQL queries in MySQL? \n",
    "\n",
    "\n",
    "Acts as an alternative to WHERE clause in SQL queries. \n",
    "\n",
    "\n",
    "\n",
    " It may not necessarily organize the result set in a specific order.\n",
    "\n",
    "\n",
    "\n",
    "Check whether data records meet the specified condition is met or not. \n",
    "\n",
    "\n",
    "\n",
    "Restricts the result set for a query using GROUP BY clause. \n",
    "\n",
    "\n",
    "Status: [object Object]\n",
    "1 point\n",
    "4.\n",
    "Question 4\n",
    "Which of the choices best describe the function of the following SQL query? \n",
    "\n",
    "SELECT * FROM employees ORDER BY emp_name LIMIT 5; \n",
    "\n",
    "\n",
    "Retrieves all the columns of the top 5 rows of the table, sorted alphabetically based on emp_names \n",
    "\n",
    "\n",
    "\n",
    "Retrieves all the columns of the top 5 rows of the table, sorted reverse alphabetically based on emp_names \n",
    "\n",
    "\n",
    "\n",
    "Retrieves the entire contents of the table, sorted alphabetically based on emp_names \n",
    "\n",
    "\n",
    "\n",
    "Retrieves the top 5 emp_names ordered alphabetically. \n",
    "\n",
    "\n",
    "Status: [object Object]\n",
    "1 point\n",
    "5.\n",
    "Question 5\n",
    "Which of the following SQL statements lists the number of customers in each country, showing only the countries with more than five customers? \n",
    "\n",
    "\n",
    "SELECT COUNT(CustomerID), Country FROM Customers GROUP BY Country HAVING CustomerID > 5; \n",
    "\n",
    "\n",
    "\n",
    "SELECT COUNT(CustomerID), Country FROM Customers GROUP BY Country HAVING COUNT(CustomerID) > 5; \n",
    "\n",
    "\n",
    "\n",
    "SELECT COUNT(CustomerID), Country FROM Customers GROUP BY Country HAVING COUNT(CustomerID) < 5; \n",
    "\n",
    "\n",
    "\n",
    "SELECT COUNT(CustomerID), Country FROM Customers GROUP BY Country HAVING COUNT(Customers) > 5; \n",
    "\n",
    "\n",
    "Status: [object Object]\n",
    "1 point\n"
   ]
  },
  {
   "cell_type": "code",
   "execution_count": null,
   "id": "9644f937",
   "metadata": {},
   "outputs": [],
   "source": []
  },
  {
   "cell_type": "code",
   "execution_count": null,
   "id": "c9a936eb",
   "metadata": {},
   "outputs": [],
   "source": []
  },
  {
   "cell_type": "code",
   "execution_count": null,
   "id": "27265d2b",
   "metadata": {},
   "outputs": [],
   "source": []
  }
 ],
 "metadata": {
  "kernelspec": {
   "display_name": "Python 3 (ipykernel)",
   "language": "python",
   "name": "python3"
  },
  "language_info": {
   "codemirror_mode": {
    "name": "ipython",
    "version": 3
   },
   "file_extension": ".py",
   "mimetype": "text/x-python",
   "name": "python",
   "nbconvert_exporter": "python",
   "pygments_lexer": "ipython3",
   "version": "3.11.5"
  }
 },
 "nbformat": 4,
 "nbformat_minor": 5
}
