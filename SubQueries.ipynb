{
 "cells": [
  {
   "cell_type": "markdown",
   "id": "0e1fbaab",
   "metadata": {},
   "source": [
    "#### if you want to fetch multiple datatypes of data from multiple tables we can write join queries\n",
    "- unnecessarily don't write any join query it will degrate your database performanceor it will decrease your query level performance\n",
    "- thats why we need to write sub queries\n"
   ]
  },
  {
   "cell_type": "markdown",
   "id": "17ab022e",
   "metadata": {},
   "source": [
    "#### In which case we have to write sub-queries\n"
   ]
  },
  {
   "cell_type": "code",
   "execution_count": null,
   "id": "25a9ca87",
   "metadata": {},
   "outputs": [],
   "source": []
  },
  {
   "cell_type": "code",
   "execution_count": null,
   "id": "e300774d",
   "metadata": {},
   "outputs": [],
   "source": []
  }
 ],
 "metadata": {
  "kernelspec": {
   "display_name": "Python 3 (ipykernel)",
   "language": "python",
   "name": "python3"
  },
  "language_info": {
   "codemirror_mode": {
    "name": "ipython",
    "version": 3
   },
   "file_extension": ".py",
   "mimetype": "text/x-python",
   "name": "python",
   "nbconvert_exporter": "python",
   "pygments_lexer": "ipython3",
   "version": "3.11.5"
  }
 },
 "nbformat": 4,
 "nbformat_minor": 5
}
