{
 "cells": [
  {
   "cell_type": "markdown",
   "id": "484b3559",
   "metadata": {},
   "source": [
    "## Equi join\n",
    " ---------------\n",
    " \n",
    " `SELECT e.name, e.sal, e.job, d.name, d.loc, i.*`<br>\n",
    "        ` FROM emp e, dept d, incr i`<br>\n",
    "        ` WHERE e.job = 'MANAGER' AND I.INGD = 'i3'`<br>\n",
    "       `  AND e.dptno = d.depno`\n",
    " \n",
    " - INCR table not related to othere table that why we cannot apply INNER JOIN, So we are using EQUI JOIN\n"
   ]
  },
  {
   "cell_type": "markdown",
   "id": "5a81a9b7",
   "metadata": {},
   "source": [
    "###  INNER JOIN \n",
    "------------------\n",
    "\n",
    "` SELECT e.name, e.sal, e.job, d.*`<br>\n",
    "` FROM emp e INNER JOIN dept d`<br>\n",
    "` WHERE e.job = 'CLERK'`\n",
    "\n",
    "- `WHERE` clase is used to write filter condion and `ON` close is used to write join condtion.\n",
    "- we are use JOIN & WHERE both in INNER JOIN\n"
   ]
  },
  {
   "cell_type": "markdown",
   "id": "69406223",
   "metadata": {},
   "source": [
    "### SELF JOIN\n",
    "-----------------\n",
    "Q. Who is working like martin\n",
    "----\n",
    "` SELECT e2.ename, e2.sal, e2.job, e.deptno`<br>\n",
    "` FROM emp e1, emp e2`<br>\n",
    "` AND`<br>\n",
    "` e1.job == e2.job`\n"
   ]
  },
  {
   "cell_type": "markdown",
   "id": "217737c0",
   "metadata": {},
   "source": [
    "#### Q Display emp data Who is working in department whew sumit is working?\n",
    "` SELECT b.* FROM emp a, emp b`<br>\n",
    "` WHERE a.ename = 'SMITH'`<br>\n",
    "` AND`<br>\n",
    "`a.deptno = b.dept.no`\n",
    "- if we select `a.*` (first table) it display duplicate data"
   ]
  },
  {
   "cell_type": "markdown",
   "id": "ff1173a8",
   "metadata": {},
   "source": [
    "### \n",
    "- INNER JOIN is similar to EQUI JOIN\n",
    "- In case of INNER JOIN query in between two tables we should specify INNER JOIN keyword\n",
    "- the `JOIN` condtion you should specify by using `ON ` Clause\n",
    "- If you want to specify filter conditions we should specify under `WHERE` Close at the end of query."
   ]
  },
  {
   "cell_type": "markdown",
   "id": "85ce0007",
   "metadata": {},
   "source": [
    "### Q. Which case we should use INNER JOIN\n",
    "IF you want to use EQUI-JOIN output in Outer JOIN query we need EQUI JOIN OUTPUT\n",
    "in OUTTER JOIN query in such case Dont not use EQUI JOIN query becaouse EQUI JOIN support\n",
    "- WHERE CLAUSE and OUTTER JOIN SUPPORT ON CLAUSE so both aare incompatible\n",
    "- If you need INNER JOIN along with OUTTER JOIN or EQUI JOIN output along with OUTTER JOIN\n",
    "- We should use INNER JOIN only becaouse INNER JOIN Support `ON` CLAUSE and OUTTER JOIN alse support `ON` CLAUSE"
   ]
  },
  {
   "cell_type": "markdown",
   "id": "e31eb19b",
   "metadata": {},
   "source": [
    "##  OUTTER JOIN\n",
    "------------------------\n",
    "- Display all data from one table and only matched data from other table\n",
    "\n",
    "#### Three types of OUTTER JOIN\n",
    "---------------------------------\n",
    "1. LEFT OUTTER JOIN OR LEF JOIN\n",
    "    - All data from left table + only matched data from right table.\n",
    "2. RIGHT OUTTER JOIN OR RIGHT JOIN\n",
    "    - All data from Right table + only matched data from left table\n",
    "3. FULL OUTER JOIN (OR) FULL JOIN\n",
    "    - Matched data from both tables + unmatched data from left table, unmatched data from Right table\n",
    "- Join condition should be specified byusing `ON` Clouse\n",
    "- getting all the data from both table\n",
    "\n",
    "Syntax\n",
    "----------\n",
    "`SELECT Col .......`<br>\n",
    "`FROM table1`<br>\n",
    "`ON <JOIN Cond>`<br>\n",
    "`WHERE <FILTER COND>`<br>\n",
    "`ORDER BY ......`<br>\n",
    "\n"
   ]
  },
  {
   "cell_type": "markdown",
   "id": "b3b94274",
   "metadata": {},
   "source": [
    "- company_table -> compid, compname\n",
    "- prod -> pid,pname,cost,msg,disk,compid\n",
    "#### INNER JOIN\n",
    "`SELECT p.pid, p.name, c.pid,c.compname`<br>\n",
    "`FROM prod p INNER JOIN`<br>\n",
    "`comp c`<br>\n",
    "`ON p.compid = c.compid`\n",
    "'ADD output image here'\n",
    "\n",
    "#### LEFT JOIN\n",
    "`SELECT p.pid, p.name, c.*`<br>\n",
    "`FROM prod p LEFT JOIN comp c`<br>\n",
    "`ON p.compid = c.compid`\n",
    "'add output here'\n",
    "\n",
    "#### -\n",
    "`SELECT p.pid, p.name, c.compid `<br>\n",
    "`FROM prod p RIGHT JOIN`<br>\n",
    "`com c`<br>\n",
    "`ON p.compid = c.compid`\n",
    "\n",
    "#### - \n",
    "` SELECT p.pid, p.name, c.*`<br>\n",
    "`FROM prod p FULL JOIN comp c `<br>\n",
    "`ON p.comid = c.comid`\n"
   ]
  },
  {
   "cell_type": "code",
   "execution_count": null,
   "id": "f84b8d68",
   "metadata": {},
   "outputs": [],
   "source": []
  },
  {
   "cell_type": "code",
   "execution_count": null,
   "id": "a2ed7f0f",
   "metadata": {},
   "outputs": [],
   "source": []
  },
  {
   "cell_type": "code",
   "execution_count": null,
   "id": "ca552467",
   "metadata": {},
   "outputs": [],
   "source": []
  }
 ],
 "metadata": {
  "kernelspec": {
   "display_name": "Python 3 (ipykernel)",
   "language": "python",
   "name": "python3"
  },
  "language_info": {
   "codemirror_mode": {
    "name": "ipython",
    "version": 3
   },
   "file_extension": ".py",
   "mimetype": "text/x-python",
   "name": "python",
   "nbconvert_exporter": "python",
   "pygments_lexer": "ipython3",
   "version": "3.11.5"
  }
 },
 "nbformat": 4,
 "nbformat_minor": 5
}
