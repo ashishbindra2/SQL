{
 "cells": [
  {
   "cell_type": "markdown",
   "id": "713eb996",
   "metadata": {},
   "source": [
    "### SELF JOIN\n",
    "-----------------\n",
    "- A table which is joined itselff is known as self join.\n",
    "- In this case we can use alias name from single table \n",
    "<br>\n",
    "Here alias names are temporary\n",
    "\n",
    "#### employee\n",
    "------\n",
    "| ename   | city | \n",
    "| ------- | ---- | \n",
    "| kiran | mub  | \n",
    "| hari | hyd  | \n",
    "| madhu | hyd  | \n",
    "| smith | delhi  | \n",
    "| scott | mub  | \n",
    "| allen | hyd  | \n",
    "| soumya | channi  | \n",
    "| johai | delhi  | \n",
    "\n",
    "- Ex: Display employee details Who is living in a city where jhonne is living?\n",
    "pic here\n",
    "\n",
    "------\n",
    "1. Goto first alias table and check the employee name \"Jhone\"\n",
    "2. If it is there then get his city'\n",
    "3. Then the city from first alias table is compared with all city names in 2nd alias table.\n",
    "4. If the city values are equal then get the records from (records alias table)alias table"
   ]
  },
  {
   "cell_type": "markdown",
   "id": "2b2d538e",
   "metadata": {},
   "source": [
    "1. ans<br>\n",
    "`SELECT e2.ename, e2.city`<br>\n",
    "`FROM employee e1, employee e2`<br>\n",
    "`AND`<br>\n",
    "`e.city = e2.city`<br>\n",
    "or<br>\n",
    "`SELECT e2.*`<br>\n",
    "`FROM employee e1,employee e2`<br>\n",
    "`WHERE e1.ename = 'Jhone`<br>\n",
    "`AND`<br>\n",
    "`e1.city = e2.city`<br>\n",
    "o/p -> swith delhi, johan delhi"
   ]
  },
  {
   "cell_type": "markdown",
   "id": "d9ff843e",
   "metadata": {},
   "source": [
    "### Q2. Display employee details who is working like 'smit'?\n",
    "----\n",
    "`SELECT e2.* FROM e1, emp e2`<br>\n",
    "`WHERE e1.ename = \"SMIT\" AND e1.job = e2.job` "
   ]
  },
  {
   "cell_type": "markdown",
   "id": "dac063d1",
   "metadata": {},
   "source": [
    "###  Q3. Display customer details who is the city where c5 is living?\n",
    "---------\n",
    "`SELECT c2.* FROM Customers c1, customer c2`<br>\n",
    "`WHERE c1.cid = 'c5' AND c1.city = c2.city;`"
   ]
  },
  {
   "cell_type": "markdown",
   "id": "46493f04",
   "metadata": {},
   "source": [
    "#### Q4. Display employee details who is working like 'clark'\n",
    "-------------\n",
    "`SELECT e2.* FROM emp e1, emp e2`<br>\n",
    "`WHERE e1.ename = 'Clark`<br>\n",
    "`AND`<br>\n",
    "`e1.job = e2.job`<br>"
   ]
  },
  {
   "cell_type": "code",
   "execution_count": null,
   "id": "211844f1",
   "metadata": {},
   "outputs": [],
   "source": []
  },
  {
   "cell_type": "markdown",
   "id": "1c951336",
   "metadata": {},
   "source": [
    "## Equi join -> 4th video\n",
    " ---------------\n",
    " \n",
    " `SELECT e.name, e.sal, e.job, d.name, d.loc, i.*`<br>\n",
    "        ` FROM emp e, dept d, incr i`<br>\n",
    "        ` WHERE e.job = 'MANAGER' AND I.INGD = 'i3'`<br>\n",
    "       `  AND e.dptno = d.depno`\n",
    " \n",
    " - INCR table not related to othere table that why we cannot apply INNER JOIN, So we are using EQUI JOIN\n"
   ]
  },
  {
   "cell_type": "markdown",
   "id": "df11edea",
   "metadata": {},
   "source": [
    "###  INNER JOIN \n",
    "------------------\n",
    "\n",
    "` SELECT e.name, e.sal, e.job, d.*`<br>\n",
    "` FROM emp e INNER JOIN dept d`<br>\n",
    "` WHERE e.job = 'CLERK'`\n",
    "\n",
    "- `WHERE` clase is used to write filter condion and `ON` close is used to write join condtion.\n",
    "- we are use JOIN & WHERE both in INNER JOIN\n"
   ]
  },
  {
   "cell_type": "markdown",
   "id": "af5a183a",
   "metadata": {},
   "source": [
    "### SELF JOIN\n",
    "-----------------\n",
    "Q. Who is working like martin\n",
    "----\n",
    "` SELECT e2.ename, e2.sal, e2.job, e.deptno`<br>\n",
    "` FROM emp e1, emp e2`<br>\n",
    "` AND`<br>\n",
    "` e1.job == e2.job`\n"
   ]
  },
  {
   "cell_type": "markdown",
   "id": "3ac99765",
   "metadata": {},
   "source": [
    "#### Q Display emp data Who is working in department whew sumit is working?\n",
    "` SELECT b.* FROM emp a, emp b`<br>\n",
    "` WHERE a.ename = 'SMITH'`<br>\n",
    "` AND`<br>\n",
    "`a.deptno = b.dept.no`\n",
    "- if we select `a.*` (first table) it display duplicate data"
   ]
  },
  {
   "cell_type": "markdown",
   "id": "8d1bfb81",
   "metadata": {},
   "source": [
    "### \n",
    "- INNER JOIN is similar to EQUI JOIN\n",
    "- In case of INNER JOIN query in between two tables we should specify INNER JOIN keyword\n",
    "- the `JOIN` condtion you should specify by using `ON ` Clause\n",
    "- If you want to specify filter conditions we should specify under `WHERE` Close at the end of query."
   ]
  },
  {
   "cell_type": "markdown",
   "id": "8257e96e",
   "metadata": {},
   "source": [
    "### Q. Which case we should use INNER JOIN\n",
    "IF you want to use EQUI-JOIN output in Outer JOIN query we need EQUI JOIN OUTPUT\n",
    "in OUTTER JOIN query in such case Dont not use EQUI JOIN query becaouse EQUI JOIN support\n",
    "- WHERE CLAUSE and OUTTER JOIN SUPPORT ON CLAUSE so both aare incompatible\n",
    "- If you need INNER JOIN along with OUTTER JOIN or EQUI JOIN output along with OUTTER JOIN\n",
    "- We should use INNER JOIN only becaouse INNER JOIN Support `ON` CLAUSE and OUTTER JOIN alse support `ON` CLAUSE"
   ]
  },
  {
   "cell_type": "markdown",
   "id": "2282dfbf",
   "metadata": {},
   "source": [
    "##  OUTTER JOIN\n",
    "------------------------\n",
    "- Display all data from one table and only matched data from other table\n",
    "\n",
    "#### Three types of OUTTER JOIN\n",
    "---------------------------------\n",
    "1. LEFT OUTTER JOIN OR LEF JOIN\n",
    "    - All data from left table + only matched data from right table.\n",
    "2. RIGHT OUTTER JOIN OR RIGHT JOIN\n",
    "    - All data from Right table + only matched data from left table\n",
    "3. FULL OUTER JOIN (OR) FULL JOIN\n",
    "    - Matched data from both tables + unmatched data from left table, unmatched data from Right table\n",
    "- Join condition should be specified byusing `ON` Clouse\n",
    "- getting all the data from both table\n",
    "\n",
    "Syntax\n",
    "----------\n",
    "`SELECT Col .......`<br>\n",
    "`FROM table1`<br>\n",
    "`ON <JOIN Cond>`<br>\n",
    "`WHERE <FILTER COND>`<br>\n",
    "`ORDER BY ......`<br>\n",
    "\n"
   ]
  },
  {
   "cell_type": "markdown",
   "id": "41d056de",
   "metadata": {},
   "source": [
    "- company_table -> compid, compname\n",
    "- prod -> pid,pname,cost,msg,disk,compid\n",
    "#### INNER JOIN\n",
    "`SELECT p.pid, p.name, c.pid,c.compname`<br>\n",
    "`FROM prod p INNER JOIN`<br>\n",
    "`comp c`<br>\n",
    "`ON p.compid = c.compid`\n",
    "'ADD output image here'\n",
    "\n",
    "#### LEFT JOIN\n",
    "`SELECT p.pid, p.name, c.*`<br>\n",
    "`FROM prod p LEFT JOIN comp c`<br>\n",
    "`ON p.compid = c.compid`\n",
    "'add output here'\n",
    "\n",
    "#### -\n",
    "`SELECT p.pid, p.name, c.compid `<br>\n",
    "`FROM prod p RIGHT JOIN`<br>\n",
    "`com c`<br>\n",
    "`ON p.compid = c.compid`\n",
    "\n",
    "#### - \n",
    "` SELECT p.pid, p.name, c.*`<br>\n",
    "`FROM prod p FULL JOIN comp c `<br>\n",
    "`ON p.comid = c.comid`\n"
   ]
  },
  {
   "cell_type": "markdown",
   "id": "2a715cf2",
   "metadata": {},
   "source": [
    "### \n",
    "`CREATE table deptcp`<br>\n",
    "`AS`<br>\n",
    "`SELECT * FROM dept;`<br>\n",
    "\n",
    "### \n",
    "`UPDATE empcp SET depno = null`<br>\n",
    "`WHERE depno = 30;`\n",
    "commit"
   ]
  },
  {
   "cell_type": "markdown",
   "id": "c47d5fd0",
   "metadata": {},
   "source": [
    "####  Alter table empcp drop column colm\n",
    "-----------------------------------------------------------\n",
    "\n",
    "`SELECT e.ename, e.sal, e.deptno, d.deptno, d.name`<br>\n",
    "`FROM empcp e INNER JOIN deptcp d`<br>\n",
    "`ON e.deptno = d.deptno;`<br>\n",
    "----------------------------------------\n",
    "`SELECT e.ename, e.sal, e.deptno, d.deptno, d.dname`<br>\n",
    "`FROM empcp e LEFT JOIN deptcp d`<br>\n",
    "`ON e.deptnp= d.deptno;`"
   ]
  },
  {
   "cell_type": "code",
   "execution_count": null,
   "id": "041c2fed",
   "metadata": {},
   "outputs": [],
   "source": []
  }
 ],
 "metadata": {
  "kernelspec": {
   "display_name": "Python 3 (ipykernel)",
   "language": "python",
   "name": "python3"
  },
  "language_info": {
   "codemirror_mode": {
    "name": "ipython",
    "version": 3
   },
   "file_extension": ".py",
   "mimetype": "text/x-python",
   "name": "python",
   "nbconvert_exporter": "python",
   "pygments_lexer": "ipython3",
   "version": "3.11.5"
  }
 },
 "nbformat": 4,
 "nbformat_minor": 5
}
