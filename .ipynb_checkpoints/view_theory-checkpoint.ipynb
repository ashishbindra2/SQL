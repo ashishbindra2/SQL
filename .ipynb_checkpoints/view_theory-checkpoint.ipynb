{
 "cells": [
  {
   "cell_type": "markdown",
   "id": "a4c001c3",
   "metadata": {},
   "source": [
    "## Views\n",
    "\n",
    "To maintain information in the form of 2-D (two dimentional) data which is nothing but table."
   ]
  },
  {
   "cell_type": "markdown",
   "id": "da39c0b3",
   "metadata": {},
   "source": [
    "### Q Why we need view?\n",
    "- View is just like a table\n",
    "- View is not maintaing pytysical data but table is maintaing physical data.\n",
    "\n",
    "1. View is database object\n",
    "2. View contains logical copy of data"
   ]
  },
  {
   "cell_type": "markdown",
   "id": "2cfef3af",
   "metadata": {},
   "source": [
    "- You can create view on the table \n",
    "- without table we can create a view but View is not valid that is called force view"
   ]
  },
  {
   "cell_type": "markdown",
   "id": "32e41107",
   "metadata": {},
   "source": [
    "### What is view ?\n",
    "- View is DB Object\n",
    "\n",
    "### Why View\n",
    "- It contains logical copy of data from table."
   ]
  },
  {
   "cell_type": "markdown",
   "id": "0cc3a06b",
   "metadata": {},
   "source": [
    "### What is nessesity to maintain a view?\n",
    "- Provide Security\n",
    "- Increase DB performance"
   ]
  },
  {
   "cell_type": "markdown",
   "id": "04f00283",
   "metadata": {},
   "source": [
    "### Query Execution Process\n",
    "Whenevery query are submitting  the querry in client tool\n",
    "- client tool: SQL star plus window, any GUI tools"
   ]
  }
 ],
 "metadata": {
  "kernelspec": {
   "display_name": "Python 3 (ipykernel)",
   "language": "python",
   "name": "python3"
  },
  "language_info": {
   "codemirror_mode": {
    "name": "ipython",
    "version": 3
   },
   "file_extension": ".py",
   "mimetype": "text/x-python",
   "name": "python",
   "nbconvert_exporter": "python",
   "pygments_lexer": "ipython3",
   "version": "3.11.5"
  }
 },
 "nbformat": 4,
 "nbformat_minor": 5
}
