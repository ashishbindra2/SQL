{
 "cells": [
  {
   "cell_type": "markdown",
   "id": "1c951336",
   "metadata": {},
   "source": [
    "## EQUI JOIN -> 4th video\n",
    " ---------------\n",
    " \n",
    " `SELECT e.name, e.sal, e.job, d.name, d.loc, i.*`<br>\n",
    "        ` FROM emp e, dept d, incr i`<br>\n",
    "        ` WHERE e.job = 'MANAGER' AND I.INGD = 'i3'`<br>\n",
    "       `  AND e.dptno = d.depno`\n",
    " \n",
    " - INCR table not related to othere table that why we cannot apply INNER JOIN, So we are using EQUI JOIN\n"
   ]
  },
  {
   "cell_type": "markdown",
   "id": "df11edea",
   "metadata": {},
   "source": [
    "###  INNER JOIN \n",
    "------------------\n",
    "\n",
    "` SELECT e.name, e.sal, e.job, d.*`<br>\n",
    "` FROM emp e INNER JOIN dept d`<br>\n",
    "` WHERE e.job = 'CLERK'`\n",
    "\n",
    "- `WHERE` clase is used to write filter condion and `ON` close is used to write join condtion.\n",
    "- we are use JOIN & WHERE both in INNER JOIN\n"
   ]
  },
  {
   "cell_type": "markdown",
   "id": "af5a183a",
   "metadata": {},
   "source": [
    "### SELF JOIN\n",
    "-----------------\n",
    "Q. Who is working like martin\n",
    "----\n",
    "` SELECT e2.ename, e2.sal, e2.job, e.deptno`<br>\n",
    "` FROM emp e1, emp e2`<br>\n",
    "` AND`<br>\n",
    "` e1.job == e2.job`\n"
   ]
  },
  {
   "cell_type": "markdown",
   "id": "3ac99765",
   "metadata": {},
   "source": [
    "#### Q Display emp data Who is working in department whew sumit is working?\n",
    "` SELECT b.* FROM emp a, emp b`<br>\n",
    "` WHERE a.ename = 'SMITH'`<br>\n",
    "` AND`<br>\n",
    "`a.deptno = b.dept.no`\n",
    "# - if we select `a.*` (first table) it display duplicate data"
   ]
  },
  {
   "cell_type": "markdown",
   "id": "8d1bfb81",
   "metadata": {},
   "source": [
    "### \n",
    "- INNER JOIN is similar to EQUI JOIN\n",
    "- In case of INNER JOIN query in between two tables we should specify INNER JOIN keyword\n",
    "- the `JOIN` condtion you should specify by using `ON ` Clause\n",
    "- If you want to specify filter conditions we should specify under `WHERE` Close at the end of query."
   ]
  },
  {
   "cell_type": "markdown",
   "id": "8257e96e",
   "metadata": {},
   "source": [
    "### Q. Which case we should use INNER JOIN\n",
    "IF you want to use EQUI-JOIN output in Outer JOIN query we need EQUI JOIN OUTPUT\n",
    "in OUTTER JOIN query in such case Dont not use EQUI JOIN query becaouse EQUI JOIN support\n",
    "- WHERE CLAUSE and OUTTER JOIN SUPPORT ON CLAUSE so both aare incompatible\n",
    "- If you need INNER JOIN along with OUTTER JOIN or EQUI JOIN output along with OUTTER JOIN\n",
    "- We should use INNER JOIN only becaouse INNER JOIN Support `ON` CLAUSE and OUTTER JOIN alse support `ON` CLAUSE"
   ]
  },
  {
   "cell_type": "markdown",
   "id": "2282dfbf",
   "metadata": {},
   "source": [
    "##  OUTTER JOIN\n",
    "------------------------\n",
    "- Display all data from one table and only matched data from other table\n",
    "\n",
    "#### Three types of OUTTER JOIN\n",
    "---------------------------------\n",
    "1. LEFT OUTTER JOIN OR LEF JOIN\n",
    "    - All data from left table + only matched data from right table.\n",
    "2. RIGHT OUTTER JOIN OR RIGHT JOIN\n",
    "    - All data from Right table + only matched data from left table\n",
    "3. FULL OUTER JOIN (OR) FULL JOIN\n",
    "    - Matched data from both tables + unmatched data from left table, unmatched data from Right table\n",
    "- Join condition should be specified byusing `ON` Clouse\n",
    "- getting all the data from both table\n",
    "\n",
    "Syntax\n",
    "----------\n",
    "`SELECT Col .......`<br>\n",
    "`FROM table1`<br>\n",
    "`ON <JOIN Cond>`<br>\n",
    "`WHERE <FILTER COND>`<br>\n",
    "`ORDER BY ......`<br>\n",
    "\n"
   ]
  },
  {
   "cell_type": "markdown",
   "id": "41d056de",
   "metadata": {},
   "source": [
    "- company_table -> compid, compname\n",
    "- prod -> pid,pname,cost,msg,disk,compid\n",
    "#### INNER JOIN\n",
    "`SELECT p.pid, p.name, c.pid,c.compname`<br>\n",
    "`FROM prod p INNER JOIN`<br>\n",
    "`comp c`<br>\n",
    "`ON p.compid = c.compid`\n",
    "'ADD output image here'\n",
    "\n",
    "#### LEFT JOIN\n",
    "`SELECT p.pid, p.name, c.*`<br>\n",
    "`FROM prod p LEFT JOIN comp c`<br>\n",
    "`ON p.compid = c.compid`\n",
    "'add output here'\n",
    "\n",
    "#### -\n",
    "`SELECT p.pid, p.name, c.compid `<br>\n",
    "`FROM prod p RIGHT JOIN`<br>\n",
    "`com c`<br>\n",
    "`ON p.compid = c.compid`\n",
    "\n",
    "#### - \n",
    "` SELECT p.pid, p.name, c.*`<br>\n",
    "`FROM prod p FULL JOIN comp c `<br>\n",
    "`ON p.comid = c.comid`\n"
   ]
  },
  {
   "cell_type": "markdown",
   "id": "2a715cf2",
   "metadata": {},
   "source": [
    "### \n",
    "`CREATE table deptcp`<br>\n",
    "`AS`<br>\n",
    "`SELECT * FROM dept;`<br>\n",
    "\n",
    "### \n",
    "`UPDATE empcp SET depno = null`<br>\n",
    "`WHERE depno = 30;`\n",
    "commit"
   ]
  },
  {
   "cell_type": "markdown",
   "id": "c47d5fd0",
   "metadata": {},
   "source": [
    "####  Alter table empcp drop column colm\n",
    "-----------------------------------------------------------\n",
    "\n",
    "`SELECT e.ename, e.sal, e.deptno, d.deptno, d.name`<br>\n",
    "`FROM empcp e INNER JOIN deptcp d`<br>\n",
    "`ON e.deptno = d.deptno;`<br>\n",
    "----------------------------------------\n",
    "`SELECT e.ename, e.sal, e.deptno, d.deptno, d.dname`<br>\n",
    "`FROM empcp e LEFT JOIN deptcp d`<br>\n",
    "`ON e.deptnp= d.deptno;`"
   ]
  },
  {
   "cell_type": "code",
   "execution_count": null,
   "id": "7d6860cc",
   "metadata": {},
   "outputs": [],
   "source": []
  }
 ],
 "metadata": {
  "kernelspec": {
   "display_name": "Python 3 (ipykernel)",
   "language": "python",
   "name": "python3"
  },
  "language_info": {
   "codemirror_mode": {
    "name": "ipython",
    "version": 3
   },
   "file_extension": ".py",
   "mimetype": "text/x-python",
   "name": "python",
   "nbconvert_exporter": "python",
   "pygments_lexer": "ipython3",
   "version": "3.11.5"
  }
 },
 "nbformat": 4,
 "nbformat_minor": 5
}
