{
 "cells": [
  {
   "cell_type": "markdown",
   "id": "3250ba80",
   "metadata": {},
   "source": [
    "### 1. Integrity constraints\n",
    "\n",
    "It can be called as a declarative way in order to define a business rule for a table's cloumn."
   ]
  },
  {
   "cell_type": "markdown",
   "id": "7e186c23",
   "metadata": {},
   "source": [
    "### 2. Index\n",
    "- It can be called as an optional strucure which is associalted with a table for direct access to the rows.\n",
    "- Index can be created for one or more columns in table."
   ]
  },
  {
   "cell_type": "markdown",
   "id": "2f3d740e",
   "metadata": {},
   "source": [
    "### 3. Extent\n",
    "- It can be defined as a specific number of contigous data blocks in single allocation\n",
    "- it is used to store a specific type of information\n",
    "\n",
    "### 4. List the type of joins used in writing SUBQUeries\n",
    "- Self Join\n",
    "- Outer JOIN\n",
    "- equi-join\n",
    "\n",
    "### List the various Oracle database objects\n",
    "- Table\n",
    "- views\n",
    "- indexes\n",
    "- Synonyms\n",
    "- Squences\n",
    "- TablesAces "
   ]
  },
  {
   "cell_type": "markdown",
   "id": "73d87296",
   "metadata": {},
   "source": [
    "#### 6 Tell about to use of\n",
    "1. Rename\n",
    "2. Alias\n",
    "\n",
    "- Rename: \n",
    "    - It is a permanent name provide to a table or column.\n",
    "\n",
    "- Alias:\n",
    "    - It is tempory name provide to a table or column which get over after the execution of SQL statement"
   ]
  },
  {
   "cell_type": "markdown",
   "id": "fe8d3f7f",
   "metadata": {},
   "source": [
    "### 7. What is View?\n",
    "- It is virtual table which is defined as a stored procedure based on one or more tables.\n",
    "\n",
    "### 8. What are various components of physical databases strucure of oracle database\n",
    "- Oracle database components of three of files\n",
    "1. Data Files\n",
    "2. Redo logo files\n",
    "3. control files\n",
    "\n",
    "### List out components of logocal database strucures of oracle database\n",
    "- Table spaces\n",
    "- Database is schema object\n",
    "\n",
    "### What do you mean by a tablespace?\n",
    "- THere are logical storeage units into which a database dicied.\n",
    "- It is used to group togather the related logical strucure."
   ]
  },
  {
   "cell_type": "markdown",
   "id": "fafbebe7",
   "metadata": {},
   "source": [
    "### 11. What is a synonyms? What are its various types?\n",
    "- A Synonym can be called as an alias for a table, view,squence or program unit.it is basically of two types.\n",
    "- private: Only the owner can access it.\n",
    "- Public: can be accessed by any database user\n",
    "\n",
    "### 12. What are uses of synonyms?\n",
    "- Mask the real name and owner of an object\n",
    "- Provide public access to an object\n",
    "- provide location transparcing for table view or program unit of a remote database.\n",
    "- Siplify the SQL statements for database users"
   ]
  },
  {
   "cell_type": "markdown",
   "id": "2c0292f2",
   "metadata": {},
   "source": [
    "### 13. What do you mean by a deadlock?\n",
    "- When two processes are waiting to update the rows of datable which are locked by another process the sitwation as called deadlock\n",
    "The resion of it to happen are:\n",
    "- Lack of proper row lock commands\n",
    "- Poor design of frontend application\n",
    "0 It reduces the performances of the server servely\n",
    "- There locks get automatically released automatically when a commit/rollback operation is perform or any process is killed externally"
   ]
  },
  {
   "cell_type": "markdown",
   "id": "212b73c1",
   "metadata": {},
   "source": [
    "### "
   ]
  },
  {
   "cell_type": "code",
   "execution_count": null,
   "id": "ea7c0b5d",
   "metadata": {},
   "outputs": [],
   "source": []
  },
  {
   "cell_type": "code",
   "execution_count": null,
   "id": "be94e1d4",
   "metadata": {},
   "outputs": [],
   "source": []
  }
 ],
 "metadata": {
  "kernelspec": {
   "display_name": "Python 3 (ipykernel)",
   "language": "python",
   "name": "python3"
  },
  "language_info": {
   "codemirror_mode": {
    "name": "ipython",
    "version": 3
   },
   "file_extension": ".py",
   "mimetype": "text/x-python",
   "name": "python",
   "nbconvert_exporter": "python",
   "pygments_lexer": "ipython3",
   "version": "3.11.5"
  }
 },
 "nbformat": 4,
 "nbformat_minor": 5
}
