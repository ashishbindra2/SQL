{
 "cells": [
  {
   "cell_type": "markdown",
   "id": "a4c001c3",
   "metadata": {},
   "source": [
    "## Views\n",
    "\n",
    "To maintain information in the form of 2-D (two dimentional) data which is nothing but table."
   ]
  },
  {
   "cell_type": "markdown",
   "id": "da39c0b3",
   "metadata": {},
   "source": [
    "### Q Why we need view?\n",
    "- View is just like a table\n",
    "- View is not maintaing pytysical data but table is maintaing physical data.\n",
    "\n",
    "1. View is database object\n",
    "2. View contains logical copy of data"
   ]
  },
  {
   "cell_type": "markdown",
   "id": "2cfef3af",
   "metadata": {},
   "source": [
    "- You can create view on the table \n",
    "- without table we can create a view but View is not valid that is called force view"
   ]
  },
  {
   "cell_type": "markdown",
   "id": "32e41107",
   "metadata": {},
   "source": [
    "### What is view ?\n",
    "- View is DB Object\n",
    "\n",
    "### Why View\n",
    "- It contains logical copy of data from table."
   ]
  },
  {
   "cell_type": "markdown",
   "id": "0cc3a06b",
   "metadata": {},
   "source": [
    "### What is nessesity to maintain a view?\n",
    "- Provide Security\n",
    "- Increase DB performance"
   ]
  },
  {
   "cell_type": "markdown",
   "id": "04f00283",
   "metadata": {},
   "source": [
    "### Query Execution Process\n",
    "Whenevery query are submitting  the querry in client tool\n",
    "- client tool: SQL star plus window, any GUI tools\n",
    "- GUTI Tools: SQL Developer, Pl SQL Developer for ckient tool it is intracting with oracle engine"
   ]
  },
  {
   "cell_type": "markdown",
   "id": "9457f91a",
   "metadata": {},
   "source": [
    "### Oracle engine\n",
    "- SQL Sstatment Execution\n",
    "- PL/SQL Engine\n",
    "\n",
    "\n",
    "pic digramher\n",
    "anothere digram here\n"
   ]
  },
  {
   "cell_type": "markdown",
   "id": "76dd405b",
   "metadata": {},
   "source": [
    "PL/SQL program is group of statement to perform task, some lines pf programming statement.\n",
    "- SQL queries are submitted to SQL Statment executor\n",
    "- Programming statements are submited to PL/SQL engine\n",
    "- SQL statement executoe is a component which is compling sql queries\n",
    "- PL/SQL engine is a component which is compiling pl programing satatements\n",
    "\n",
    "- once compliation over it is communicat with oracle engine\n",
    "- oracle engine is communcated with oracle DB\n",
    "- From oracle db it will verfy table is there or not.\n",
    "- If table existed then it will get the data from actual data and past it to the client system\n"
   ]
  },
  {
   "cell_type": "markdown",
   "id": "ab132bc3",
   "metadata": {},
   "source": [
    "- DD: Data Dictionary ( Contain metadata)\n",
    "- AD: Actual DAta (Stored in the form of Data blecks)\n",
    "\n",
    "### Meta Data\n",
    "The structures of virtual object tables,squences synonyms, users,procedures packiages triggers alll these object structures mainainted under data dictionary(DD)\n",
    "\n",
    "If we executedthe queries n thime the it will hit n times\n",
    "- eg\n",
    "- A group of 100 people executing the same query 100 number of times each\n",
    "    - 100*100 = 10,000 times: it will hit database\n",
    "- ***The number of hits to the database is incresing automatically database performance will be degraded***\n",
    "- within a short period of time if number of hit or hitting the database there may be many number of hit to db engine the automatically db performanve will be degrade"
   ]
  },
  {
   "cell_type": "markdown",
   "id": "974cf260",
   "metadata": {},
   "source": [
    "### How to reduces no of hit?\n"
   ]
  }
 ],
 "metadata": {
  "kernelspec": {
   "display_name": "Python 3 (ipykernel)",
   "language": "python",
   "name": "python3"
  },
  "language_info": {
   "codemirror_mode": {
    "name": "ipython",
    "version": 3
   },
   "file_extension": ".py",
   "mimetype": "text/x-python",
   "name": "python",
   "nbconvert_exporter": "python",
   "pygments_lexer": "ipython3",
   "version": "3.11.5"
  }
 },
 "nbformat": 4,
 "nbformat_minor": 5
}
