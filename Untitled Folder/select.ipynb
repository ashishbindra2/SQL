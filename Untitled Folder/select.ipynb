{
 "cells": [
  {
   "cell_type": "markdown",
   "id": "481cb853",
   "metadata": {},
   "source": [
    "### Retrieing rows from a table\n",
    "- select statement\n",
    "    - A Data Manipulation Language(DML) statement used to read and modify data\n",
    "    - select statement: Query\n",
    "    - Result from the query: Result set/table\n",
    "    - `select * from <tablename>`"
   ]
  }
 ],
 "metadata": {
  "kernelspec": {
   "display_name": "Python 3 (ipykernel)",
   "language": "python",
   "name": "python3"
  },
  "language_info": {
   "codemirror_mode": {
    "name": "ipython",
    "version": 3
   },
   "file_extension": ".py",
   "mimetype": "text/x-python",
   "name": "python",
   "nbconvert_exporter": "python",
   "pygments_lexer": "ipython3",
   "version": "3.11.5"
  }
 },
 "nbformat": 4,
 "nbformat_minor": 5
}
